{
 "cells": [
  {
   "cell_type": "code",
   "execution_count": 1,
   "metadata": {},
   "outputs": [],
   "source": [
    "import numpy as np\n",
    "import matplotlib.pyplot as plt\n",
    "import pandas as pd\n",
    "from sklearn.preprocessing import MinMaxScaler\n",
    "from tensorflow.keras import Sequential\n",
    "from tensorflow.keras.layers import Dense, LSTM, Dropout\n",
    "from sklearn import metrics"
   ]
  },
  {
   "cell_type": "code",
   "execution_count": 2,
   "metadata": {},
   "outputs": [],
   "source": [
    "train_data = pd.read_csv('Google_Stock_Price_Train.csv', date_parser = True)\n",
    "train_data.head()\n",
    "\n",
    "training_set = train_data.iloc[:,1:2].values"
   ]
  },
  {
   "cell_type": "code",
   "execution_count": 3,
   "metadata": {
    "scrolled": true
   },
   "outputs": [],
   "source": [
    "scaler = MinMaxScaler(feature_range=(0,1))\n",
    "train_set_sc = scaler.fit_transform(training_set)\n",
    "\n"
   ]
  },
  {
   "cell_type": "code",
   "execution_count": 59,
   "metadata": {},
   "outputs": [],
   "source": [
    "X_train=[]\n",
    "y_train = []\n",
    "n=70\n",
    "\n",
    "for i in range(n,len(train_set_sc)):\n",
    "    X_train.append(train_set_sc[i-n: i,0])\n",
    "    y_train.append(train_set_sc[i,0])\n",
    "\n"
   ]
  },
  {
   "cell_type": "code",
   "execution_count": 60,
   "metadata": {},
   "outputs": [
    {
     "data": {
      "text/plain": [
       "(1188, 70, 1)"
      ]
     },
     "execution_count": 60,
     "metadata": {},
     "output_type": "execute_result"
    }
   ],
   "source": [
    "X_train, y_train = np.array(X_train), np.array(y_train)\n",
    "\n",
    "X_train = np.reshape(X_train, (X_train.shape[0], X_train.shape[1], 1))\n",
    "\n",
    "X_train.shape"
   ]
  },
  {
   "cell_type": "code",
   "execution_count": 61,
   "metadata": {},
   "outputs": [],
   "source": [
    "# X_test, y_test = np.array(X_test), np.array(y_test)\n",
    "# print(X_train.shape)\n",
    "# print(y_train.shape)\n",
    "# print('---')\n",
    "#print(y_train)\n",
    "# print(y_test.shape)\n"
   ]
  },
  {
   "cell_type": "markdown",
   "metadata": {},
   "source": [
    "# LSTM MODEL"
   ]
  },
  {
   "cell_type": "code",
   "execution_count": 62,
   "metadata": {},
   "outputs": [],
   "source": [
    "reg = Sequential()\n",
    "reg.add(LSTM(units = 50,return_sequences = True,  input_shape=(X_train.shape[1], 1)))\n",
    "reg.add(Dropout(0.2))\n",
    "\n",
    "\n",
    "#Second LSTM Layer\n",
    "reg.add(LSTM(units = 50, return_sequences = True))\n",
    "reg.add(Dropout(0.2))\n",
    "\n",
    "# Third LSTM Layer\n",
    "reg.add(LSTM(units = 50, return_sequences = True))\n",
    "reg.add(Dropout(0.2))\n",
    "\n",
    "# Fourth LSTM Layer\n",
    "reg.add(LSTM(units = 50))\n",
    "reg.add(Dropout(0.2))\n",
    "\n",
    "# The output layer\n",
    "reg.add(Dense(units = 1))\n",
    "\n",
    "\n",
    "\n",
    "\n",
    "\n",
    "\n",
    "\n",
    "\n",
    "             "
   ]
  },
  {
   "cell_type": "code",
   "execution_count": 63,
   "metadata": {},
   "outputs": [
    {
     "name": "stdout",
     "output_type": "stream",
     "text": [
      "Model: \"sequential_3\"\n",
      "_________________________________________________________________\n",
      "Layer (type)                 Output Shape              Param #   \n",
      "=================================================================\n",
      "lstm_12 (LSTM)               (None, 70, 50)            10400     \n",
      "_________________________________________________________________\n",
      "dropout_12 (Dropout)         (None, 70, 50)            0         \n",
      "_________________________________________________________________\n",
      "lstm_13 (LSTM)               (None, 70, 50)            20200     \n",
      "_________________________________________________________________\n",
      "dropout_13 (Dropout)         (None, 70, 50)            0         \n",
      "_________________________________________________________________\n",
      "lstm_14 (LSTM)               (None, 70, 50)            20200     \n",
      "_________________________________________________________________\n",
      "dropout_14 (Dropout)         (None, 70, 50)            0         \n",
      "_________________________________________________________________\n",
      "lstm_15 (LSTM)               (None, 50)                20200     \n",
      "_________________________________________________________________\n",
      "dropout_15 (Dropout)         (None, 50)                0         \n",
      "_________________________________________________________________\n",
      "dense_3 (Dense)              (None, 1)                 51        \n",
      "=================================================================\n",
      "Total params: 71,051\n",
      "Trainable params: 71,051\n",
      "Non-trainable params: 0\n",
      "_________________________________________________________________\n"
     ]
    },
    {
     "data": {
      "text/plain": [
       "array([[[0.08581368],\n",
       "        [0.09701243],\n",
       "        [0.09433366],\n",
       "        ...,\n",
       "        [0.06782499],\n",
       "        [0.06823424],\n",
       "        [0.07601012]],\n",
       "\n",
       "       [[0.09701243],\n",
       "        [0.09433366],\n",
       "        [0.09156187],\n",
       "        ...,\n",
       "        [0.06823424],\n",
       "        [0.07601012],\n",
       "        [0.08082819]],\n",
       "\n",
       "       [[0.09433366],\n",
       "        [0.09156187],\n",
       "        [0.07984225],\n",
       "        ...,\n",
       "        [0.07601012],\n",
       "        [0.08082819],\n",
       "        [0.05807724]],\n",
       "\n",
       "       ...,\n",
       "\n",
       "       [[0.917665  ],\n",
       "        [0.91130292],\n",
       "        [0.91811147],\n",
       "        ...,\n",
       "        [0.95475854],\n",
       "        [0.95204256],\n",
       "        [0.95163331]],\n",
       "\n",
       "       [[0.91130292],\n",
       "        [0.91811147],\n",
       "        [0.93176576],\n",
       "        ...,\n",
       "        [0.95204256],\n",
       "        [0.95163331],\n",
       "        [0.95725128]],\n",
       "\n",
       "       [[0.91811147],\n",
       "        [0.93176576],\n",
       "        [0.94402485],\n",
       "        ...,\n",
       "        [0.95163331],\n",
       "        [0.95725128],\n",
       "        [0.93796041]]])"
      ]
     },
     "execution_count": 63,
     "metadata": {},
     "output_type": "execute_result"
    }
   ],
   "source": [
    "reg.summary()\n",
    "X_train\n"
   ]
  },
  {
   "cell_type": "code",
   "execution_count": 64,
   "metadata": {},
   "outputs": [],
   "source": [
    "reg.compile(optimizer='adam', loss = 'mean_squared_error')"
   ]
  },
  {
   "cell_type": "code",
   "execution_count": 65,
   "metadata": {},
   "outputs": [
    {
     "name": "stdout",
     "output_type": "stream",
     "text": [
      "Epoch 1/50\n",
      "38/38 [==============================] - 4s 94ms/step - loss: 0.0436\n",
      "Epoch 2/50\n",
      "38/38 [==============================] - 3s 77ms/step - loss: 0.0069\n",
      "Epoch 3/50\n",
      "38/38 [==============================] - 3s 77ms/step - loss: 0.0052\n",
      "Epoch 4/50\n",
      "38/38 [==============================] - 3s 90ms/step - loss: 0.0047\n",
      "Epoch 5/50\n",
      "38/38 [==============================] - 3s 78ms/step - loss: 0.0050\n",
      "Epoch 6/50\n",
      "38/38 [==============================] - 3s 77ms/step - loss: 0.0048\n",
      "Epoch 7/50\n",
      "38/38 [==============================] - 3s 76ms/step - loss: 0.0041\n",
      "Epoch 8/50\n",
      "38/38 [==============================] - 3s 76ms/step - loss: 0.0047\n",
      "Epoch 9/50\n",
      "38/38 [==============================] - 3s 76ms/step - loss: 0.0044\n",
      "Epoch 10/50\n",
      "38/38 [==============================] - 3s 76ms/step - loss: 0.0045\n",
      "Epoch 11/50\n",
      "38/38 [==============================] - 3s 76ms/step - loss: 0.0044\n",
      "Epoch 12/50\n",
      "38/38 [==============================] - 3s 77ms/step - loss: 0.0046\n",
      "Epoch 13/50\n",
      "38/38 [==============================] - 3s 76ms/step - loss: 0.0041\n",
      "Epoch 14/50\n",
      "38/38 [==============================] - 3s 76ms/step - loss: 0.0040\n",
      "Epoch 15/50\n",
      "38/38 [==============================] - 3s 76ms/step - loss: 0.0049\n",
      "Epoch 16/50\n",
      "38/38 [==============================] - 3s 76ms/step - loss: 0.0040\n",
      "Epoch 17/50\n",
      "38/38 [==============================] - 3s 76ms/step - loss: 0.0035\n",
      "Epoch 18/50\n",
      "38/38 [==============================] - 3s 76ms/step - loss: 0.0039\n",
      "Epoch 19/50\n",
      "38/38 [==============================] - 3s 77ms/step - loss: 0.0037\n",
      "Epoch 20/50\n",
      "38/38 [==============================] - 3s 76ms/step - loss: 0.0034\n",
      "Epoch 21/50\n",
      "38/38 [==============================] - 3s 76ms/step - loss: 0.0035\n",
      "Epoch 22/50\n",
      "38/38 [==============================] - 3s 76ms/step - loss: 0.0031\n",
      "Epoch 23/50\n",
      "38/38 [==============================] - 3s 76ms/step - loss: 0.0036\n",
      "Epoch 24/50\n",
      "38/38 [==============================] - 3s 77ms/step - loss: 0.0034\n",
      "Epoch 25/50\n",
      "38/38 [==============================] - 3s 76ms/step - loss: 0.0033\n",
      "Epoch 26/50\n",
      "38/38 [==============================] - 3s 77ms/step - loss: 0.0032\n",
      "Epoch 27/50\n",
      "38/38 [==============================] - 3s 76ms/step - loss: 0.0029\n",
      "Epoch 28/50\n",
      "38/38 [==============================] - 3s 76ms/step - loss: 0.0030\n",
      "Epoch 29/50\n",
      "38/38 [==============================] - 3s 76ms/step - loss: 0.0032\n",
      "Epoch 30/50\n",
      "38/38 [==============================] - 3s 77ms/step - loss: 0.0032\n",
      "Epoch 31/50\n",
      "38/38 [==============================] - 3s 77ms/step - loss: 0.0032\n",
      "Epoch 32/50\n",
      "38/38 [==============================] - 3s 76ms/step - loss: 0.0028\n",
      "Epoch 33/50\n",
      "38/38 [==============================] - 3s 77ms/step - loss: 0.0031\n",
      "Epoch 34/50\n",
      "38/38 [==============================] - 3s 76ms/step - loss: 0.0028\n",
      "Epoch 35/50\n",
      "38/38 [==============================] - 3s 76ms/step - loss: 0.0035\n",
      "Epoch 36/50\n",
      "38/38 [==============================] - 3s 78ms/step - loss: 0.0028\n",
      "Epoch 37/50\n",
      "38/38 [==============================] - 3s 79ms/step - loss: 0.0029\n",
      "Epoch 38/50\n",
      "38/38 [==============================] - 3s 76ms/step - loss: 0.0025\n",
      "Epoch 39/50\n",
      "38/38 [==============================] - 3s 77ms/step - loss: 0.0026\n",
      "Epoch 40/50\n",
      "38/38 [==============================] - 3s 77ms/step - loss: 0.0030\n",
      "Epoch 41/50\n",
      "38/38 [==============================] - 3s 77ms/step - loss: 0.0029\n",
      "Epoch 42/50\n",
      "38/38 [==============================] - 3s 77ms/step - loss: 0.0025\n",
      "Epoch 43/50\n",
      "38/38 [==============================] - 3s 77ms/step - loss: 0.0024\n",
      "Epoch 44/50\n",
      "38/38 [==============================] - 3s 77ms/step - loss: 0.0028\n",
      "Epoch 45/50\n",
      "38/38 [==============================] - 3s 77ms/step - loss: 0.0027\n",
      "Epoch 46/50\n",
      "38/38 [==============================] - 3s 77ms/step - loss: 0.0029\n",
      "Epoch 47/50\n",
      "38/38 [==============================] - 3s 76ms/step - loss: 0.0024\n",
      "Epoch 48/50\n",
      "38/38 [==============================] - 3s 76ms/step - loss: 0.0024\n",
      "Epoch 49/50\n",
      "38/38 [==============================] - 3s 77ms/step - loss: 0.0029\n",
      "Epoch 50/50\n",
      "38/38 [==============================] - 3s 77ms/step - loss: 0.0024\n"
     ]
    },
    {
     "data": {
      "text/plain": [
       "<tensorflow.python.keras.callbacks.History at 0x7f9f4832b590>"
      ]
     },
     "execution_count": 65,
     "metadata": {},
     "output_type": "execute_result"
    }
   ],
   "source": [
    "reg.fit(X_train, y_train, epochs=50,batch_size=32, verbose=1)"
   ]
  },
  {
   "cell_type": "markdown",
   "metadata": {},
   "source": [
    "# PREP TEST DATA TO COMPARE"
   ]
  },
  {
   "cell_type": "code",
   "execution_count": 66,
   "metadata": {
    "scrolled": true
   },
   "outputs": [],
   "source": [
    "test_data = pd.read_csv(\"Google_Stock_Price_Test.csv\")\n",
    "\n",
    "test_set = test_data.iloc[:, 1:2].values"
   ]
  },
  {
   "cell_type": "code",
   "execution_count": 67,
   "metadata": {},
   "outputs": [],
   "source": [
    "data_total = pd.concat((train_data['Open'], test_data['Open']), axis=0)\n",
    "\n",
    "inputs=data_total[len(train_data) - len(test_data) - 50:].values\n",
    "\n",
    "inputs= inputs.reshape(-1,1)\n",
    "\n",
    "inputs = scaler.transform(inputs)\n"
   ]
  },
  {
   "cell_type": "code",
   "execution_count": 68,
   "metadata": {},
   "outputs": [],
   "source": [
    "X_test = []\n",
    "y_test = []\n",
    "n=70\n",
    "\n",
    "for i in range(n,inputs.shape[0]):\n",
    "    X_test.append(inputs[i-n:i,0])\n"
   ]
  },
  {
   "cell_type": "code",
   "execution_count": 73,
   "metadata": {},
   "outputs": [
    {
     "data": {
      "text/plain": [
       "(20, 70, 1)"
      ]
     },
     "execution_count": 73,
     "metadata": {},
     "output_type": "execute_result"
    }
   ],
   "source": [
    "X_test = np.array(X_test)\n",
    "X_test = np.reshape(X_test, (X_test.shape[0],X_test.shape[1], 1))\n",
    "\n",
    "X_test.shape\n"
   ]
  },
  {
   "cell_type": "code",
   "execution_count": 74,
   "metadata": {},
   "outputs": [],
   "source": [
    "y_pred = reg.predict(X_test)"
   ]
  },
  {
   "cell_type": "code",
   "execution_count": 75,
   "metadata": {},
   "outputs": [],
   "source": [
    "y_pred = scaler.inverse_transform(y_pred)"
   ]
  },
  {
   "cell_type": "markdown",
   "metadata": {},
   "source": [
    "# VISUALIZE"
   ]
  },
  {
   "cell_type": "code",
   "execution_count": 76,
   "metadata": {},
   "outputs": [
    {
     "data": {
      "image/png": "[encoded data removed]",
      "text/plain": [
       "<Figure size 1440x360 with 1 Axes>"
      ]
     },
     "metadata": {
      "needs_background": "light"
     },
     "output_type": "display_data"
    }
   ],
   "source": [
    "#Visualize Results\n",
    "plt.figure(figsize=(20,5))\n",
    "plt.plot(test_set, color='red', label = \"Real stock price\")\n",
    "plt.plot(y_pred, color='blue', label = \"Predicted stock price\")\n",
    "plt.title(\"Prediction of Google Stock Price\")\n",
    "plt.xlabel(\"Time\")\n",
    "plt.ylabel(\"Stock Price\")\n",
    "plt.legend()\n",
    "plt.show()"
   ]
  },
  {
   "cell_type": "markdown",
   "metadata": {},
   "source": [
    "# Linear Regression"
   ]
  },
  {
   "cell_type": "code",
   "execution_count": 77,
   "metadata": {},
   "outputs": [],
   "source": [
    "from sklearn.linear_model import LinearRegression\n",
    "from sklearn import metrics"
   ]
  },
  {
   "cell_type": "code",
   "execution_count": 78,
   "metadata": {},
   "outputs": [
    {
     "data": {
      "text/html": [
       "<div>\n",
       "<style scoped>\n",
       "    .dataframe tbody tr th:only-of-type {\n",
       "        vertical-align: middle;\n",
       "    }\n",
       "\n",
       "    .dataframe tbody tr th {\n",
       "        vertical-align: top;\n",
       "    }\n",
       "\n",
       "    .dataframe thead th {\n",
       "        text-align: right;\n",
       "    }\n",
       "</style>\n",
       "<table border=\"1\" class=\"dataframe\">\n",
       "  <thead>\n",
       "    <tr style=\"text-align: right;\">\n",
       "      <th></th>\n",
       "      <th>Date</th>\n",
       "      <th>Open</th>\n",
       "      <th>High</th>\n",
       "      <th>Low</th>\n",
       "      <th>Close</th>\n",
       "      <th>Volume</th>\n",
       "    </tr>\n",
       "  </thead>\n",
       "  <tbody>\n",
       "    <tr>\n",
       "      <th>0</th>\n",
       "      <td>2012-01-03</td>\n",
       "      <td>325.25</td>\n",
       "      <td>332.83</td>\n",
       "      <td>324.97</td>\n",
       "      <td>663.59</td>\n",
       "      <td>7380500.0</td>\n",
       "    </tr>\n",
       "    <tr>\n",
       "      <th>1</th>\n",
       "      <td>2012-01-04</td>\n",
       "      <td>331.27</td>\n",
       "      <td>333.87</td>\n",
       "      <td>329.08</td>\n",
       "      <td>666.45</td>\n",
       "      <td>5749400.0</td>\n",
       "    </tr>\n",
       "    <tr>\n",
       "      <th>2</th>\n",
       "      <td>2012-01-05</td>\n",
       "      <td>329.83</td>\n",
       "      <td>330.75</td>\n",
       "      <td>326.89</td>\n",
       "      <td>657.21</td>\n",
       "      <td>6590300.0</td>\n",
       "    </tr>\n",
       "    <tr>\n",
       "      <th>3</th>\n",
       "      <td>2012-01-06</td>\n",
       "      <td>328.34</td>\n",
       "      <td>328.77</td>\n",
       "      <td>323.68</td>\n",
       "      <td>648.24</td>\n",
       "      <td>5405900.0</td>\n",
       "    </tr>\n",
       "    <tr>\n",
       "      <th>4</th>\n",
       "      <td>2012-01-09</td>\n",
       "      <td>322.04</td>\n",
       "      <td>322.29</td>\n",
       "      <td>309.46</td>\n",
       "      <td>620.76</td>\n",
       "      <td>11688800.0</td>\n",
       "    </tr>\n",
       "  </tbody>\n",
       "</table>\n",
       "</div>"
      ],
      "text/plain": [
       "         Date    Open    High     Low   Close      Volume\n",
       "0  2012-01-03  325.25  332.83  324.97  663.59   7380500.0\n",
       "1  2012-01-04  331.27  333.87  329.08  666.45   5749400.0\n",
       "2  2012-01-05  329.83  330.75  326.89  657.21   6590300.0\n",
       "3  2012-01-06  328.34  328.77  323.68  648.24   5405900.0\n",
       "4  2012-01-09  322.04  322.29  309.46  620.76  11688800.0"
      ]
     },
     "execution_count": 78,
     "metadata": {},
     "output_type": "execute_result"
    }
   ],
   "source": [
    "tr_data = train_data = pd.read_csv('Google_Stock_Price_Train.csv', date_parser = True)\n",
    "tr_data.head()"
   ]
  },
  {
   "cell_type": "code",
   "execution_count": 79,
   "metadata": {},
   "outputs": [
    {
     "data": {
      "text/html": [
       "<div>\n",
       "<style scoped>\n",
       "    .dataframe tbody tr th:only-of-type {\n",
       "        vertical-align: middle;\n",
       "    }\n",
       "\n",
       "    .dataframe tbody tr th {\n",
       "        vertical-align: top;\n",
       "    }\n",
       "\n",
       "    .dataframe thead th {\n",
       "        text-align: right;\n",
       "    }\n",
       "</style>\n",
       "<table border=\"1\" class=\"dataframe\">\n",
       "  <thead>\n",
       "    <tr style=\"text-align: right;\">\n",
       "      <th></th>\n",
       "      <th>Date</th>\n",
       "      <th>Open</th>\n",
       "      <th>High</th>\n",
       "      <th>Low</th>\n",
       "      <th>Close</th>\n",
       "      <th>Volume</th>\n",
       "    </tr>\n",
       "  </thead>\n",
       "  <tbody>\n",
       "    <tr>\n",
       "      <th>0</th>\n",
       "      <td>2017-01-03</td>\n",
       "      <td>778.81</td>\n",
       "      <td>789.63</td>\n",
       "      <td>775.80</td>\n",
       "      <td>786.14</td>\n",
       "      <td>1657300</td>\n",
       "    </tr>\n",
       "    <tr>\n",
       "      <th>1</th>\n",
       "      <td>2017-01-04</td>\n",
       "      <td>788.36</td>\n",
       "      <td>791.34</td>\n",
       "      <td>783.16</td>\n",
       "      <td>786.90</td>\n",
       "      <td>1073000</td>\n",
       "    </tr>\n",
       "    <tr>\n",
       "      <th>2</th>\n",
       "      <td>2017-01-05</td>\n",
       "      <td>786.08</td>\n",
       "      <td>794.48</td>\n",
       "      <td>785.02</td>\n",
       "      <td>794.02</td>\n",
       "      <td>1335200</td>\n",
       "    </tr>\n",
       "    <tr>\n",
       "      <th>3</th>\n",
       "      <td>2017-01-06</td>\n",
       "      <td>795.26</td>\n",
       "      <td>807.90</td>\n",
       "      <td>792.20</td>\n",
       "      <td>806.15</td>\n",
       "      <td>1640200</td>\n",
       "    </tr>\n",
       "    <tr>\n",
       "      <th>4</th>\n",
       "      <td>2017-01-09</td>\n",
       "      <td>806.40</td>\n",
       "      <td>809.97</td>\n",
       "      <td>802.83</td>\n",
       "      <td>806.65</td>\n",
       "      <td>1272400</td>\n",
       "    </tr>\n",
       "  </tbody>\n",
       "</table>\n",
       "</div>"
      ],
      "text/plain": [
       "         Date    Open    High     Low   Close   Volume\n",
       "0  2017-01-03  778.81  789.63  775.80  786.14  1657300\n",
       "1  2017-01-04  788.36  791.34  783.16  786.90  1073000\n",
       "2  2017-01-05  786.08  794.48  785.02  794.02  1335200\n",
       "3  2017-01-06  795.26  807.90  792.20  806.15  1640200\n",
       "4  2017-01-09  806.40  809.97  802.83  806.65  1272400"
      ]
     },
     "execution_count": 79,
     "metadata": {},
     "output_type": "execute_result"
    }
   ],
   "source": [
    "tst_data = pd.read_csv('Google_Stock_Price_Test.csv', date_parser = True)\n",
    "tst_data.head()"
   ]
  },
  {
   "cell_type": "code",
   "execution_count": 80,
   "metadata": {},
   "outputs": [],
   "source": [
    "x_tr = tr_data[['Open','High', 'Low', 'Volume']].values\n",
    "y_tr = tr_data['Close'].values"
   ]
  },
  {
   "cell_type": "code",
   "execution_count": 81,
   "metadata": {},
   "outputs": [],
   "source": [
    "x_tst = tst_data[['Open','High', 'Low', 'Volume']].values\n",
    "y_tst = tst_data['Close'].values"
   ]
  },
  {
   "cell_type": "code",
   "execution_count": 82,
   "metadata": {},
   "outputs": [],
   "source": [
    "x_train, y_train = x_tr, y_tr\n",
    "x_test, y_test = x_tst, y_tst"
   ]
  },
  {
   "cell_type": "code",
   "execution_count": 83,
   "metadata": {},
   "outputs": [
    {
     "data": {
      "text/plain": [
       "LinearRegression(copy_X=True, fit_intercept=True, n_jobs=None, normalize=False)"
      ]
     },
     "execution_count": 83,
     "metadata": {},
     "output_type": "execute_result"
    }
   ],
   "source": [
    "regressor = LinearRegression()\n",
    "regressor.fit(x_train, y_train)"
   ]
  },
  {
   "cell_type": "code",
   "execution_count": 84,
   "metadata": {},
   "outputs": [
    {
     "name": "stdout",
     "output_type": "stream",
     "text": [
      "[ 1.95877680e-01 -1.08853737e+01  1.13095329e+01  3.79742177e-05]\n",
      "360.40172199706365\n"
     ]
    }
   ],
   "source": [
    "print(regressor.coef_)\n",
    "print(regressor.intercept_)"
   ]
  },
  {
   "cell_type": "code",
   "execution_count": 85,
   "metadata": {},
   "outputs": [
    {
     "name": "stdout",
     "output_type": "stream",
     "text": [
      "[754.40588319 798.71235287 795.07824942 743.57927405 829.4820455\n",
      " 842.971888   824.66560288 819.38288804 853.16453882 836.00568628\n",
      " 850.32137505 809.50764    865.09686812 747.53742228 836.37799812\n",
      " 813.03267399 868.59517571 750.37950626 807.90366731 817.04218114]\n"
     ]
    }
   ],
   "source": [
    "predicted = regressor.predict(x_test)\n",
    "print(predicted)"
   ]
  },
  {
   "cell_type": "code",
   "execution_count": 86,
   "metadata": {},
   "outputs": [],
   "source": [
    "dframe = pd.DataFrame({'Actual':y_test.flatten(), 'Predicted':predicted.flatten()})\n"
   ]
  },
  {
   "cell_type": "code",
   "execution_count": 87,
   "metadata": {},
   "outputs": [
    {
     "data": {
      "text/html": [
       "<div>\n",
       "<style scoped>\n",
       "    .dataframe tbody tr th:only-of-type {\n",
       "        vertical-align: middle;\n",
       "    }\n",
       "\n",
       "    .dataframe tbody tr th {\n",
       "        vertical-align: top;\n",
       "    }\n",
       "\n",
       "    .dataframe thead th {\n",
       "        text-align: right;\n",
       "    }\n",
       "</style>\n",
       "<table border=\"1\" class=\"dataframe\">\n",
       "  <thead>\n",
       "    <tr style=\"text-align: right;\">\n",
       "      <th></th>\n",
       "      <th>Actual</th>\n",
       "      <th>Predicted</th>\n",
       "    </tr>\n",
       "  </thead>\n",
       "  <tbody>\n",
       "    <tr>\n",
       "      <th>0</th>\n",
       "      <td>786.14</td>\n",
       "      <td>754.405883</td>\n",
       "    </tr>\n",
       "    <tr>\n",
       "      <th>1</th>\n",
       "      <td>786.90</td>\n",
       "      <td>798.712353</td>\n",
       "    </tr>\n",
       "    <tr>\n",
       "      <th>2</th>\n",
       "      <td>794.02</td>\n",
       "      <td>795.078249</td>\n",
       "    </tr>\n",
       "    <tr>\n",
       "      <th>3</th>\n",
       "      <td>806.15</td>\n",
       "      <td>743.579274</td>\n",
       "    </tr>\n",
       "    <tr>\n",
       "      <th>4</th>\n",
       "      <td>806.65</td>\n",
       "      <td>829.482045</td>\n",
       "    </tr>\n",
       "    <tr>\n",
       "      <th>5</th>\n",
       "      <td>804.79</td>\n",
       "      <td>842.971888</td>\n",
       "    </tr>\n",
       "    <tr>\n",
       "      <th>6</th>\n",
       "      <td>807.91</td>\n",
       "      <td>824.665603</td>\n",
       "    </tr>\n",
       "    <tr>\n",
       "      <th>7</th>\n",
       "      <td>806.36</td>\n",
       "      <td>819.382888</td>\n",
       "    </tr>\n",
       "    <tr>\n",
       "      <th>8</th>\n",
       "      <td>807.88</td>\n",
       "      <td>853.164539</td>\n",
       "    </tr>\n",
       "    <tr>\n",
       "      <th>9</th>\n",
       "      <td>804.61</td>\n",
       "      <td>836.005686</td>\n",
       "    </tr>\n",
       "    <tr>\n",
       "      <th>10</th>\n",
       "      <td>806.07</td>\n",
       "      <td>850.321375</td>\n",
       "    </tr>\n",
       "    <tr>\n",
       "      <th>11</th>\n",
       "      <td>802.17</td>\n",
       "      <td>809.507640</td>\n",
       "    </tr>\n",
       "    <tr>\n",
       "      <th>12</th>\n",
       "      <td>805.02</td>\n",
       "      <td>865.096868</td>\n",
       "    </tr>\n",
       "    <tr>\n",
       "      <th>13</th>\n",
       "      <td>819.31</td>\n",
       "      <td>747.537422</td>\n",
       "    </tr>\n",
       "    <tr>\n",
       "      <th>14</th>\n",
       "      <td>823.87</td>\n",
       "      <td>836.377998</td>\n",
       "    </tr>\n",
       "    <tr>\n",
       "      <th>15</th>\n",
       "      <td>835.67</td>\n",
       "      <td>813.032674</td>\n",
       "    </tr>\n",
       "    <tr>\n",
       "      <th>16</th>\n",
       "      <td>832.15</td>\n",
       "      <td>868.595176</td>\n",
       "    </tr>\n",
       "    <tr>\n",
       "      <th>17</th>\n",
       "      <td>823.31</td>\n",
       "      <td>750.379506</td>\n",
       "    </tr>\n",
       "    <tr>\n",
       "      <th>18</th>\n",
       "      <td>802.32</td>\n",
       "      <td>807.903667</td>\n",
       "    </tr>\n",
       "    <tr>\n",
       "      <th>19</th>\n",
       "      <td>796.79</td>\n",
       "      <td>817.042181</td>\n",
       "    </tr>\n",
       "  </tbody>\n",
       "</table>\n",
       "</div>"
      ],
      "text/plain": [
       "    Actual   Predicted\n",
       "0   786.14  754.405883\n",
       "1   786.90  798.712353\n",
       "2   794.02  795.078249\n",
       "3   806.15  743.579274\n",
       "4   806.65  829.482045\n",
       "5   804.79  842.971888\n",
       "6   807.91  824.665603\n",
       "7   806.36  819.382888\n",
       "8   807.88  853.164539\n",
       "9   804.61  836.005686\n",
       "10  806.07  850.321375\n",
       "11  802.17  809.507640\n",
       "12  805.02  865.096868\n",
       "13  819.31  747.537422\n",
       "14  823.87  836.377998\n",
       "15  835.67  813.032674\n",
       "16  832.15  868.595176\n",
       "17  823.31  750.379506\n",
       "18  802.32  807.903667\n",
       "19  796.79  817.042181"
      ]
     },
     "execution_count": 87,
     "metadata": {},
     "output_type": "execute_result"
    }
   ],
   "source": [
    "dframe.head(50)"
   ]
  },
  {
   "cell_type": "code",
   "execution_count": 88,
   "metadata": {},
   "outputs": [],
   "source": [
    "import math"
   ]
  },
  {
   "cell_type": "code",
   "execution_count": 89,
   "metadata": {},
   "outputs": [
    {
     "data": {
      "image/png": "[encoded data removed]",
      "text/plain": [
       "<Figure size 1440x360 with 1 Axes>"
      ]
     },
     "metadata": {
      "needs_background": "light"
     },
     "output_type": "display_data"
    }
   ],
   "source": [
    "plt.figure(figsize=(20,5))\n",
    "plt.plot(y_test, color='red', label = \"Real stock price\")\n",
    "plt.plot(predicted, color='blue', label = \"Predicted stock price\")\n",
    "plt.title(\"Prediction of Google Stock Price\")\n",
    "plt.xlabel(\"Time\")\n",
    "plt.ylabel(\"Stock Price\")\n",
    "plt.legend()\n",
    "plt.show()"
   ]
  },
  {
   "cell_type": "code",
   "execution_count": null,
   "metadata": {},
   "outputs": [],
   "source": []
  },
  {
   "cell_type": "code",
   "execution_count": null,
   "metadata": {},
   "outputs": [],
   "source": []
  },
  {
   "cell_type": "code",
   "execution_count": null,
   "metadata": {},
   "outputs": [],
   "source": []
  }
 ],
 "metadata": {
  "kernelspec": {
   "display_name": "Python 3",
   "language": "python",
   "name": "python3"
  },
  "language_info": {
   "codemirror_mode": {
    "name": "ipython",
    "version": 3
   },
   "file_extension": ".py",
   "mimetype": "text/x-python",
   "name": "python",
   "nbconvert_exporter": "python",
   "pygments_lexer": "ipython3",
   "version": "3.7.6"
  }
 },
 "nbformat": 4,
 "nbformat_minor": 4
}
