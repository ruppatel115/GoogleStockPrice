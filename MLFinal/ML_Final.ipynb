{
 "cells": [
  {
   "cell_type": "code",
   "execution_count": 1,
   "metadata": {},
   "outputs": [],
   "source": [
    "import numpy as np\n",
    "import matplotlib.pyplot as plt\n",
    "import pandas as pd\n",
    "from sklearn.preprocessing import MinMaxScaler\n",
    "from tensorflow.keras import Sequential\n",
    "from tensorflow.keras.layers import Dense, LSTM, Dropout"
   ]
  },
  {
   "cell_type": "code",
   "execution_count": 2,
   "metadata": {},
   "outputs": [
    {
     "data": {
      "text/html": [
       "<div>\n",
       "<style scoped>\n",
       "    .dataframe tbody tr th:only-of-type {\n",
       "        vertical-align: middle;\n",
       "    }\n",
       "\n",
       "    .dataframe tbody tr th {\n",
       "        vertical-align: top;\n",
       "    }\n",
       "\n",
       "    .dataframe thead th {\n",
       "        text-align: right;\n",
       "    }\n",
       "</style>\n",
       "<table border=\"1\" class=\"dataframe\">\n",
       "  <thead>\n",
       "    <tr style=\"text-align: right;\">\n",
       "      <th></th>\n",
       "      <th>Date</th>\n",
       "      <th>Open</th>\n",
       "      <th>High</th>\n",
       "      <th>Low</th>\n",
       "      <th>Close</th>\n",
       "      <th>Volume</th>\n",
       "    </tr>\n",
       "  </thead>\n",
       "  <tbody>\n",
       "    <tr>\n",
       "      <th>0</th>\n",
       "      <td>2012-01-03</td>\n",
       "      <td>325.25</td>\n",
       "      <td>332.83</td>\n",
       "      <td>324.97</td>\n",
       "      <td>663.59</td>\n",
       "      <td>7380500</td>\n",
       "    </tr>\n",
       "    <tr>\n",
       "      <th>1</th>\n",
       "      <td>2012-01-04</td>\n",
       "      <td>331.27</td>\n",
       "      <td>333.87</td>\n",
       "      <td>329.08</td>\n",
       "      <td>666.45</td>\n",
       "      <td>5749400</td>\n",
       "    </tr>\n",
       "    <tr>\n",
       "      <th>2</th>\n",
       "      <td>2012-01-05</td>\n",
       "      <td>329.83</td>\n",
       "      <td>330.75</td>\n",
       "      <td>326.89</td>\n",
       "      <td>657.21</td>\n",
       "      <td>6590300</td>\n",
       "    </tr>\n",
       "    <tr>\n",
       "      <th>3</th>\n",
       "      <td>2012-01-06</td>\n",
       "      <td>328.34</td>\n",
       "      <td>328.77</td>\n",
       "      <td>323.68</td>\n",
       "      <td>648.24</td>\n",
       "      <td>5405900</td>\n",
       "    </tr>\n",
       "    <tr>\n",
       "      <th>4</th>\n",
       "      <td>2012-01-09</td>\n",
       "      <td>322.04</td>\n",
       "      <td>322.29</td>\n",
       "      <td>309.46</td>\n",
       "      <td>620.76</td>\n",
       "      <td>11688800</td>\n",
       "    </tr>\n",
       "  </tbody>\n",
       "</table>\n",
       "</div>"
      ],
      "text/plain": [
       "         Date    Open    High     Low   Close    Volume\n",
       "0  2012-01-03  325.25  332.83  324.97  663.59   7380500\n",
       "1  2012-01-04  331.27  333.87  329.08  666.45   5749400\n",
       "2  2012-01-05  329.83  330.75  326.89  657.21   6590300\n",
       "3  2012-01-06  328.34  328.77  323.68  648.24   5405900\n",
       "4  2012-01-09  322.04  322.29  309.46  620.76  11688800"
      ]
     },
     "execution_count": 2,
     "metadata": {},
     "output_type": "execute_result"
    }
   ],
   "source": [
    "train_data = pd.read_csv('Google_Stock_Price_Train.csv', date_parser = True)\n",
    "train_data.head()"
   ]
  },
  {
   "cell_type": "code",
   "execution_count": 3,
   "metadata": {},
   "outputs": [
    {
     "data": {
      "text/html": [
       "<div>\n",
       "<style scoped>\n",
       "    .dataframe tbody tr th:only-of-type {\n",
       "        vertical-align: middle;\n",
       "    }\n",
       "\n",
       "    .dataframe tbody tr th {\n",
       "        vertical-align: top;\n",
       "    }\n",
       "\n",
       "    .dataframe thead th {\n",
       "        text-align: right;\n",
       "    }\n",
       "</style>\n",
       "<table border=\"1\" class=\"dataframe\">\n",
       "  <thead>\n",
       "    <tr style=\"text-align: right;\">\n",
       "      <th></th>\n",
       "      <th>Date</th>\n",
       "      <th>Open</th>\n",
       "      <th>High</th>\n",
       "      <th>Low</th>\n",
       "      <th>Close</th>\n",
       "      <th>Volume</th>\n",
       "    </tr>\n",
       "  </thead>\n",
       "  <tbody>\n",
       "    <tr>\n",
       "      <th>0</th>\n",
       "      <td>2017-01-03</td>\n",
       "      <td>778.81</td>\n",
       "      <td>789.63</td>\n",
       "      <td>775.80</td>\n",
       "      <td>786.14</td>\n",
       "      <td>1657300</td>\n",
       "    </tr>\n",
       "    <tr>\n",
       "      <th>1</th>\n",
       "      <td>2017-01-04</td>\n",
       "      <td>788.36</td>\n",
       "      <td>791.34</td>\n",
       "      <td>783.16</td>\n",
       "      <td>786.90</td>\n",
       "      <td>1073000</td>\n",
       "    </tr>\n",
       "    <tr>\n",
       "      <th>2</th>\n",
       "      <td>2017-01-05</td>\n",
       "      <td>786.08</td>\n",
       "      <td>794.48</td>\n",
       "      <td>785.02</td>\n",
       "      <td>794.02</td>\n",
       "      <td>1335200</td>\n",
       "    </tr>\n",
       "    <tr>\n",
       "      <th>3</th>\n",
       "      <td>2017-01-06</td>\n",
       "      <td>795.26</td>\n",
       "      <td>807.90</td>\n",
       "      <td>792.20</td>\n",
       "      <td>806.15</td>\n",
       "      <td>1640200</td>\n",
       "    </tr>\n",
       "    <tr>\n",
       "      <th>4</th>\n",
       "      <td>2017-01-09</td>\n",
       "      <td>806.40</td>\n",
       "      <td>809.97</td>\n",
       "      <td>802.83</td>\n",
       "      <td>806.65</td>\n",
       "      <td>1272400</td>\n",
       "    </tr>\n",
       "  </tbody>\n",
       "</table>\n",
       "</div>"
      ],
      "text/plain": [
       "         Date    Open    High     Low   Close   Volume\n",
       "0  2017-01-03  778.81  789.63  775.80  786.14  1657300\n",
       "1  2017-01-04  788.36  791.34  783.16  786.90  1073000\n",
       "2  2017-01-05  786.08  794.48  785.02  794.02  1335200\n",
       "3  2017-01-06  795.26  807.90  792.20  806.15  1640200\n",
       "4  2017-01-09  806.40  809.97  802.83  806.65  1272400"
      ]
     },
     "execution_count": 3,
     "metadata": {},
     "output_type": "execute_result"
    }
   ],
   "source": [
    "test_data = pd.read_csv('Google_Stock_Price_Test.csv', date_parser = True)\n",
    "test_data.head()"
   ]
  },
  {
   "cell_type": "code",
   "execution_count": 4,
   "metadata": {},
   "outputs": [
    {
     "data": {
      "text/html": [
       "<div>\n",
       "<style scoped>\n",
       "    .dataframe tbody tr th:only-of-type {\n",
       "        vertical-align: middle;\n",
       "    }\n",
       "\n",
       "    .dataframe tbody tr th {\n",
       "        vertical-align: top;\n",
       "    }\n",
       "\n",
       "    .dataframe thead th {\n",
       "        text-align: right;\n",
       "    }\n",
       "</style>\n",
       "<table border=\"1\" class=\"dataframe\">\n",
       "  <thead>\n",
       "    <tr style=\"text-align: right;\">\n",
       "      <th></th>\n",
       "      <th>Open</th>\n",
       "      <th>High</th>\n",
       "      <th>Low</th>\n",
       "      <th>Volume</th>\n",
       "    </tr>\n",
       "  </thead>\n",
       "  <tbody>\n",
       "    <tr>\n",
       "      <th>0</th>\n",
       "      <td>325.25</td>\n",
       "      <td>332.83</td>\n",
       "      <td>324.97</td>\n",
       "      <td>7380500</td>\n",
       "    </tr>\n",
       "    <tr>\n",
       "      <th>1</th>\n",
       "      <td>331.27</td>\n",
       "      <td>333.87</td>\n",
       "      <td>329.08</td>\n",
       "      <td>5749400</td>\n",
       "    </tr>\n",
       "    <tr>\n",
       "      <th>2</th>\n",
       "      <td>329.83</td>\n",
       "      <td>330.75</td>\n",
       "      <td>326.89</td>\n",
       "      <td>6590300</td>\n",
       "    </tr>\n",
       "    <tr>\n",
       "      <th>3</th>\n",
       "      <td>328.34</td>\n",
       "      <td>328.77</td>\n",
       "      <td>323.68</td>\n",
       "      <td>5405900</td>\n",
       "    </tr>\n",
       "    <tr>\n",
       "      <th>4</th>\n",
       "      <td>322.04</td>\n",
       "      <td>322.29</td>\n",
       "      <td>309.46</td>\n",
       "      <td>11688800</td>\n",
       "    </tr>\n",
       "  </tbody>\n",
       "</table>\n",
       "</div>"
      ],
      "text/plain": [
       "     Open    High     Low    Volume\n",
       "0  325.25  332.83  324.97   7380500\n",
       "1  331.27  333.87  329.08   5749400\n",
       "2  329.83  330.75  326.89   6590300\n",
       "3  328.34  328.77  323.68   5405900\n",
       "4  322.04  322.29  309.46  11688800"
      ]
     },
     "execution_count": 4,
     "metadata": {},
     "output_type": "execute_result"
    }
   ],
   "source": [
    "train_data = train_data.drop(['Date', 'Close'], axis = 1)\n",
    "train_data.head()"
   ]
  },
  {
   "cell_type": "code",
   "execution_count": 5,
   "metadata": {},
   "outputs": [
    {
     "data": {
      "text/plain": [
       "array([[0.08581368, 0.09640129, 0.09044931, 0.29525831],\n",
       "       [0.09701243, 0.09834351, 0.09823458, 0.22993592],\n",
       "       [0.09433366, 0.09251685, 0.09408623, 0.26361233],\n",
       "       ...,\n",
       "       [0.95725128, 0.95807422, 0.95844067, 0.04589107],\n",
       "       [0.93796041, 0.94257381, 0.95033338, 0.02949139],\n",
       "       [0.93688146, 0.93669113, 0.93421352, 0.07056868]])"
      ]
     },
     "execution_count": 5,
     "metadata": {},
     "output_type": "execute_result"
    }
   ],
   "source": [
    "scaler = MinMaxScaler()\n",
    "train_data = scaler.fit_transform(train_data)\n",
    "\n",
    "train_data"
   ]
  },
  {
   "cell_type": "code",
   "execution_count": 116,
   "metadata": {},
   "outputs": [],
   "source": [
    "X_train=[]\n",
    "y_train = []\n",
    "n=1\n",
    "\n",
    "for i in range(n,len(train_data)):\n",
    "    X_train.append(train_data[i-n: i])\n",
    "    y_train.append(train_data[i,0])\n"
   ]
  },
  {
   "cell_type": "code",
   "execution_count": 117,
   "metadata": {},
   "outputs": [
    {
     "data": {
      "text/plain": [
       "array([[0.08581368, 0.09640129, 0.09044931, 0.29525831]])"
      ]
     },
     "execution_count": 117,
     "metadata": {},
     "output_type": "execute_result"
    }
   ],
   "source": [
    "X_train[0]\n"
   ]
  },
  {
   "cell_type": "code",
   "execution_count": 118,
   "metadata": {},
   "outputs": [],
   "source": [
    "X_train, y_train = np.array(X_train), np.array(y_train)"
   ]
  },
  {
   "cell_type": "code",
   "execution_count": 119,
   "metadata": {},
   "outputs": [
    {
     "data": {
      "text/plain": [
       "((1257, 1, 4), (1257,))"
      ]
     },
     "execution_count": 119,
     "metadata": {},
     "output_type": "execute_result"
    }
   ],
   "source": [
    "X_train.shape, y_train.shape"
   ]
  },
  {
   "cell_type": "markdown",
   "metadata": {},
   "source": [
    "# LSTM MODEL"
   ]
  },
  {
   "cell_type": "code",
   "execution_count": 165,
   "metadata": {},
   "outputs": [],
   "source": [
    "reg = Sequential()\n",
    "reg.add(LSTM(units = 180, input_shape=(X_train.shape[0], 4)))\n",
    "reg.add(Dropout(0.2))\n",
    "\n",
    "# reg.add(LSTM(units=60, activation = 'relu', return_sequences=True))\n",
    "# reg.add(Dropout(0.3))\n",
    "\n",
    "# reg.add(LSTM(units=80, activation = 'relu', return_sequences=True))\n",
    "# reg.add(Dropout(0.4))\n",
    "\n",
    "\n",
    "# reg.add(LSTM(units=120, activation = 'relu', return_sequences=True))\n",
    "# reg.add(Dropout(0.5))\n",
    "\n",
    "\n",
    "reg.add(Dense(units = 1))\n",
    "\n",
    "\n",
    "\n",
    "\n",
    "\n",
    "\n",
    "             "
   ]
  },
  {
   "cell_type": "code",
   "execution_count": 166,
   "metadata": {},
   "outputs": [
    {
     "name": "stdout",
     "output_type": "stream",
     "text": [
      "Model: \"sequential_7\"\n",
      "_________________________________________________________________\n",
      "Layer (type)                 Output Shape              Param #   \n",
      "=================================================================\n",
      "lstm_8 (LSTM)                (None, 180)               133200    \n",
      "_________________________________________________________________\n",
      "dropout_7 (Dropout)          (None, 180)               0         \n",
      "_________________________________________________________________\n",
      "dense_6 (Dense)              (None, 1)                 181       \n",
      "=================================================================\n",
      "Total params: 133,381\n",
      "Trainable params: 133,381\n",
      "Non-trainable params: 0\n",
      "_________________________________________________________________\n"
     ]
    },
    {
     "data": {
      "text/plain": [
       "array([[[0.08581368, 0.09640129, 0.09044931, 0.29525831]],\n",
       "\n",
       "       [[0.09701243, 0.09834351, 0.09823458, 0.22993592]],\n",
       "\n",
       "       [[0.09433366, 0.09251685, 0.09408623, 0.26361233]],\n",
       "\n",
       "       ...,\n",
       "\n",
       "       [[0.95163331, 0.96485331, 0.96688892, 0.03128554]],\n",
       "\n",
       "       [[0.95725128, 0.95807422, 0.95844067, 0.04589107]],\n",
       "\n",
       "       [[0.93796041, 0.94257381, 0.95033338, 0.02949139]]])"
      ]
     },
     "execution_count": 166,
     "metadata": {},
     "output_type": "execute_result"
    }
   ],
   "source": [
    "reg.summary()\n",
    "X_train\n"
   ]
  },
  {
   "cell_type": "code",
   "execution_count": 167,
   "metadata": {},
   "outputs": [],
   "source": [
    "reg.compile(optimizer='adam', loss = 'mean_squared_error')"
   ]
  },
  {
   "cell_type": "code",
   "execution_count": 168,
   "metadata": {},
   "outputs": [
    {
     "name": "stdout",
     "output_type": "stream",
     "text": [
      "Epoch 1/100\n",
      "WARNING:tensorflow:Model was constructed with shape (None, 1257, 4) for input Tensor(\"lstm_8_input:0\", shape=(None, 1257, 4), dtype=float32), but it was called on an input with incompatible shape (None, 1, 4).\n",
      "WARNING:tensorflow:Model was constructed with shape (None, 1257, 4) for input Tensor(\"lstm_8_input:0\", shape=(None, 1257, 4), dtype=float32), but it was called on an input with incompatible shape (None, 1, 4).\n",
      "79/79 [==============================] - 0s 2ms/step - loss: 0.0512\n",
      "Epoch 2/100\n",
      "79/79 [==============================] - 0s 2ms/step - loss: 0.0028\n",
      "Epoch 3/100\n",
      "79/79 [==============================] - 0s 2ms/step - loss: 0.0011\n",
      "Epoch 4/100\n",
      "79/79 [==============================] - 0s 2ms/step - loss: 0.0011\n",
      "Epoch 5/100\n",
      "79/79 [==============================] - 0s 2ms/step - loss: 9.4646e-04\n",
      "Epoch 6/100\n",
      "79/79 [==============================] - 0s 2ms/step - loss: 0.0010\n",
      "Epoch 7/100\n",
      "79/79 [==============================] - 0s 2ms/step - loss: 9.3418e-04\n",
      "Epoch 8/100\n",
      "79/79 [==============================] - 0s 2ms/step - loss: 8.9688e-04\n",
      "Epoch 9/100\n",
      "79/79 [==============================] - 0s 2ms/step - loss: 8.7440e-04\n",
      "Epoch 10/100\n",
      "79/79 [==============================] - 0s 2ms/step - loss: 9.2089e-04\n",
      "Epoch 11/100\n",
      "79/79 [==============================] - 0s 2ms/step - loss: 7.4997e-04\n",
      "Epoch 12/100\n",
      "79/79 [==============================] - 0s 2ms/step - loss: 8.1030e-04\n",
      "Epoch 13/100\n",
      "79/79 [==============================] - 0s 2ms/step - loss: 8.1760e-04\n",
      "Epoch 14/100\n",
      "79/79 [==============================] - 0s 2ms/step - loss: 7.8769e-04\n",
      "Epoch 15/100\n",
      "79/79 [==============================] - 0s 2ms/step - loss: 7.6399e-04\n",
      "Epoch 16/100\n",
      "79/79 [==============================] - 0s 2ms/step - loss: 6.7217e-04\n",
      "Epoch 17/100\n",
      "79/79 [==============================] - 0s 2ms/step - loss: 6.6924e-04\n",
      "Epoch 18/100\n",
      "79/79 [==============================] - 0s 2ms/step - loss: 7.1298e-04\n",
      "Epoch 19/100\n",
      "79/79 [==============================] - 0s 2ms/step - loss: 7.0316e-04\n",
      "Epoch 20/100\n",
      "79/79 [==============================] - 0s 2ms/step - loss: 6.3459e-04\n",
      "Epoch 21/100\n",
      "79/79 [==============================] - 0s 2ms/step - loss: 7.1203e-04\n",
      "Epoch 22/100\n",
      "79/79 [==============================] - 0s 2ms/step - loss: 6.8593e-04\n",
      "Epoch 23/100\n",
      "79/79 [==============================] - 0s 2ms/step - loss: 6.5408e-04\n",
      "Epoch 24/100\n",
      "79/79 [==============================] - 0s 2ms/step - loss: 5.7787e-04\n",
      "Epoch 25/100\n",
      "79/79 [==============================] - 0s 2ms/step - loss: 6.1095e-04\n",
      "Epoch 26/100\n",
      "79/79 [==============================] - 0s 2ms/step - loss: 6.1988e-04\n",
      "Epoch 27/100\n",
      "79/79 [==============================] - 0s 2ms/step - loss: 6.4589e-04\n",
      "Epoch 28/100\n",
      "79/79 [==============================] - 0s 2ms/step - loss: 6.8042e-04\n",
      "Epoch 29/100\n",
      "79/79 [==============================] - 0s 2ms/step - loss: 7.2301e-04\n",
      "Epoch 30/100\n",
      "79/79 [==============================] - 0s 2ms/step - loss: 5.7724e-04\n",
      "Epoch 31/100\n",
      "79/79 [==============================] - 0s 2ms/step - loss: 6.9948e-04\n",
      "Epoch 32/100\n",
      "79/79 [==============================] - 0s 2ms/step - loss: 6.0526e-04\n",
      "Epoch 33/100\n",
      "79/79 [==============================] - 0s 2ms/step - loss: 5.8395e-04\n",
      "Epoch 34/100\n",
      "79/79 [==============================] - 0s 2ms/step - loss: 5.4532e-04\n",
      "Epoch 35/100\n",
      "79/79 [==============================] - 0s 2ms/step - loss: 6.0986e-04\n",
      "Epoch 36/100\n",
      "79/79 [==============================] - 0s 2ms/step - loss: 5.8664e-04\n",
      "Epoch 37/100\n",
      "79/79 [==============================] - 0s 2ms/step - loss: 6.0621e-04\n",
      "Epoch 38/100\n",
      "79/79 [==============================] - 0s 2ms/step - loss: 6.0104e-04\n",
      "Epoch 39/100\n",
      "79/79 [==============================] - 0s 2ms/step - loss: 5.7602e-04\n",
      "Epoch 40/100\n",
      "79/79 [==============================] - 0s 2ms/step - loss: 5.4214e-04\n",
      "Epoch 41/100\n",
      "79/79 [==============================] - 0s 2ms/step - loss: 5.9775e-04\n",
      "Epoch 42/100\n",
      "79/79 [==============================] - 0s 2ms/step - loss: 5.6228e-04\n",
      "Epoch 43/100\n",
      "79/79 [==============================] - 0s 2ms/step - loss: 5.5397e-04\n",
      "Epoch 44/100\n",
      "79/79 [==============================] - 0s 2ms/step - loss: 5.0975e-04\n",
      "Epoch 45/100\n",
      "79/79 [==============================] - 0s 2ms/step - loss: 5.1868e-04\n",
      "Epoch 46/100\n",
      "79/79 [==============================] - 0s 2ms/step - loss: 5.0750e-04\n",
      "Epoch 47/100\n",
      "79/79 [==============================] - 0s 2ms/step - loss: 5.2366e-04\n",
      "Epoch 48/100\n",
      "79/79 [==============================] - 0s 2ms/step - loss: 5.1274e-04\n",
      "Epoch 49/100\n",
      "79/79 [==============================] - 0s 2ms/step - loss: 5.1008e-04\n",
      "Epoch 50/100\n",
      "79/79 [==============================] - 0s 2ms/step - loss: 5.6054e-04\n",
      "Epoch 51/100\n",
      "79/79 [==============================] - 0s 2ms/step - loss: 5.3728e-04\n",
      "Epoch 52/100\n",
      "79/79 [==============================] - 0s 2ms/step - loss: 5.3088e-04\n",
      "Epoch 53/100\n",
      "79/79 [==============================] - 0s 2ms/step - loss: 5.9048e-04\n",
      "Epoch 54/100\n",
      "79/79 [==============================] - 0s 2ms/step - loss: 5.1239e-04\n",
      "Epoch 55/100\n",
      "79/79 [==============================] - 0s 2ms/step - loss: 5.1376e-04\n",
      "Epoch 56/100\n",
      "79/79 [==============================] - 0s 2ms/step - loss: 4.9063e-04\n",
      "Epoch 57/100\n",
      "79/79 [==============================] - 0s 2ms/step - loss: 5.1217e-04\n",
      "Epoch 58/100\n",
      "79/79 [==============================] - 0s 2ms/step - loss: 5.0900e-04\n",
      "Epoch 59/100\n",
      "79/79 [==============================] - 0s 2ms/step - loss: 4.9814e-04\n",
      "Epoch 60/100\n",
      "79/79 [==============================] - 0s 2ms/step - loss: 4.8634e-04\n",
      "Epoch 61/100\n",
      "79/79 [==============================] - 0s 2ms/step - loss: 4.6898e-04\n",
      "Epoch 62/100\n",
      "79/79 [==============================] - 0s 2ms/step - loss: 4.8944e-04\n",
      "Epoch 63/100\n",
      "79/79 [==============================] - 0s 2ms/step - loss: 5.3226e-04\n",
      "Epoch 64/100\n",
      "79/79 [==============================] - 0s 2ms/step - loss: 4.6984e-04\n",
      "Epoch 65/100\n",
      "79/79 [==============================] - 0s 2ms/step - loss: 4.1935e-04\n",
      "Epoch 66/100\n",
      "79/79 [==============================] - 0s 2ms/step - loss: 4.8293e-04\n",
      "Epoch 67/100\n",
      "79/79 [==============================] - 0s 2ms/step - loss: 4.6073e-04\n",
      "Epoch 68/100\n",
      "79/79 [==============================] - 0s 2ms/step - loss: 4.7887e-04\n",
      "Epoch 69/100\n",
      "79/79 [==============================] - 0s 2ms/step - loss: 4.7322e-04\n",
      "Epoch 70/100\n",
      "79/79 [==============================] - 0s 2ms/step - loss: 4.5216e-04\n",
      "Epoch 71/100\n",
      "79/79 [==============================] - 0s 2ms/step - loss: 4.6649e-04\n",
      "Epoch 72/100\n",
      "79/79 [==============================] - 0s 2ms/step - loss: 4.1268e-04\n",
      "Epoch 73/100\n",
      "79/79 [==============================] - 0s 2ms/step - loss: 4.0812e-04\n",
      "Epoch 74/100\n",
      "79/79 [==============================] - 0s 2ms/step - loss: 4.7039e-04\n",
      "Epoch 75/100\n",
      "79/79 [==============================] - 0s 2ms/step - loss: 4.2685e-04\n",
      "Epoch 76/100\n",
      "79/79 [==============================] - 0s 2ms/step - loss: 4.9069e-04\n",
      "Epoch 77/100\n",
      "79/79 [==============================] - 0s 2ms/step - loss: 4.4195e-04\n",
      "Epoch 78/100\n",
      "79/79 [==============================] - 0s 2ms/step - loss: 4.0087e-04\n",
      "Epoch 79/100\n",
      "79/79 [==============================] - 0s 2ms/step - loss: 4.3071e-04\n",
      "Epoch 80/100\n",
      "79/79 [==============================] - 0s 2ms/step - loss: 4.5576e-04\n",
      "Epoch 81/100\n",
      "79/79 [==============================] - 0s 2ms/step - loss: 4.0485e-04\n",
      "Epoch 82/100\n",
      "79/79 [==============================] - 0s 2ms/step - loss: 4.3158e-04\n",
      "Epoch 83/100\n",
      "79/79 [==============================] - 0s 2ms/step - loss: 4.4509e-04\n",
      "Epoch 84/100\n",
      "79/79 [==============================] - 0s 2ms/step - loss: 3.8381e-04\n",
      "Epoch 85/100\n",
      "79/79 [==============================] - 0s 2ms/step - loss: 3.7994e-04\n",
      "Epoch 86/100\n",
      "79/79 [==============================] - 0s 2ms/step - loss: 4.2943e-04\n",
      "Epoch 87/100\n",
      "79/79 [==============================] - 0s 2ms/step - loss: 3.9176e-04\n",
      "Epoch 88/100\n",
      "79/79 [==============================] - 0s 2ms/step - loss: 4.3753e-04\n",
      "Epoch 89/100\n",
      "79/79 [==============================] - 0s 2ms/step - loss: 3.3726e-04\n",
      "Epoch 90/100\n",
      "79/79 [==============================] - 0s 2ms/step - loss: 3.7521e-04\n",
      "Epoch 91/100\n",
      "79/79 [==============================] - 0s 2ms/step - loss: 3.9911e-04\n",
      "Epoch 92/100\n"
     ]
    },
    {
     "name": "stdout",
     "output_type": "stream",
     "text": [
      "79/79 [==============================] - 0s 2ms/step - loss: 3.6586e-04\n",
      "Epoch 93/100\n",
      "79/79 [==============================] - 0s 2ms/step - loss: 3.9211e-04\n",
      "Epoch 94/100\n",
      "79/79 [==============================] - 0s 2ms/step - loss: 4.4248e-04\n",
      "Epoch 95/100\n",
      "79/79 [==============================] - 0s 2ms/step - loss: 3.8660e-04\n",
      "Epoch 96/100\n",
      "79/79 [==============================] - 0s 2ms/step - loss: 3.7178e-04\n",
      "Epoch 97/100\n",
      "79/79 [==============================] - 0s 2ms/step - loss: 3.6563e-04\n",
      "Epoch 98/100\n",
      "79/79 [==============================] - 0s 2ms/step - loss: 4.1088e-04\n",
      "Epoch 99/100\n",
      "79/79 [==============================] - 0s 2ms/step - loss: 4.1613e-04\n",
      "Epoch 100/100\n",
      "79/79 [==============================] - 0s 2ms/step - loss: 4.0256e-04\n"
     ]
    },
    {
     "data": {
      "text/plain": [
       "<tensorflow.python.keras.callbacks.History at 0x7f989bb5e310>"
      ]
     },
     "execution_count": 168,
     "metadata": {},
     "output_type": "execute_result"
    }
   ],
   "source": [
    "reg.fit(X_train, y_train, epochs=100, batch_size=16, verbose=1)"
   ]
  },
  {
   "cell_type": "markdown",
   "metadata": {},
   "source": [
    "# PREP TEST DATA TO COMPARE"
   ]
  },
  {
   "cell_type": "code",
   "execution_count": 169,
   "metadata": {},
   "outputs": [
    {
     "data": {
      "text/html": [
       "<div>\n",
       "<style scoped>\n",
       "    .dataframe tbody tr th:only-of-type {\n",
       "        vertical-align: middle;\n",
       "    }\n",
       "\n",
       "    .dataframe tbody tr th {\n",
       "        vertical-align: top;\n",
       "    }\n",
       "\n",
       "    .dataframe thead th {\n",
       "        text-align: right;\n",
       "    }\n",
       "</style>\n",
       "<table border=\"1\" class=\"dataframe\">\n",
       "  <thead>\n",
       "    <tr style=\"text-align: right;\">\n",
       "      <th></th>\n",
       "      <th>Open</th>\n",
       "      <th>High</th>\n",
       "      <th>Low</th>\n",
       "      <th>Volume</th>\n",
       "    </tr>\n",
       "  </thead>\n",
       "  <tbody>\n",
       "    <tr>\n",
       "      <th>0</th>\n",
       "      <td>778.81</td>\n",
       "      <td>789.63</td>\n",
       "      <td>775.80</td>\n",
       "      <td>1657300</td>\n",
       "    </tr>\n",
       "    <tr>\n",
       "      <th>1</th>\n",
       "      <td>788.36</td>\n",
       "      <td>791.34</td>\n",
       "      <td>783.16</td>\n",
       "      <td>1073000</td>\n",
       "    </tr>\n",
       "    <tr>\n",
       "      <th>2</th>\n",
       "      <td>786.08</td>\n",
       "      <td>794.48</td>\n",
       "      <td>785.02</td>\n",
       "      <td>1335200</td>\n",
       "    </tr>\n",
       "    <tr>\n",
       "      <th>3</th>\n",
       "      <td>795.26</td>\n",
       "      <td>807.90</td>\n",
       "      <td>792.20</td>\n",
       "      <td>1640200</td>\n",
       "    </tr>\n",
       "    <tr>\n",
       "      <th>4</th>\n",
       "      <td>806.40</td>\n",
       "      <td>809.97</td>\n",
       "      <td>802.83</td>\n",
       "      <td>1272400</td>\n",
       "    </tr>\n",
       "  </tbody>\n",
       "</table>\n",
       "</div>"
      ],
      "text/plain": [
       "     Open    High     Low   Volume\n",
       "0  778.81  789.63  775.80  1657300\n",
       "1  788.36  791.34  783.16  1073000\n",
       "2  786.08  794.48  785.02  1335200\n",
       "3  795.26  807.90  792.20  1640200\n",
       "4  806.40  809.97  802.83  1272400"
      ]
     },
     "execution_count": 169,
     "metadata": {},
     "output_type": "execute_result"
    }
   ],
   "source": [
    "test_data.tail()\n",
    "df = test_data.append(test_data, ignore_index=True)\n",
    "df.head()"
   ]
  },
  {
   "cell_type": "code",
   "execution_count": 170,
   "metadata": {},
   "outputs": [
    {
     "data": {
      "text/plain": [
       "array([[0.92955205, 0.94948363, 0.9444234 , 0.06605527],\n",
       "       [0.94731751, 0.95267709, 0.9583649 , 0.04265519],\n",
       "       [0.94307612, 0.95854109, 0.96188816, 0.05315579],\n",
       "       [0.96015329, 0.98360319, 0.97548871, 0.06537044],\n",
       "       [0.98087655, 0.98746895, 0.99562434, 0.05064077],\n",
       "       [0.98359253, 0.98590024, 0.99691241, 0.04681217],\n",
       "       [0.97827219, 0.98407007, 0.99285877, 0.04237085],\n",
       "       [0.98225314, 0.98265076, 0.98869147, 0.05387265],\n",
       "       [0.98288563, 0.98980335, 1.00293605, 0.04370445],\n",
       "       [0.98214153, 0.98218388, 0.99096454, 0.05423308],\n",
       "       [0.979779  , 0.98044708, 0.99213896, 0.05152183],\n",
       "       [0.97849542, 0.98655387, 0.99367328, 0.0364998 ],\n",
       "       [0.98182528, 0.98175435, 0.99346492, 0.06656388],\n",
       "       [0.98245777, 1.0078249 , 0.99734808, 0.07832199],\n",
       "       [1.01045465, 1.01721852, 1.02401879, 0.05871446],\n",
       "       [1.02407173, 1.03565092, 1.03773299, 0.05953544],\n",
       "       [1.03930724, 1.03981549, 1.04142673, 0.11878254],\n",
       "       [1.03354044, 1.04719219, 1.02898166, 0.11845815],\n",
       "       [0.99624228, 0.99843128, 0.98988483, 0.12970364],\n",
       "       [0.9631297 , 0.97118419, 0.97230641, 0.08621145],\n",
       "       [0.92955205, 0.94948363, 0.9444234 , 0.06605527],\n",
       "       [0.94731751, 0.95267709, 0.9583649 , 0.04265519],\n",
       "       [0.94307612, 0.95854109, 0.96188816, 0.05315579],\n",
       "       [0.96015329, 0.98360319, 0.97548871, 0.06537044],\n",
       "       [0.98087655, 0.98746895, 0.99562434, 0.05064077],\n",
       "       [0.98359253, 0.98590024, 0.99691241, 0.04681217],\n",
       "       [0.97827219, 0.98407007, 0.99285877, 0.04237085],\n",
       "       [0.98225314, 0.98265076, 0.98869147, 0.05387265],\n",
       "       [0.98288563, 0.98980335, 1.00293605, 0.04370445],\n",
       "       [0.98214153, 0.98218388, 0.99096454, 0.05423308],\n",
       "       [0.979779  , 0.98044708, 0.99213896, 0.05152183],\n",
       "       [0.97849542, 0.98655387, 0.99367328, 0.0364998 ],\n",
       "       [0.98182528, 0.98175435, 0.99346492, 0.06656388],\n",
       "       [0.98245777, 1.0078249 , 0.99734808, 0.07832199],\n",
       "       [1.01045465, 1.01721852, 1.02401879, 0.05871446],\n",
       "       [1.02407173, 1.03565092, 1.03773299, 0.05953544],\n",
       "       [1.03930724, 1.03981549, 1.04142673, 0.11878254],\n",
       "       [1.03354044, 1.04719219, 1.02898166, 0.11845815],\n",
       "       [0.99624228, 0.99843128, 0.98988483, 0.12970364],\n",
       "       [0.9631297 , 0.97118419, 0.97230641, 0.08621145]])"
      ]
     },
     "execution_count": 170,
     "metadata": {},
     "output_type": "execute_result"
    }
   ],
   "source": [
    "inputs = scaler.transform(df)\n",
    "inputs"
   ]
  },
  {
   "cell_type": "code",
   "execution_count": 171,
   "metadata": {},
   "outputs": [],
   "source": [
    "X_test = []\n",
    "y_test = []\n",
    "n=1\n",
    "\n",
    "for i in range(n,inputs.shape[0]):\n",
    "    X_test.append(inputs[i-n:i])\n",
    "    y_test.append(inputs[i,0])"
   ]
  },
  {
   "cell_type": "code",
   "execution_count": 172,
   "metadata": {},
   "outputs": [
    {
     "data": {
      "text/plain": [
       "(39,)"
      ]
     },
     "execution_count": 172,
     "metadata": {},
     "output_type": "execute_result"
    }
   ],
   "source": [
    "X_test, y_test = np.array(X_test), np.array(y_test)\n",
    "X_test.shape\n",
    "y_test.shape"
   ]
  },
  {
   "cell_type": "code",
   "execution_count": 173,
   "metadata": {},
   "outputs": [
    {
     "name": "stdout",
     "output_type": "stream",
     "text": [
      "WARNING:tensorflow:Model was constructed with shape (None, 1257, 4) for input Tensor(\"lstm_8_input:0\", shape=(None, 1257, 4), dtype=float32), but it was called on an input with incompatible shape (None, 1, 4).\n"
     ]
    }
   ],
   "source": [
    "y_pred = reg.predict(X_test)"
   ]
  },
  {
   "cell_type": "code",
   "execution_count": 174,
   "metadata": {},
   "outputs": [
    {
     "data": {
      "text/plain": [
       "array([[0.9245619 ],\n",
       "       [0.9342059 ],\n",
       "       [0.9374609 ],\n",
       "       [0.955486  ],\n",
       "       [0.96845746],\n",
       "       [0.9687594 ],\n",
       "       [0.96556157],\n",
       "       [0.9637893 ],\n",
       "       [0.9727702 ],\n",
       "       [0.96457255],\n",
       "       [0.9640709 ],\n",
       "       [0.96689403],\n",
       "       [0.9654757 ],\n",
       "       [0.97743505],\n",
       "       [0.99631536],\n",
       "       [1.0112298 ],\n",
       "       [1.0166935 ],\n",
       "       [1.013428  ],\n",
       "       [0.9725959 ],\n",
       "       [0.94973516],\n",
       "       [0.9245619 ],\n",
       "       [0.9342059 ],\n",
       "       [0.9374609 ],\n",
       "       [0.955486  ],\n",
       "       [0.96845746],\n",
       "       [0.9687594 ],\n",
       "       [0.96556157],\n",
       "       [0.9637893 ],\n",
       "       [0.9727702 ],\n",
       "       [0.96457255],\n",
       "       [0.9640709 ],\n",
       "       [0.9668941 ],\n",
       "       [0.9654757 ],\n",
       "       [0.97743505],\n",
       "       [0.99631536],\n",
       "       [1.0112298 ],\n",
       "       [1.0166935 ],\n",
       "       [1.013428  ],\n",
       "       [0.9725958 ]], dtype=float32)"
      ]
     },
     "execution_count": 174,
     "metadata": {},
     "output_type": "execute_result"
    }
   ],
   "source": [
    "y_pred"
   ]
  },
  {
   "cell_type": "code",
   "execution_count": 175,
   "metadata": {},
   "outputs": [
    {
     "data": {
      "text/plain": [
       "array([1.86025746e-03, 1.86751825e-03, 1.89422640e-03, 4.00480577e-08])"
      ]
     },
     "execution_count": 175,
     "metadata": {},
     "output_type": "execute_result"
    }
   ],
   "source": [
    "scaler.scale_"
   ]
  },
  {
   "cell_type": "code",
   "execution_count": 176,
   "metadata": {},
   "outputs": [
    {
     "data": {
      "text/plain": [
       "537.5599998937781"
      ]
     },
     "execution_count": 176,
     "metadata": {},
     "output_type": "execute_result"
    }
   ],
   "source": [
    "scale = 1/1.86025746e-03\n",
    "scale"
   ]
  },
  {
   "cell_type": "code",
   "execution_count": 177,
   "metadata": {},
   "outputs": [],
   "source": [
    "y_pred = y_pred*scale\n",
    "y_test = y_test*scale"
   ]
  },
  {
   "cell_type": "markdown",
   "metadata": {},
   "source": [
    "# VISUALIZE"
   ]
  },
  {
   "cell_type": "code",
   "execution_count": 178,
   "metadata": {},
   "outputs": [
    {
     "data": {
      "image/png": "[encoded data removed]",
      "text/plain": [
       "<Figure size 1440x360 with 1 Axes>"
      ]
     },
     "metadata": {
      "needs_background": "light"
     },
     "output_type": "display_data"
    }
   ],
   "source": [
    "#Visualize Results\n",
    "\n",
    "plt.figure(figsize=(20,5))\n",
    "plt.plot(y_test, color='red', label = \"Real stock price\")\n",
    "plt.plot(y_pred, color='blue', label = \"Predicted stock price\")\n",
    "plt.title(\"Prediction of Google Stock Price\")\n",
    "plt.xlabel(\"Time\")\n",
    "plt.ylabel(\"Stock Price\")\n",
    "plt.legend()\n",
    "plt.show()"
   ]
  },
  {
   "cell_type": "code",
   "execution_count": null,
   "metadata": {},
   "outputs": [],
   "source": []
  },
  {
   "cell_type": "code",
   "execution_count": null,
   "metadata": {},
   "outputs": [],
   "source": []
  },
  {
   "cell_type": "code",
   "execution_count": null,
   "metadata": {},
   "outputs": [],
   "source": []
  }
 ],
 "metadata": {
  "kernelspec": {
   "display_name": "Python 3",
   "language": "python",
   "name": "python3"
  },
  "language_info": {
   "codemirror_mode": {
    "name": "ipython",
    "version": 3
   },
   "file_extension": ".py",
   "mimetype": "text/x-python",
   "name": "python",
   "nbconvert_exporter": "python",
   "pygments_lexer": "ipython3",
   "version": "3.7.6"
  }
 },
 "nbformat": 4,
 "nbformat_minor": 4
}
