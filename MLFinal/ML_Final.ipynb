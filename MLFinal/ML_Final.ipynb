{
 "cells": [
  {
   "cell_type": "code",
   "execution_count": 69,
   "metadata": {},
   "outputs": [],
   "source": [
    "import numpy as np\n",
    "import matplotlib.pyplot as plt\n",
    "import pandas as pd\n",
    "from sklearn.preprocessing import MinMaxScaler\n",
    "from tensorflow.keras import Sequential\n",
    "from tensorflow.keras.layers import Dense, LSTM, Dropout\n",
    "from sklearn import metrics"
   ]
  },
  {
   "cell_type": "markdown",
   "metadata": {},
   "source": [
    "# Test/Train Split LSTM"
   ]
  },
  {
   "cell_type": "code",
   "execution_count": 245,
   "metadata": {},
   "outputs": [],
   "source": [
    "data = pd.read_csv('Google_Stock_Price_Train.csv', date_parser = True)\n",
    "\n",
    "\n",
    "test_data = data[data['Date'] > '2016-06-01'].copy()\n",
    "\n",
    "test_data\n",
    "\n",
    "train_data = data[data['Date'] < '2016-06-01'].copy()\n",
    "\n"
   ]
  },
  {
   "cell_type": "code",
   "execution_count": 246,
   "metadata": {},
   "outputs": [
    {
     "data": {
      "text/plain": [
       "array([[0.08581368, 0.09640129, 0.09044931, 0.23757287, 0.29525831],\n",
       "       [0.09701243, 0.09834351, 0.09823458, 0.24151427, 0.22993592],\n",
       "       [0.09433366, 0.09251685, 0.09408623, 0.22878051, 0.26361233],\n",
       "       ...,\n",
       "       [0.95725128, 0.95807422, 0.95844067, 0.40495845, 0.04589107],\n",
       "       [0.93796041, 0.94257381, 0.95033338, 0.40184391, 0.02949139],\n",
       "       [0.93688146, 0.93669113, 0.93421352, 0.38672602, 0.07056868]])"
      ]
     },
     "execution_count": 246,
     "metadata": {},
     "output_type": "execute_result"
    }
   ],
   "source": [
    "scaler = MinMaxScaler(feature_range=(0,1))\n",
    "\n",
    "training_data = data.drop(['Date'], axis = 1)\n",
    "training_data = scaler.fit_transform(training_data)\n",
    "\n",
    "training_data"
   ]
  },
  {
   "cell_type": "code",
   "execution_count": 247,
   "metadata": {},
   "outputs": [
    {
     "data": {
      "text/plain": [
       "1258"
      ]
     },
     "execution_count": 247,
     "metadata": {},
     "output_type": "execute_result"
    }
   ],
   "source": [
    "X_train = [] \n",
    "y_train = []\n",
    "\n",
    "training_data.shape[0]"
   ]
  },
  {
   "cell_type": "code",
   "execution_count": 248,
   "metadata": {},
   "outputs": [],
   "source": [
    "for i in range(60, training_data.shape[0]):\n",
    "    X_train.append(training_data[i-60:i])\n",
    "    y_train.append(training_data[i, 0])\n",
    "    "
   ]
  },
  {
   "cell_type": "code",
   "execution_count": 249,
   "metadata": {},
   "outputs": [
    {
     "data": {
      "text/plain": [
       "((1198, 60, 5), (1198,))"
      ]
     },
     "execution_count": 249,
     "metadata": {},
     "output_type": "execute_result"
    }
   ],
   "source": [
    "X_train, y_train = np.array(X_train), np.array(y_train)\n",
    "\n",
    "X_train.shape, y_train.shape"
   ]
  },
  {
   "cell_type": "code",
   "execution_count": 250,
   "metadata": {},
   "outputs": [
    {
     "name": "stdout",
     "output_type": "stream",
     "text": [
      "Model: \"sequential_15\"\n",
      "_________________________________________________________________\n",
      "Layer (type)                 Output Shape              Param #   \n",
      "=================================================================\n",
      "lstm_56 (LSTM)               (None, 60, 50)            11200     \n",
      "_________________________________________________________________\n",
      "dropout_56 (Dropout)         (None, 60, 50)            0         \n",
      "_________________________________________________________________\n",
      "lstm_57 (LSTM)               (None, 60, 60)            26640     \n",
      "_________________________________________________________________\n",
      "dropout_57 (Dropout)         (None, 60, 60)            0         \n",
      "_________________________________________________________________\n",
      "lstm_58 (LSTM)               (None, 60, 80)            45120     \n",
      "_________________________________________________________________\n",
      "dropout_58 (Dropout)         (None, 60, 80)            0         \n",
      "_________________________________________________________________\n",
      "lstm_59 (LSTM)               (None, 120)               96480     \n",
      "_________________________________________________________________\n",
      "dropout_59 (Dropout)         (None, 120)               0         \n",
      "_________________________________________________________________\n",
      "dense_14 (Dense)             (None, 1)                 121       \n",
      "=================================================================\n",
      "Total params: 179,561\n",
      "Trainable params: 179,561\n",
      "Non-trainable params: 0\n",
      "_________________________________________________________________\n"
     ]
    }
   ],
   "source": [
    "reg = Sequential()\n",
    "\n",
    "reg.add(LSTM(units = 50,return_sequences = True,  input_shape=(X_train.shape[1], 5)))\n",
    "reg.add(Dropout(0.2))\n",
    "\n",
    "\n",
    "#Second LSTM Layer\n",
    "reg.add(LSTM(units = 60, return_sequences = True))\n",
    "reg.add(Dropout(0.3))\n",
    "\n",
    "# Third LSTM Layer\n",
    "reg.add(LSTM(units = 80, return_sequences = True))\n",
    "reg.add(Dropout(0.4))\n",
    "\n",
    "# Fourth LSTM Layer\n",
    "reg.add(LSTM(units = 120))\n",
    "reg.add(Dropout(0.5))\n",
    "\n",
    "\n",
    "# The output layer\n",
    "reg.add(Dense(units = 1))\n",
    "\n",
    "reg.summary()\n"
   ]
  },
  {
   "cell_type": "code",
   "execution_count": 251,
   "metadata": {},
   "outputs": [
    {
     "name": "stdout",
     "output_type": "stream",
     "text": [
      "Epoch 1/10\n",
      "38/38 [==============================] - 4s 104ms/step - loss: 0.0302\n",
      "Epoch 2/10\n",
      "38/38 [==============================] - 4s 101ms/step - loss: 0.0077\n",
      "Epoch 3/10\n",
      "38/38 [==============================] - 4s 98ms/step - loss: 0.0072\n",
      "Epoch 4/10\n",
      "38/38 [==============================] - 4s 104ms/step - loss: 0.0072\n",
      "Epoch 5/10\n",
      "38/38 [==============================] - 4s 95ms/step - loss: 0.0060\n",
      "Epoch 6/10\n",
      "38/38 [==============================] - 4s 96ms/step - loss: 0.0063\n",
      "Epoch 7/10\n",
      "38/38 [==============================] - 4s 98ms/step - loss: 0.0055\n",
      "Epoch 8/10\n",
      "38/38 [==============================] - 4s 113ms/step - loss: 0.0067\n",
      "Epoch 9/10\n",
      "38/38 [==============================] - 6s 153ms/step - loss: 0.0055\n",
      "Epoch 10/10\n",
      "38/38 [==============================] - 6s 159ms/step - loss: 0.0061\n"
     ]
    },
    {
     "data": {
      "text/plain": [
       "<tensorflow.python.keras.callbacks.History at 0x7fc5a58496d0>"
      ]
     },
     "execution_count": 251,
     "metadata": {},
     "output_type": "execute_result"
    }
   ],
   "source": [
    "reg.compile(optimizer='adam', loss = 'mean_squared_error')\n",
    "\n",
    "reg.fit(X_train, y_train, epochs=10,batch_size=32)\n"
   ]
  },
  {
   "cell_type": "code",
   "execution_count": 252,
   "metadata": {},
   "outputs": [],
   "source": [
    "test_data\n",
    "\n",
    "past_60_days= train_data.tail(60)\n",
    "\n",
    "df = past_60_days.append(test_data, ignore_index=True)\n",
    "\n",
    "df = df.drop(['Date'], axis = 1)"
   ]
  },
  {
   "cell_type": "code",
   "execution_count": 253,
   "metadata": {},
   "outputs": [
    {
     "data": {
      "text/plain": [
       "array([[0.79578094, 0.79720619, 0.77602667, 0.28107989, 0.11923108],\n",
       "       [0.76171962, 0.78917586, 0.77307168, 0.27943993, 0.0828354 ],\n",
       "       [0.78009897, 0.79270547, 0.78947568, 0.29497127, 0.05661193],\n",
       "       ...,\n",
       "       [0.95725128, 0.95807422, 0.95844067, 0.40495845, 0.04589107],\n",
       "       [0.93796041, 0.94257381, 0.95033338, 0.40184391, 0.02949139],\n",
       "       [0.93688146, 0.93669113, 0.93421352, 0.38672602, 0.07056868]])"
      ]
     },
     "execution_count": 253,
     "metadata": {},
     "output_type": "execute_result"
    }
   ],
   "source": [
    "inputs = scaler.transform(df)\n",
    "inputs"
   ]
  },
  {
   "cell_type": "code",
   "execution_count": 254,
   "metadata": {},
   "outputs": [
    {
     "data": {
      "text/plain": [
       "((148, 60, 5), (148,))"
      ]
     },
     "execution_count": 254,
     "metadata": {},
     "output_type": "execute_result"
    }
   ],
   "source": [
    "X_test = []\n",
    "y_test = []\n",
    "\n",
    "for i in range(60, inputs.shape[0]):\n",
    "    X_test.append(inputs[i-60:i])\n",
    "    y_test.append(inputs[i,0])\n",
    "    \n",
    "X_test, y_test = np.array(X_test), np.array(y_test)\n",
    "\n",
    "X_test.shape, y_test.shape"
   ]
  },
  {
   "cell_type": "code",
   "execution_count": 261,
   "metadata": {},
   "outputs": [
    {
     "data": {
      "text/plain": [
       "array([1.86025746e-03, 1.86751825e-03, 1.89422640e-03, 1.37811281e-03,\n",
       "       4.00480577e-08])"
      ]
     },
     "execution_count": 261,
     "metadata": {},
     "output_type": "execute_result"
    }
   ],
   "source": [
    "y_pred = reg.predict(X_test)\n",
    "\n",
    "scaler.scale_"
   ]
  },
  {
   "cell_type": "code",
   "execution_count": 262,
   "metadata": {},
   "outputs": [
    {
     "data": {
      "text/plain": [
       "537.5599998937781"
      ]
     },
     "execution_count": 262,
     "metadata": {},
     "output_type": "execute_result"
    }
   ],
   "source": [
    "scale = 1/1.86025746e-03\n",
    "scale"
   ]
  },
  {
   "cell_type": "markdown",
   "metadata": {},
   "source": [
    "# Visualize"
   ]
  },
  {
   "cell_type": "code",
   "execution_count": 263,
   "metadata": {},
   "outputs": [],
   "source": [
    "y_pred = y_pred*scale\n",
    "y_test= y_test*scale"
   ]
  },
  {
   "cell_type": "code",
   "execution_count": 265,
   "metadata": {},
   "outputs": [
    {
     "data": {
      "image/png": "[encoded data removed]",
      "text/plain": [
       "<Figure size 1440x360 with 1 Axes>"
      ]
     },
     "metadata": {
      "needs_background": "light"
     },
     "output_type": "display_data"
    }
   ],
   "source": [
    "#Visualize Results\n",
    "plt.figure(figsize=(20,5))\n",
    "plt.plot(y_test, color='red', label = \"Real stock price\")\n",
    "plt.plot(y_pred, color='blue', label = \"Predicted stock price\")\n",
    "plt.title(\"Prediction of Google Stock Price From Training Set\")\n",
    "plt.xlabel(\"Time\")\n",
    "plt.ylabel(\"Stock Price\")\n",
    "plt.legend()\n",
    "plt.show()"
   ]
  },
  {
   "cell_type": "markdown",
   "metadata": {},
   "source": [
    "# Run against validation Set"
   ]
  },
  {
   "cell_type": "code",
   "execution_count": 312,
   "metadata": {},
   "outputs": [
    {
     "data": {
      "text/plain": [
       "array([[325.25],\n",
       "       [331.27],\n",
       "       [329.83],\n",
       "       ...,\n",
       "       [793.7 ],\n",
       "       [783.33],\n",
       "       [782.75]])"
      ]
     },
     "execution_count": 312,
     "metadata": {},
     "output_type": "execute_result"
    }
   ],
   "source": [
    "train_data = pd.read_csv('Google_Stock_Price_Train.csv', date_parser = True)\n",
    "train_data.head()\n",
    "\n",
    "training_set = train_data.iloc[:,1:2].values\n",
    "\n",
    "training_set\n"
   ]
  },
  {
   "cell_type": "code",
   "execution_count": 313,
   "metadata": {
    "scrolled": true
   },
   "outputs": [],
   "source": [
    "scaler = MinMaxScaler(feature_range=(0,1))\n",
    "train_set_sc = scaler.fit_transform(training_set)\n",
    "\n"
   ]
  },
  {
   "cell_type": "code",
   "execution_count": 314,
   "metadata": {},
   "outputs": [],
   "source": [
    "X_train=[]\n",
    "y_train = []\n",
    "n=70\n",
    "\n",
    "for i in range(n,len(train_set_sc)):\n",
    "    X_train.append(train_set_sc[i-n: i,0])\n",
    "    y_train.append(train_set_sc[i,0])\n",
    "\n"
   ]
  },
  {
   "cell_type": "code",
   "execution_count": 315,
   "metadata": {},
   "outputs": [
    {
     "data": {
      "text/plain": [
       "(1188, 70, 1)"
      ]
     },
     "execution_count": 315,
     "metadata": {},
     "output_type": "execute_result"
    }
   ],
   "source": [
    "X_train, y_train = np.array(X_train), np.array(y_train)\n",
    "\n",
    "\n",
    "\n",
    "X_train = np.reshape(X_train, (X_train.shape[0], X_train.shape[1], 1))\n",
    "\n",
    "#dimension is 3\n",
    "X_train.shape"
   ]
  },
  {
   "cell_type": "markdown",
   "metadata": {},
   "source": [
    "# LSTM MODEL"
   ]
  },
  {
   "cell_type": "code",
   "execution_count": 316,
   "metadata": {},
   "outputs": [],
   "source": [
    "reg = Sequential()\n",
    "reg.add(LSTM(units = 50,return_sequences = True,  input_shape=(X_train.shape[1], 1)))\n",
    "reg.add(Dropout(0.2))\n",
    "\n",
    "\n",
    "#Second LSTM Layer\n",
    "reg.add(LSTM(units = 60, return_sequences = True))\n",
    "reg.add(Dropout(0.3))\n",
    "\n",
    "# Third LSTM Layer\n",
    "reg.add(LSTM(units = 80, return_sequences = True))\n",
    "reg.add(Dropout(0.4))\n",
    "\n",
    "# Fourth LSTM Layer\n",
    "reg.add(LSTM(units = 120))\n",
    "reg.add(Dropout(0.5))\n",
    "\n",
    "\n",
    "# The output layer\n",
    "reg.add(Dense(units = 1))\n",
    "\n",
    "\n",
    "\n",
    "\n",
    "\n",
    "             "
   ]
  },
  {
   "cell_type": "code",
   "execution_count": 317,
   "metadata": {},
   "outputs": [
    {
     "name": "stdout",
     "output_type": "stream",
     "text": [
      "Model: \"sequential_20\"\n",
      "_________________________________________________________________\n",
      "Layer (type)                 Output Shape              Param #   \n",
      "=================================================================\n",
      "lstm_76 (LSTM)               (None, 70, 50)            10400     \n",
      "_________________________________________________________________\n",
      "dropout_76 (Dropout)         (None, 70, 50)            0         \n",
      "_________________________________________________________________\n",
      "lstm_77 (LSTM)               (None, 70, 60)            26640     \n",
      "_________________________________________________________________\n",
      "dropout_77 (Dropout)         (None, 70, 60)            0         \n",
      "_________________________________________________________________\n",
      "lstm_78 (LSTM)               (None, 70, 80)            45120     \n",
      "_________________________________________________________________\n",
      "dropout_78 (Dropout)         (None, 70, 80)            0         \n",
      "_________________________________________________________________\n",
      "lstm_79 (LSTM)               (None, 120)               96480     \n",
      "_________________________________________________________________\n",
      "dropout_79 (Dropout)         (None, 120)               0         \n",
      "_________________________________________________________________\n",
      "dense_19 (Dense)             (None, 1)                 121       \n",
      "=================================================================\n",
      "Total params: 178,761\n",
      "Trainable params: 178,761\n",
      "Non-trainable params: 0\n",
      "_________________________________________________________________\n"
     ]
    }
   ],
   "source": [
    "reg.summary()"
   ]
  },
  {
   "cell_type": "code",
   "execution_count": 318,
   "metadata": {},
   "outputs": [],
   "source": [
    "reg.compile(optimizer='adam', loss = 'mean_squared_error')"
   ]
  },
  {
   "cell_type": "code",
   "execution_count": 319,
   "metadata": {},
   "outputs": [
    {
     "name": "stdout",
     "output_type": "stream",
     "text": [
      "Epoch 1/50\n",
      "38/38 [==============================] - 5s 122ms/step - loss: 0.0393\n",
      "Epoch 2/50\n",
      "38/38 [==============================] - 4s 107ms/step - loss: 0.0076\n",
      "Epoch 3/50\n",
      "38/38 [==============================] - 5s 119ms/step - loss: 0.0073\n",
      "Epoch 4/50\n",
      "38/38 [==============================] - 4s 106ms/step - loss: 0.0085\n",
      "Epoch 5/50\n",
      "38/38 [==============================] - 4s 107ms/step - loss: 0.0076\n",
      "Epoch 6/50\n",
      "38/38 [==============================] - 4s 102ms/step - loss: 0.0071\n",
      "Epoch 7/50\n",
      "38/38 [==============================] - 4s 105ms/step - loss: 0.0076\n",
      "Epoch 8/50\n",
      "38/38 [==============================] - 4s 118ms/step - loss: 0.0059\n",
      "Epoch 9/50\n",
      "38/38 [==============================] - 4s 109ms/step - loss: 0.0062\n",
      "Epoch 10/50\n",
      "38/38 [==============================] - 4s 107ms/step - loss: 0.0055\n",
      "Epoch 11/50\n",
      "38/38 [==============================] - 4s 102ms/step - loss: 0.0055\n",
      "Epoch 12/50\n",
      "38/38 [==============================] - 4s 102ms/step - loss: 0.0061\n",
      "Epoch 13/50\n",
      "38/38 [==============================] - 4s 99ms/step - loss: 0.0053\n",
      "Epoch 14/50\n",
      "38/38 [==============================] - 4s 101ms/step - loss: 0.0048\n",
      "Epoch 15/50\n",
      "38/38 [==============================] - 5s 120ms/step - loss: 0.0047\n",
      "Epoch 16/50\n",
      "38/38 [==============================] - 4s 112ms/step - loss: 0.0047\n",
      "Epoch 17/50\n",
      "38/38 [==============================] - 4s 112ms/step - loss: 0.0053\n",
      "Epoch 18/50\n",
      "38/38 [==============================] - 4s 117ms/step - loss: 0.0049\n",
      "Epoch 19/50\n",
      "38/38 [==============================] - 5s 137ms/step - loss: 0.0051\n",
      "Epoch 20/50\n",
      "38/38 [==============================] - 5s 122ms/step - loss: 0.0047\n",
      "Epoch 21/50\n",
      "38/38 [==============================] - 4s 101ms/step - loss: 0.0048\n",
      "Epoch 22/50\n",
      "38/38 [==============================] - 4s 103ms/step - loss: 0.0040\n",
      "Epoch 23/50\n",
      "38/38 [==============================] - 4s 109ms/step - loss: 0.0045\n",
      "Epoch 24/50\n",
      "38/38 [==============================] - 4s 109ms/step - loss: 0.0039\n",
      "Epoch 25/50\n",
      "38/38 [==============================] - 4s 106ms/step - loss: 0.0037\n",
      "Epoch 26/50\n",
      "38/38 [==============================] - 4s 102ms/step - loss: 0.0040\n",
      "Epoch 27/50\n",
      "38/38 [==============================] - 4s 102ms/step - loss: 0.0047\n",
      "Epoch 28/50\n",
      "38/38 [==============================] - 4s 102ms/step - loss: 0.0044\n",
      "Epoch 29/50\n",
      "38/38 [==============================] - 4s 101ms/step - loss: 0.0039\n",
      "Epoch 30/50\n",
      "38/38 [==============================] - 4s 102ms/step - loss: 0.0037\n",
      "Epoch 31/50\n",
      "38/38 [==============================] - 4s 103ms/step - loss: 0.0039\n",
      "Epoch 32/50\n",
      "38/38 [==============================] - 4s 102ms/step - loss: 0.0043\n",
      "Epoch 33/50\n",
      "38/38 [==============================] - 4s 102ms/step - loss: 0.0033\n",
      "Epoch 34/50\n",
      "38/38 [==============================] - 4s 101ms/step - loss: 0.0034\n",
      "Epoch 35/50\n",
      "38/38 [==============================] - 4s 101ms/step - loss: 0.0040\n",
      "Epoch 36/50\n",
      "38/38 [==============================] - 4s 102ms/step - loss: 0.0032\n",
      "Epoch 37/50\n",
      "38/38 [==============================] - 4s 113ms/step - loss: 0.0032\n",
      "Epoch 38/50\n",
      "38/38 [==============================] - 4s 107ms/step - loss: 0.0039\n",
      "Epoch 39/50\n",
      "38/38 [==============================] - 4s 107ms/step - loss: 0.0036\n",
      "Epoch 40/50\n",
      "38/38 [==============================] - 4s 101ms/step - loss: 0.0036\n",
      "Epoch 41/50\n",
      "38/38 [==============================] - 4s 117ms/step - loss: 0.0035\n",
      "Epoch 42/50\n",
      "38/38 [==============================] - 4s 118ms/step - loss: 0.0031\n",
      "Epoch 43/50\n",
      "38/38 [==============================] - 5s 120ms/step - loss: 0.0030\n",
      "Epoch 44/50\n",
      "38/38 [==============================] - 4s 114ms/step - loss: 0.0032\n",
      "Epoch 45/50\n",
      "38/38 [==============================] - 4s 108ms/step - loss: 0.0032\n",
      "Epoch 46/50\n",
      "38/38 [==============================] - 4s 108ms/step - loss: 0.0037\n",
      "Epoch 47/50\n",
      "38/38 [==============================] - 4s 111ms/step - loss: 0.0030\n",
      "Epoch 48/50\n",
      "38/38 [==============================] - 4s 118ms/step - loss: 0.0028\n",
      "Epoch 49/50\n",
      "38/38 [==============================] - 4s 107ms/step - loss: 0.0035\n",
      "Epoch 50/50\n",
      "38/38 [==============================] - 4s 102ms/step - loss: 0.0029\n"
     ]
    },
    {
     "data": {
      "text/plain": [
       "<tensorflow.python.keras.callbacks.History at 0x7fc573fb6550>"
      ]
     },
     "execution_count": 319,
     "metadata": {},
     "output_type": "execute_result"
    }
   ],
   "source": [
    "reg.fit(X_train, y_train, epochs=50,batch_size=32, verbose=1)"
   ]
  },
  {
   "cell_type": "markdown",
   "metadata": {},
   "source": [
    "# PREP TEST DATA TO COMPARE"
   ]
  },
  {
   "cell_type": "code",
   "execution_count": 320,
   "metadata": {
    "scrolled": true
   },
   "outputs": [],
   "source": [
    "test_data = pd.read_csv(\"Google_Stock_Price_Test.csv\")\n",
    "\n",
    "test_set = test_data.iloc[:, 1:2].values"
   ]
  },
  {
   "cell_type": "code",
   "execution_count": 321,
   "metadata": {},
   "outputs": [],
   "source": [
    "data_total = pd.concat((train_data['Open'], test_data['Open']), axis=0)\n",
    "\n",
    "inputs=data_total[len(train_data) - len(test_data) - 50:].values\n",
    "\n",
    "inputs= inputs.reshape(-1,1)\n",
    "\n",
    "inputs = scaler.transform(inputs)\n"
   ]
  },
  {
   "cell_type": "code",
   "execution_count": 322,
   "metadata": {},
   "outputs": [],
   "source": [
    "X_test = []\n",
    "y_test = []\n",
    "n=70\n",
    "\n",
    "for i in range(n,inputs.shape[0]):\n",
    "    X_test.append(inputs[i-n:i,0])\n"
   ]
  },
  {
   "cell_type": "code",
   "execution_count": 323,
   "metadata": {},
   "outputs": [
    {
     "data": {
      "text/plain": [
       "(20, 70, 1)"
      ]
     },
     "execution_count": 323,
     "metadata": {},
     "output_type": "execute_result"
    }
   ],
   "source": [
    "X_test = np.array(X_test)\n",
    "X_test = np.reshape(X_test, (X_test.shape[0],X_test.shape[1], 1))\n",
    "\n",
    "X_test.shape\n"
   ]
  },
  {
   "cell_type": "code",
   "execution_count": 324,
   "metadata": {},
   "outputs": [],
   "source": [
    "y_pred = reg.predict(X_test)"
   ]
  },
  {
   "cell_type": "code",
   "execution_count": 325,
   "metadata": {},
   "outputs": [],
   "source": [
    "y_pred = scaler.inverse_transform(y_pred)"
   ]
  },
  {
   "cell_type": "markdown",
   "metadata": {},
   "source": [
    "# VISUALIZE"
   ]
  },
  {
   "cell_type": "code",
   "execution_count": 326,
   "metadata": {},
   "outputs": [
    {
     "data": {
      "image/png": "[encoded data removed]",
      "text/plain": [
       "<Figure size 1440x360 with 1 Axes>"
      ]
     },
     "metadata": {
      "needs_background": "light"
     },
     "output_type": "display_data"
    }
   ],
   "source": [
    "#Visualize Results\n",
    "plt.figure(figsize=(20,5))\n",
    "plt.plot(test_set, color='red', label = \"Real stock price\")\n",
    "plt.plot(y_pred, color='blue', label = \"Predicted stock price\")\n",
    "plt.title(\"Google Stock Price Compared to Test Set\")\n",
    "plt.xlabel(\"Time\")\n",
    "plt.ylabel(\"Stock Price\")\n",
    "plt.legend()\n",
    "plt.show()"
   ]
  },
  {
   "cell_type": "markdown",
   "metadata": {},
   "source": [
    "# Linear Regression"
   ]
  },
  {
   "cell_type": "code",
   "execution_count": 289,
   "metadata": {},
   "outputs": [],
   "source": [
    "from sklearn.linear_model import LinearRegression\n",
    "from sklearn import metrics"
   ]
  },
  {
   "cell_type": "code",
   "execution_count": 290,
   "metadata": {},
   "outputs": [
    {
     "data": {
      "text/html": [
       "<div>\n",
       "<style scoped>\n",
       "    .dataframe tbody tr th:only-of-type {\n",
       "        vertical-align: middle;\n",
       "    }\n",
       "\n",
       "    .dataframe tbody tr th {\n",
       "        vertical-align: top;\n",
       "    }\n",
       "\n",
       "    .dataframe thead th {\n",
       "        text-align: right;\n",
       "    }\n",
       "</style>\n",
       "<table border=\"1\" class=\"dataframe\">\n",
       "  <thead>\n",
       "    <tr style=\"text-align: right;\">\n",
       "      <th></th>\n",
       "      <th>Date</th>\n",
       "      <th>Open</th>\n",
       "      <th>High</th>\n",
       "      <th>Low</th>\n",
       "      <th>Close</th>\n",
       "      <th>Volume</th>\n",
       "    </tr>\n",
       "  </thead>\n",
       "  <tbody>\n",
       "    <tr>\n",
       "      <th>0</th>\n",
       "      <td>2012-01-03</td>\n",
       "      <td>325.25</td>\n",
       "      <td>332.83</td>\n",
       "      <td>324.97</td>\n",
       "      <td>663.59</td>\n",
       "      <td>7380500.0</td>\n",
       "    </tr>\n",
       "    <tr>\n",
       "      <th>1</th>\n",
       "      <td>2012-01-04</td>\n",
       "      <td>331.27</td>\n",
       "      <td>333.87</td>\n",
       "      <td>329.08</td>\n",
       "      <td>666.45</td>\n",
       "      <td>5749400.0</td>\n",
       "    </tr>\n",
       "    <tr>\n",
       "      <th>2</th>\n",
       "      <td>2012-01-05</td>\n",
       "      <td>329.83</td>\n",
       "      <td>330.75</td>\n",
       "      <td>326.89</td>\n",
       "      <td>657.21</td>\n",
       "      <td>6590300.0</td>\n",
       "    </tr>\n",
       "    <tr>\n",
       "      <th>3</th>\n",
       "      <td>2012-01-06</td>\n",
       "      <td>328.34</td>\n",
       "      <td>328.77</td>\n",
       "      <td>323.68</td>\n",
       "      <td>648.24</td>\n",
       "      <td>5405900.0</td>\n",
       "    </tr>\n",
       "    <tr>\n",
       "      <th>4</th>\n",
       "      <td>2012-01-09</td>\n",
       "      <td>322.04</td>\n",
       "      <td>322.29</td>\n",
       "      <td>309.46</td>\n",
       "      <td>620.76</td>\n",
       "      <td>11688800.0</td>\n",
       "    </tr>\n",
       "  </tbody>\n",
       "</table>\n",
       "</div>"
      ],
      "text/plain": [
       "         Date    Open    High     Low   Close      Volume\n",
       "0  2012-01-03  325.25  332.83  324.97  663.59   7380500.0\n",
       "1  2012-01-04  331.27  333.87  329.08  666.45   5749400.0\n",
       "2  2012-01-05  329.83  330.75  326.89  657.21   6590300.0\n",
       "3  2012-01-06  328.34  328.77  323.68  648.24   5405900.0\n",
       "4  2012-01-09  322.04  322.29  309.46  620.76  11688800.0"
      ]
     },
     "execution_count": 290,
     "metadata": {},
     "output_type": "execute_result"
    }
   ],
   "source": [
    "tr_data = train_data = pd.read_csv('Google_Stock_Price_Train.csv', date_parser = True)\n",
    "tr_data.head()"
   ]
  },
  {
   "cell_type": "code",
   "execution_count": 291,
   "metadata": {},
   "outputs": [
    {
     "data": {
      "text/html": [
       "<div>\n",
       "<style scoped>\n",
       "    .dataframe tbody tr th:only-of-type {\n",
       "        vertical-align: middle;\n",
       "    }\n",
       "\n",
       "    .dataframe tbody tr th {\n",
       "        vertical-align: top;\n",
       "    }\n",
       "\n",
       "    .dataframe thead th {\n",
       "        text-align: right;\n",
       "    }\n",
       "</style>\n",
       "<table border=\"1\" class=\"dataframe\">\n",
       "  <thead>\n",
       "    <tr style=\"text-align: right;\">\n",
       "      <th></th>\n",
       "      <th>Date</th>\n",
       "      <th>Open</th>\n",
       "      <th>High</th>\n",
       "      <th>Low</th>\n",
       "      <th>Close</th>\n",
       "      <th>Volume</th>\n",
       "    </tr>\n",
       "  </thead>\n",
       "  <tbody>\n",
       "    <tr>\n",
       "      <th>0</th>\n",
       "      <td>2017-01-03</td>\n",
       "      <td>778.81</td>\n",
       "      <td>789.63</td>\n",
       "      <td>775.80</td>\n",
       "      <td>786.14</td>\n",
       "      <td>1657300</td>\n",
       "    </tr>\n",
       "    <tr>\n",
       "      <th>1</th>\n",
       "      <td>2017-01-04</td>\n",
       "      <td>788.36</td>\n",
       "      <td>791.34</td>\n",
       "      <td>783.16</td>\n",
       "      <td>786.90</td>\n",
       "      <td>1073000</td>\n",
       "    </tr>\n",
       "    <tr>\n",
       "      <th>2</th>\n",
       "      <td>2017-01-05</td>\n",
       "      <td>786.08</td>\n",
       "      <td>794.48</td>\n",
       "      <td>785.02</td>\n",
       "      <td>794.02</td>\n",
       "      <td>1335200</td>\n",
       "    </tr>\n",
       "    <tr>\n",
       "      <th>3</th>\n",
       "      <td>2017-01-06</td>\n",
       "      <td>795.26</td>\n",
       "      <td>807.90</td>\n",
       "      <td>792.20</td>\n",
       "      <td>806.15</td>\n",
       "      <td>1640200</td>\n",
       "    </tr>\n",
       "    <tr>\n",
       "      <th>4</th>\n",
       "      <td>2017-01-09</td>\n",
       "      <td>806.40</td>\n",
       "      <td>809.97</td>\n",
       "      <td>802.83</td>\n",
       "      <td>806.65</td>\n",
       "      <td>1272400</td>\n",
       "    </tr>\n",
       "  </tbody>\n",
       "</table>\n",
       "</div>"
      ],
      "text/plain": [
       "         Date    Open    High     Low   Close   Volume\n",
       "0  2017-01-03  778.81  789.63  775.80  786.14  1657300\n",
       "1  2017-01-04  788.36  791.34  783.16  786.90  1073000\n",
       "2  2017-01-05  786.08  794.48  785.02  794.02  1335200\n",
       "3  2017-01-06  795.26  807.90  792.20  806.15  1640200\n",
       "4  2017-01-09  806.40  809.97  802.83  806.65  1272400"
      ]
     },
     "execution_count": 291,
     "metadata": {},
     "output_type": "execute_result"
    }
   ],
   "source": [
    "tst_data = pd.read_csv('Google_Stock_Price_Test.csv', date_parser = True)\n",
    "tst_data.head()"
   ]
  },
  {
   "cell_type": "code",
   "execution_count": 292,
   "metadata": {},
   "outputs": [],
   "source": [
    "x_tr = tr_data[['Open','High', 'Low', 'Volume']].values\n",
    "y_tr = tr_data['Close'].values"
   ]
  },
  {
   "cell_type": "code",
   "execution_count": 293,
   "metadata": {},
   "outputs": [],
   "source": [
    "x_tst = tst_data[['Open','High', 'Low', 'Volume']].values\n",
    "y_tst = tst_data['Close'].values"
   ]
  },
  {
   "cell_type": "code",
   "execution_count": 294,
   "metadata": {},
   "outputs": [],
   "source": [
    "x_train, y_train = x_tr, y_tr\n",
    "x_test, y_test = x_tst, y_tst"
   ]
  },
  {
   "cell_type": "code",
   "execution_count": 295,
   "metadata": {},
   "outputs": [
    {
     "data": {
      "text/plain": [
       "LinearRegression(copy_X=True, fit_intercept=True, n_jobs=None, normalize=False)"
      ]
     },
     "execution_count": 295,
     "metadata": {},
     "output_type": "execute_result"
    }
   ],
   "source": [
    "regressor = LinearRegression()\n",
    "regressor.fit(x_train, y_train)"
   ]
  },
  {
   "cell_type": "code",
   "execution_count": 296,
   "metadata": {},
   "outputs": [
    {
     "name": "stdout",
     "output_type": "stream",
     "text": [
      "[754.40588319 798.71235287 795.07824942 743.57927405 829.4820455\n",
      " 842.971888   824.66560288 819.38288804 853.16453882 836.00568628\n",
      " 850.32137505 809.50764    865.09686812 747.53742228 836.37799812\n",
      " 813.03267399 868.59517571 750.37950626 807.90366731 817.04218114]\n"
     ]
    }
   ],
   "source": [
    "predicted = regressor.predict(x_test)\n",
    "print(predicted)"
   ]
  },
  {
   "cell_type": "code",
   "execution_count": 297,
   "metadata": {},
   "outputs": [
    {
     "data": {
      "text/html": [
       "<div>\n",
       "<style scoped>\n",
       "    .dataframe tbody tr th:only-of-type {\n",
       "        vertical-align: middle;\n",
       "    }\n",
       "\n",
       "    .dataframe tbody tr th {\n",
       "        vertical-align: top;\n",
       "    }\n",
       "\n",
       "    .dataframe thead th {\n",
       "        text-align: right;\n",
       "    }\n",
       "</style>\n",
       "<table border=\"1\" class=\"dataframe\">\n",
       "  <thead>\n",
       "    <tr style=\"text-align: right;\">\n",
       "      <th></th>\n",
       "      <th>Actual</th>\n",
       "      <th>Predicted</th>\n",
       "    </tr>\n",
       "  </thead>\n",
       "  <tbody>\n",
       "    <tr>\n",
       "      <th>0</th>\n",
       "      <td>786.14</td>\n",
       "      <td>754.405883</td>\n",
       "    </tr>\n",
       "    <tr>\n",
       "      <th>1</th>\n",
       "      <td>786.90</td>\n",
       "      <td>798.712353</td>\n",
       "    </tr>\n",
       "    <tr>\n",
       "      <th>2</th>\n",
       "      <td>794.02</td>\n",
       "      <td>795.078249</td>\n",
       "    </tr>\n",
       "    <tr>\n",
       "      <th>3</th>\n",
       "      <td>806.15</td>\n",
       "      <td>743.579274</td>\n",
       "    </tr>\n",
       "    <tr>\n",
       "      <th>4</th>\n",
       "      <td>806.65</td>\n",
       "      <td>829.482045</td>\n",
       "    </tr>\n",
       "    <tr>\n",
       "      <th>5</th>\n",
       "      <td>804.79</td>\n",
       "      <td>842.971888</td>\n",
       "    </tr>\n",
       "    <tr>\n",
       "      <th>6</th>\n",
       "      <td>807.91</td>\n",
       "      <td>824.665603</td>\n",
       "    </tr>\n",
       "    <tr>\n",
       "      <th>7</th>\n",
       "      <td>806.36</td>\n",
       "      <td>819.382888</td>\n",
       "    </tr>\n",
       "    <tr>\n",
       "      <th>8</th>\n",
       "      <td>807.88</td>\n",
       "      <td>853.164539</td>\n",
       "    </tr>\n",
       "    <tr>\n",
       "      <th>9</th>\n",
       "      <td>804.61</td>\n",
       "      <td>836.005686</td>\n",
       "    </tr>\n",
       "    <tr>\n",
       "      <th>10</th>\n",
       "      <td>806.07</td>\n",
       "      <td>850.321375</td>\n",
       "    </tr>\n",
       "    <tr>\n",
       "      <th>11</th>\n",
       "      <td>802.17</td>\n",
       "      <td>809.507640</td>\n",
       "    </tr>\n",
       "    <tr>\n",
       "      <th>12</th>\n",
       "      <td>805.02</td>\n",
       "      <td>865.096868</td>\n",
       "    </tr>\n",
       "    <tr>\n",
       "      <th>13</th>\n",
       "      <td>819.31</td>\n",
       "      <td>747.537422</td>\n",
       "    </tr>\n",
       "    <tr>\n",
       "      <th>14</th>\n",
       "      <td>823.87</td>\n",
       "      <td>836.377998</td>\n",
       "    </tr>\n",
       "    <tr>\n",
       "      <th>15</th>\n",
       "      <td>835.67</td>\n",
       "      <td>813.032674</td>\n",
       "    </tr>\n",
       "    <tr>\n",
       "      <th>16</th>\n",
       "      <td>832.15</td>\n",
       "      <td>868.595176</td>\n",
       "    </tr>\n",
       "    <tr>\n",
       "      <th>17</th>\n",
       "      <td>823.31</td>\n",
       "      <td>750.379506</td>\n",
       "    </tr>\n",
       "    <tr>\n",
       "      <th>18</th>\n",
       "      <td>802.32</td>\n",
       "      <td>807.903667</td>\n",
       "    </tr>\n",
       "    <tr>\n",
       "      <th>19</th>\n",
       "      <td>796.79</td>\n",
       "      <td>817.042181</td>\n",
       "    </tr>\n",
       "  </tbody>\n",
       "</table>\n",
       "</div>"
      ],
      "text/plain": [
       "    Actual   Predicted\n",
       "0   786.14  754.405883\n",
       "1   786.90  798.712353\n",
       "2   794.02  795.078249\n",
       "3   806.15  743.579274\n",
       "4   806.65  829.482045\n",
       "5   804.79  842.971888\n",
       "6   807.91  824.665603\n",
       "7   806.36  819.382888\n",
       "8   807.88  853.164539\n",
       "9   804.61  836.005686\n",
       "10  806.07  850.321375\n",
       "11  802.17  809.507640\n",
       "12  805.02  865.096868\n",
       "13  819.31  747.537422\n",
       "14  823.87  836.377998\n",
       "15  835.67  813.032674\n",
       "16  832.15  868.595176\n",
       "17  823.31  750.379506\n",
       "18  802.32  807.903667\n",
       "19  796.79  817.042181"
      ]
     },
     "execution_count": 297,
     "metadata": {},
     "output_type": "execute_result"
    }
   ],
   "source": [
    "dframe = pd.DataFrame({'Actual':y_test.flatten(), 'Predicted':predicted.flatten()})\n",
    "dframe.head(20)"
   ]
  },
  {
   "cell_type": "code",
   "execution_count": 298,
   "metadata": {},
   "outputs": [],
   "source": [
    "import math"
   ]
  },
  {
   "cell_type": "code",
   "execution_count": 299,
   "metadata": {},
   "outputs": [
    {
     "data": {
      "image/png": "[encoded data removed]",
      "text/plain": [
       "<Figure size 1440x360 with 1 Axes>"
      ]
     },
     "metadata": {
      "needs_background": "light"
     },
     "output_type": "display_data"
    }
   ],
   "source": [
    "plt.figure(figsize=(20,5))\n",
    "plt.plot(y_test, color='red', label = \"Real stock price\")\n",
    "plt.plot(predicted, color='blue', label = \"Predicted stock price\")\n",
    "plt.title(\"Prediction of Google Stock Price\")\n",
    "plt.xlabel(\"Time\")\n",
    "plt.ylabel(\"Stock Price\")\n",
    "plt.legend()\n",
    "plt.show()"
   ]
  }
 ],
 "metadata": {
  "kernelspec": {
   "display_name": "Python 3",
   "language": "python",
   "name": "python3"
  },
  "language_info": {
   "codemirror_mode": {
    "name": "ipython",
    "version": 3
   },
   "file_extension": ".py",
   "mimetype": "text/x-python",
   "name": "python",
   "nbconvert_exporter": "python",
   "pygments_lexer": "ipython3",
   "version": "3.7.6"
  }
 },
 "nbformat": 4,
 "nbformat_minor": 4
}
