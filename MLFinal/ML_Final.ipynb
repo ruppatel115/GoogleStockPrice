{
 "cells": [
  {
   "cell_type": "markdown",
   "metadata": {},
   "source": [
    "# Google Stock Prediction"
   ]
  },
  {
   "cell_type": "markdown",
   "metadata": {},
   "source": [
    "# Rup Patel, Damel Albertos, Joel Jerez"
   ]
  },
  {
   "cell_type": "markdown",
   "metadata": {},
   "source": [
    "### Introduction\n",
    "#### The stock market is the aggregation of buyers and sellers of stocks (shares) represents some ownership for a business or corporation. This can include public or privately traded company and many use this as a way to invest into their future. There are many different stocks out on the market today; One of the most prestigious companies and stock out that is publicly traded is Google. The purpose of this project is to see if we can create a model to help us accurately predict Google's stock price and use the model as a method of evaluation for our next investment. "
   ]
  },
  {
   "cell_type": "markdown",
   "metadata": {},
   "source": [
    "### Source\n",
    "\n",
    "#### We got this data set from Kaggle which includes a training set with 1258 days of the stock price from the beginning of 2012 up until the end of 2016. The test file has the stock prices for 20 days in January 2017 which we will use to test. The files come with 6 main features that include the Date, Open, High, Low, Close and Volume."
   ]
  },
  {
   "cell_type": "markdown",
   "metadata": {},
   "source": [
    "### Import Necessary Libraries we will be using"
   ]
  },
  {
   "cell_type": "code",
   "execution_count": 99,
   "metadata": {},
   "outputs": [],
   "source": [
    "import numpy as np\n",
    "import matplotlib.pyplot as plt\n",
    "import pandas as pd\n",
    "from sklearn.preprocessing import MinMaxScaler\n",
    "from tensorflow.keras import Sequential\n",
    "from tensorflow.keras.layers import Dense, LSTM, Dropout\n",
    "from sklearn import metrics"
   ]
  },
  {
   "cell_type": "markdown",
   "metadata": {},
   "source": [
    "## Create our training set and Model"
   ]
  },
  {
   "cell_type": "code",
   "execution_count": 123,
   "metadata": {},
   "outputs": [
    {
     "data": {
      "text/plain": [
       "array([[325.25],\n",
       "       [331.27],\n",
       "       [329.83],\n",
       "       ...,\n",
       "       [793.7 ],\n",
       "       [783.33],\n",
       "       [782.75]])"
      ]
     },
     "execution_count": 123,
     "metadata": {},
     "output_type": "execute_result"
    }
   ],
   "source": [
    "#import training set\n",
    "train_data = pd.read_csv('Google_Stock_Price_Train.csv', date_parser = True)\n",
    "\n",
    "#select column values we want to include\n",
    "training_set = train_data.iloc[:,1:2].values\n",
    "\n",
    "training_set\n"
   ]
  },
  {
   "cell_type": "code",
   "execution_count": 17,
   "metadata": {
    "scrolled": true
   },
   "outputs": [
    {
     "data": {
      "text/plain": [
       "1258"
      ]
     },
     "execution_count": 17,
     "metadata": {},
     "output_type": "execute_result"
    }
   ],
   "source": [
    "#feature scaling to give us values between 0 and 1 \n",
    "scaler = MinMaxScaler(feature_range=(0,1))\n",
    "\n",
    "#fit the data\n",
    "train_set_sc = scaler.fit_transform(training_set)\n"
   ]
  },
  {
   "cell_type": "code",
   "execution_count": 107,
   "metadata": {},
   "outputs": [],
   "source": [
    "X_train=[]\n",
    "y_train = []\n",
    "n=60\n",
    "\n",
    "#create training sets with timesteps\n",
    "\n",
    "for i in range(n,len(train_set_sc)):\n",
    "    X_train.append(train_set_sc[i-n: i,0])\n",
    "    y_train.append(train_set_sc[i,0])\n",
    "\n"
   ]
  },
  {
   "cell_type": "code",
   "execution_count": 108,
   "metadata": {},
   "outputs": [
    {
     "data": {
      "text/plain": [
       "(1198, 60, 1)"
      ]
     },
     "execution_count": 108,
     "metadata": {},
     "output_type": "execute_result"
    }
   ],
   "source": [
    "#Make them into np array \n",
    "X_train, y_train = np.array(X_train), np.array(y_train)\n",
    "\n",
    "\n",
    "#Reshape so we have our correct dimensions\n",
    "X_train = np.reshape(X_train, (X_train.shape[0], X_train.shape[1], 1))\n",
    "\n",
    "#dimension is 3\n",
    "X_train.shape"
   ]
  },
  {
   "cell_type": "markdown",
   "metadata": {},
   "source": [
    "# LSTM MODEL"
   ]
  },
  {
   "cell_type": "code",
   "execution_count": 109,
   "metadata": {},
   "outputs": [],
   "source": [
    "reg = Sequential()\n",
    "#How many layers or units we want in our LSTM network"
    "reg.add(LSTM(units = 50,return_sequences = True,  input_shape=(X_train.shape[1], 1)))\n",
    "#Include Dropout of how many NN neurons randomly dropped
    "reg.add(Dropout(0.2))\n",
    "\n",
    "\n",
    "#Second LSTM Layer\n",
    "reg.add(LSTM(units = 50, return_sequences = True))\n",
    "reg.add(Dropout(0.3))\n",
    "\n",
    "# Third LSTM Layer\n",
    "reg.add(LSTM(units = 50, return_sequences = True))\n",
    "reg.add(Dropout(0.4))\n",
    "\n",
    "# Fourth LSTM Layer\n",
    "reg.add(LSTM(units = 50))\n",
    "reg.add(Dropout(0.5))\n",
    "\n",
    "\n",
    "# The output layer\n",
    "reg.add(Dense(units = 1))\n",
    "\n",
    "\n",
    "\n",
    "\n",
    "\n",
    "             "
   ]
  },
  {
   "cell_type": "code",
   "execution_count": 110,
   "metadata": {},
   "outputs": [
    {
     "name": "stdout",
     "output_type": "stream",
     "text": [
      "Model: \"sequential_4\"\n",
      "_________________________________________________________________\n",
      "Layer (type)                 Output Shape              Param #   \n",
      "=================================================================\n",
      "lstm_16 (LSTM)               (None, 60, 50)            10400     \n",
      "_________________________________________________________________\n",
      "dropout_16 (Dropout)         (None, 60, 50)            0         \n",
      "_________________________________________________________________\n",
      "lstm_17 (LSTM)               (None, 60, 50)            20200     \n",
      "_________________________________________________________________\n",
      "dropout_17 (Dropout)         (None, 60, 50)            0         \n",
      "_________________________________________________________________\n",
      "lstm_18 (LSTM)               (None, 60, 50)            20200     \n",
      "_________________________________________________________________\n",
      "dropout_18 (Dropout)         (None, 60, 50)            0         \n",
      "_________________________________________________________________\n",
      "lstm_19 (LSTM)               (None, 50)                20200     \n",
      "_________________________________________________________________\n",
      "dropout_19 (Dropout)         (None, 50)                0         \n",
      "_________________________________________________________________\n",
      "dense_4 (Dense)              (None, 1)                 51        \n",
      "=================================================================\n",
      "Total params: 71,051\n",
      "Trainable params: 71,051\n",
      "Non-trainable params: 0\n",
      "_________________________________________________________________\n"
     ]
    }
   ],
   "source": [
    "reg.summary()"
   ]
  },
  {
   "cell_type": "code",
   "execution_count": 111,
   "metadata": {},
   "outputs": [],
   "source": [
    "reg.compile(optimizer='adam', loss = 'mean_squared_error')"
   ]
  },
  {
   "cell_type": "code",
   "execution_count": 112,
   "metadata": {},
   "outputs": [
    {
     "name": "stdout",
     "output_type": "stream",
     "text": [
      "Epoch 1/100\n",
      "38/38 [==============================] - 4s 107ms/step - loss: 0.0601\n",
      "Epoch 2/100\n",
      "38/38 [==============================] - 4s 94ms/step - loss: 0.0147\n",
      "Epoch 3/100\n",
      "38/38 [==============================] - 3s 90ms/step - loss: 0.0125\n",
      "Epoch 4/100\n",
      "38/38 [==============================] - 3s 85ms/step - loss: 0.0109\n",
      "Epoch 5/100\n",
      "38/38 [==============================] - 3s 83ms/step - loss: 0.0115\n",
      "Epoch 6/100\n",
      "38/38 [==============================] - 3s 80ms/step - loss: 0.0106\n",
      "Epoch 7/100\n",
      "38/38 [==============================] - 3s 82ms/step - loss: 0.0090\n",
      "Epoch 8/100\n",
      "38/38 [==============================] - 3s 80ms/step - loss: 0.0100\n",
      "Epoch 9/100\n",
      "38/38 [==============================] - 3s 91ms/step - loss: 0.0098\n",
      "Epoch 10/100\n",
      "38/38 [==============================] - 4s 92ms/step - loss: 0.0090\n",
      "Epoch 11/100\n",
      "38/38 [==============================] - 3s 80ms/step - loss: 0.0093\n",
      "Epoch 12/100\n",
      "38/38 [==============================] - 3s 84ms/step - loss: 0.0082\n",
      "Epoch 13/100\n",
      "38/38 [==============================] - 3s 81ms/step - loss: 0.0091\n",
      "Epoch 14/100\n",
      "38/38 [==============================] - 3s 81ms/step - loss: 0.0074\n",
      "Epoch 15/100\n",
      "38/38 [==============================] - 3s 92ms/step - loss: 0.0071\n",
      "Epoch 16/100\n",
      "38/38 [==============================] - 4s 117ms/step - loss: 0.0069\n",
      "Epoch 17/100\n",
      "38/38 [==============================] - 5s 120ms/step - loss: 0.0070\n",
      "Epoch 18/100\n",
      "38/38 [==============================] - 4s 103ms/step - loss: 0.0069\n",
      "Epoch 19/100\n",
      "38/38 [==============================] - 3s 90ms/step - loss: 0.0068\n",
      "Epoch 20/100\n",
      "38/38 [==============================] - 3s 91ms/step - loss: 0.0061\n",
      "Epoch 21/100\n",
      "38/38 [==============================] - 3s 90ms/step - loss: 0.0070\n",
      "Epoch 22/100\n",
      "38/38 [==============================] - 4s 93ms/step - loss: 0.0068\n",
      "Epoch 23/100\n",
      "38/38 [==============================] - 4s 114ms/step - loss: 0.0058\n",
      "Epoch 24/100\n",
      "38/38 [==============================] - 4s 115ms/step - loss: 0.0066\n",
      "Epoch 25/100\n",
      "38/38 [==============================] - 4s 99ms/step - loss: 0.0057\n",
      "Epoch 26/100\n",
      "38/38 [==============================] - 3s 86ms/step - loss: 0.0050\n",
      "Epoch 27/100\n",
      "38/38 [==============================] - 3s 83ms/step - loss: 0.0057\n",
      "Epoch 28/100\n",
      "38/38 [==============================] - 3s 84ms/step - loss: 0.0056\n",
      "Epoch 29/100\n",
      "38/38 [==============================] - 3s 88ms/step - loss: 0.0058\n",
      "Epoch 30/100\n",
      "38/38 [==============================] - 3s 90ms/step - loss: 0.0052\n",
      "Epoch 31/100\n",
      "38/38 [==============================] - 3s 92ms/step - loss: 0.0049\n",
      "Epoch 32/100\n",
      "38/38 [==============================] - 3s 89ms/step - loss: 0.0046\n",
      "Epoch 33/100\n",
      "38/38 [==============================] - 3s 87ms/step - loss: 0.0050\n",
      "Epoch 34/100\n",
      "38/38 [==============================] - 3s 88ms/step - loss: 0.0049\n",
      "Epoch 35/100\n",
      "38/38 [==============================] - 3s 92ms/step - loss: 0.0053\n",
      "Epoch 36/100\n",
      "38/38 [==============================] - 4s 99ms/step - loss: 0.0047\n",
      "Epoch 37/100\n",
      "38/38 [==============================] - 4s 100ms/step - loss: 0.0051\n",
      "Epoch 38/100\n",
      "38/38 [==============================] - 4s 94ms/step - loss: 0.0041\n",
      "Epoch 39/100\n",
      "38/38 [==============================] - 4s 92ms/step - loss: 0.0046\n",
      "Epoch 40/100\n",
      "38/38 [==============================] - 3s 90ms/step - loss: 0.0051\n",
      "Epoch 41/100\n",
      "38/38 [==============================] - 3s 89ms/step - loss: 0.0042\n",
      "Epoch 42/100\n",
      "38/38 [==============================] - 3s 88ms/step - loss: 0.0044\n",
      "Epoch 43/100\n",
      "38/38 [==============================] - 3s 90ms/step - loss: 0.0041\n",
      "Epoch 44/100\n",
      "38/38 [==============================] - 3s 89ms/step - loss: 0.0039\n",
      "Epoch 45/100\n",
      "38/38 [==============================] - 3s 90ms/step - loss: 0.0039\n",
      "Epoch 46/100\n",
      "38/38 [==============================] - 3s 90ms/step - loss: 0.0043\n",
      "Epoch 47/100\n",
      "38/38 [==============================] - 3s 87ms/step - loss: 0.0041\n",
      "Epoch 48/100\n",
      "38/38 [==============================] - 3s 86ms/step - loss: 0.0042\n",
      "Epoch 49/100\n",
      "38/38 [==============================] - 3s 88ms/step - loss: 0.0041\n",
      "Epoch 50/100\n",
      "38/38 [==============================] - 3s 89ms/step - loss: 0.0043\n",
      "Epoch 51/100\n",
      "38/38 [==============================] - 4s 92ms/step - loss: 0.0037\n",
      "Epoch 52/100\n",
      "38/38 [==============================] - 3s 91ms/step - loss: 0.0038\n",
      "Epoch 53/100\n",
      "38/38 [==============================] - 3s 89ms/step - loss: 0.0040\n",
      "Epoch 54/100\n",
      "38/38 [==============================] - 3s 89ms/step - loss: 0.0036\n",
      "Epoch 55/100\n",
      "38/38 [==============================] - 3s 90ms/step - loss: 0.0040\n",
      "Epoch 56/100\n",
      "38/38 [==============================] - 3s 90ms/step - loss: 0.0036\n",
      "Epoch 57/100\n",
      "38/38 [==============================] - 3s 86ms/step - loss: 0.0035\n",
      "Epoch 58/100\n",
      "38/38 [==============================] - 3s 86ms/step - loss: 0.0034\n",
      "Epoch 59/100\n",
      "38/38 [==============================] - 3s 87ms/step - loss: 0.0034\n",
      "Epoch 60/100\n",
      "38/38 [==============================] - 3s 92ms/step - loss: 0.0037\n",
      "Epoch 61/100\n",
      "38/38 [==============================] - 3s 91ms/step - loss: 0.0033\n",
      "Epoch 62/100\n",
      "38/38 [==============================] - 4s 93ms/step - loss: 0.0034\n",
      "Epoch 63/100\n",
      "38/38 [==============================] - 3s 90ms/step - loss: 0.0029\n",
      "Epoch 64/100\n",
      "38/38 [==============================] - 3s 86ms/step - loss: 0.0033\n",
      "Epoch 65/100\n",
      "38/38 [==============================] - 3s 86ms/step - loss: 0.0031\n",
      "Epoch 66/100\n",
      "38/38 [==============================] - 3s 87ms/step - loss: 0.0032\n",
      "Epoch 67/100\n",
      "38/38 [==============================] - 3s 86ms/step - loss: 0.0031\n",
      "Epoch 68/100\n",
      "38/38 [==============================] - 3s 87ms/step - loss: 0.0032\n",
      "Epoch 69/100\n",
      "38/38 [==============================] - 3s 89ms/step - loss: 0.0032\n",
      "Epoch 70/100\n",
      "38/38 [==============================] - 3s 89ms/step - loss: 0.0028\n",
      "Epoch 71/100\n",
      "38/38 [==============================] - 3s 90ms/step - loss: 0.0032\n",
      "Epoch 72/100\n",
      "38/38 [==============================] - 3s 90ms/step - loss: 0.0029\n",
      "Epoch 73/100\n",
      "38/38 [==============================] - 3s 91ms/step - loss: 0.0029\n",
      "Epoch 74/100\n",
      "38/38 [==============================] - 3s 92ms/step - loss: 0.0029\n",
      "Epoch 75/100\n",
      "38/38 [==============================] - 3s 90ms/step - loss: 0.0030\n",
      "Epoch 76/100\n",
      "38/38 [==============================] - 4s 95ms/step - loss: 0.0028\n",
      "Epoch 77/100\n",
      "38/38 [==============================] - 4s 101ms/step - loss: 0.0031\n",
      "Epoch 78/100\n",
      "38/38 [==============================] - 4s 100ms/step - loss: 0.0030\n",
      "Epoch 79/100\n",
      "38/38 [==============================] - 4s 92ms/step - loss: 0.0028\n",
      "Epoch 80/100\n",
      "38/38 [==============================] - 3s 88ms/step - loss: 0.0028\n",
      "Epoch 81/100\n",
      "38/38 [==============================] - 3s 92ms/step - loss: 0.0030\n",
      "Epoch 82/100\n",
      "38/38 [==============================] - 3s 88ms/step - loss: 0.0026\n",
      "Epoch 83/100\n",
      "38/38 [==============================] - 3s 88ms/step - loss: 0.0031\n",
      "Epoch 84/100\n",
      "38/38 [==============================] - 3s 92ms/step - loss: 0.0028\n",
      "Epoch 85/100\n",
      "38/38 [==============================] - 4s 95ms/step - loss: 0.0029\n",
      "Epoch 86/100\n",
      "38/38 [==============================] - 4s 98ms/step - loss: 0.0026\n",
      "Epoch 87/100\n",
      "38/38 [==============================] - 4s 98ms/step - loss: 0.0031\n",
      "Epoch 88/100\n",
      "38/38 [==============================] - 4s 99ms/step - loss: 0.0026\n",
      "Epoch 89/100\n",
      "38/38 [==============================] - 4s 98ms/step - loss: 0.0029\n",
      "Epoch 90/100\n",
      "38/38 [==============================] - 4s 94ms/step - loss: 0.0027\n",
      "Epoch 91/100\n",
      "38/38 [==============================] - 4s 97ms/step - loss: 0.0027\n",
      "Epoch 92/100\n",
      "38/38 [==============================] - 4s 98ms/step - loss: 0.0030\n",
      "Epoch 93/100\n",
      "38/38 [==============================] - 3s 91ms/step - loss: 0.0026\n",
      "Epoch 94/100\n",
      "38/38 [==============================] - 3s 90ms/step - loss: 0.0028\n",
      "Epoch 95/100\n",
      "38/38 [==============================] - 3s 89ms/step - loss: 0.0028\n",
      "Epoch 96/100\n",
      "38/38 [==============================] - 3s 91ms/step - loss: 0.0027\n",
      "Epoch 97/100\n",
      "38/38 [==============================] - 3s 91ms/step - loss: 0.0028\n",
      "Epoch 98/100\n",
      "38/38 [==============================] - 4s 92ms/step - loss: 0.0028\n",
      "Epoch 99/100\n",
      "38/38 [==============================] - 4s 94ms/step - loss: 0.0029\n",
      "Epoch 100/100\n"
     ]
    },
    {
     "name": "stdout",
     "output_type": "stream",
     "text": [
      "38/38 [==============================] - 4s 99ms/step - loss: 0.0029\n"
     ]
    },
    {
     "data": {
      "text/plain": [
       "<tensorflow.python.keras.callbacks.History at 0x7f8f63c62a50>"
      ]
     },
     "execution_count": 112,
     "metadata": {},
     "output_type": "execute_result"
    }
   ],
   "source": [
    "reg.fit(X_train, y_train, epochs=100,batch_size=32)"
   ]
  },
  {
   "cell_type": "markdown",
   "metadata": {},
   "source": [
    "# PREP TEST DATA TO COMPARE"
   ]
  },
  {
   "cell_type": "code",
   "execution_count": 116,
   "metadata": {
    "scrolled": true
   },
   "outputs": [],
   "source": [
    "test_data = pd.read_csv(\"Google_Stock_Price_Test.csv\")\n",
    "\n",
    "test_set = test_data.iloc[:, 1:2].values\n"
   ]
  },
  {
   "cell_type": "code",
   "execution_count": 127,
   "metadata": {},
   "outputs": [],
   "source": [
    "#Get predicted stock price in January 2017 for our 20 days \n",
    "#concat the open column for both training and testdata\n",
    "data_total = pd.concat((train_data['Open'], test_data['Open']), axis=0)\n",
    "\n",
    "\n",
    "inputs=data_total[len(train_data) - len(test_data) - 60:].values\n",
    "#reshape to fix \n",
    "inputs= inputs.reshape(-1,1)\n",
    "\n",
    "\n",
    "inputs = scaler.transform(inputs)\n",
    "\n"
   ]
  },
  {
   "cell_type": "code",
   "execution_count": 128,
   "metadata": {},
   "outputs": [],
   "source": [
    "#Get our test set values from \n",
    "\n",
    "X_test = []\n",
    "y_test = []\n",
    "n=60\n",
    "\n",
    "for i in range(60,80):\n",
    "    X_test.append(inputs[i-n:i,0])\n"
   ]
  },
  {
   "cell_type": "code",
   "execution_count": 129,
   "metadata": {},
   "outputs": [
    {
     "data": {
      "text/plain": [
       "(20, 60, 1)"
      ]
     },
     "execution_count": 129,
     "metadata": {},
     "output_type": "execute_result"
    }
   ],
   "source": [
    "X_test = np.array(X_test)\n",
    "X_test = np.reshape(X_test, (X_test.shape[0],X_test.shape[1], 1))\n",
    "\n",
    "X_test.shape\n"
   ]
  },
  {
   "cell_type": "code",
   "execution_count": 130,
   "metadata": {},
   "outputs": [],
   "source": [
    "y_pred = reg.predict(X_test)"
   ]
  },
  {
   "cell_type": "code",
   "execution_count": 131,
   "metadata": {},
   "outputs": [],
   "source": [
    "y_pred = scaler.inverse_transform(y_pred)"
   ]
  },
  {
   "cell_type": "markdown",
   "metadata": {},
   "source": [
    "# VISUALIZE"
   ]
  },
  {
   "cell_type": "code",
   "execution_count": 132,
   "metadata": {},
   "outputs": [
    {
     "data": {
      "image/png": "iVBORw0KGgoAAAANSUhEUgAAA3sAAAFNCAYAAAC5cXZ6AAAABHNCSVQICAgIfAhkiAAAAAlwSFlzAAALEgAACxIB0t1+/AAAADh0RVh0U29mdHdhcmUAbWF0cGxvdGxpYiB2ZXJzaW9uMy4xLjMsIGh0dHA6Ly9tYXRwbG90bGliLm9yZy+AADFEAAAgAElEQVR4nOzdd3hUdfbH8feRIlWaWCgCrgU1kAABAREL2FZFXUFZUAF7wbrWXQviWlZcu4LYsK3yw7Vg2ZUVAcUCREVEkKYgTUF6h5Dz++N7Q0JIQhIy3JTP63nuMzO3njsZcc6cbzF3R0RERERERMqWPeIOQERERERERIqfkj0REREREZEySMmeiIiIiIhIGaRkT0REREREpAxSsiciIiIiIlIGKdkTEREREREpg5TsiYiUMWY2wMxejTuO/JjZXDPrmqBz/2Bmxybi3OWBmQ0zs7/HHYeIiOw6JXsiIgliZj3NbIKZrTOzJdHzK83M4o4tL2bWycy+MLNVZrbczD43s7bRtr5mNj6GmDx6D9ea2UIze9jMKuS1v7sf4e5jExDHSWb2qZmtMbOlZjbOzLoV93VKsl35DJjZkOhvuNbMNpvZlmyv/7MLMV1uZh/vZJ9kMxttZiuiZVJBf2wws1/NrFNR4xMRiZOSPRGRBDCzvwCPAYOA/YB9gcuBo4DKMYaWJzPbC3gfeAKoCzQE7gY2xRlXJNndawBdgF7AJTl3MLOKibq4mXUHRgAvA40If887gdMTdc3ikMj3pLDc/XJ3rxH9He8Dhme+dvdTEnVdM9sD+AB4F9iH8N/jX4B1ibqmiEhJoWRPRKSYmVktYCBwpbu/6e5rPPjW3Xu7+6bM/czs5ahKNM/Mbo++mGJme0Sv50VVwZej82Ze44Jo2zIzuyO/ZpFm1j6q1q00s+/yaeJ4CIC7v+7uW919g7uPcvcpZnYYMAToEFViVu7sHqLtl5jZ9KgaNs3MWucSX3Mz+9nMeu7svXX3H4HPgKTo2LlmdouZTQHWmVnF7O+FmVUws7+a2Zwohq/NrHG26/4vqmDOMLNz8nj/DHgYuMfdn3P3Ve6e4e7j3P2SaJ88/15m1jSqTvYzs/lRZelyM2trZlOiv8uT2a7XN6qoPmGhwvqjmXXJtr1ftvf0JzO7LNu2Y81sQfSe/Aq8GK0/zcwmR9f6wsxaZjumlZl9E51vOFAlj/ehSJ+BwjCzoy1UwFdGMR2Vbdsl0d828757mFkr4FHg2CimX3M5bQPCDxfPuvsWd9/k7p+6+5fZzn1Wtr/FZ2Z2eLR+BCFBHBWd/5qi3JeISGzcXYsWLVq0FOMCnAykAxV3st/LhGpDTaApMBO4KNp2ITAbOBCoAbwFvBJtOxxYC3QiVAkfArYAXaPtA4BXo+cNgWXAHwk/8J0Qva6fSzx7RdteAk4B6uTY3hcYX4h76AEsBNoCBhwENIm2zQW6Aq2BX4DT8nmfHDgo273/mu0ac4HJQGOgavZzR89vAr4HDo1iSAbqAdWB+UA/oGIUx+/AEblcv3kUQ7N8Yszv79U0On4IIZE6EdgIvENIJBoCS4Bjsr3P6cD1QCXgXGAVUDfafirwh+h+jgHWA62jbcdGx/4D2BOoGt3bEuBIoALQJ3qP9iR8fuZlu1Z3wmfp73ncZ6E+A/m8XwOIPqPZ1jUlfP66Ej6rfwSWAnWiZSXwh2yf68Oi55cDH+dzrYrR/b4NnAHsk2N7e2Ax0CZ6fy6N7qFitP1XoFPc/65o0aJFS1EWVfZERIrf3sDv7p6euSJbZW2DmXW20OfsXOA2D5W/ucA/gfOjQ3oDD7v7T+6+FrgN6GmhWV534D13H+/umwnNCT2PWM4DPnT3Dz1Uo/4HpBG+SG/H3VcTEkgHngWWmtlIM9s3txMX4B4uBh5090kezHb3edlOcTQwEujj7u/n9WZGvjGzFcB7wHNEFavI4+4+39035HLcxcDt7j4jiuE7d18GnAbMdfcX3T3d3b8B/k14b3OqFz0uzie+/P5eme5x943uPorQhPB1d1/i7gsJ1cpW2fZdAjzqoRI1HJhBSPJw9w/cfU50P+OAUYT3MlMGcJeHCtYGQpPXZ9x9goeK7UuEprnto6VStmu9CUzK5z63U4DPQGH0Ad5y94+jz+qHwDRCcpwpycyquPtCd59ekJNG/x0eA/xGqAIuttB/r1m0y2XAk+7+dfT+DCUkwm2KcA8iIiWKkj0RkeK3DNg7+xd9d+/o7rWjbXsQEsLMqkqmeYSKBYSmZzm3VST0FWtAqEplnnt9dN7cNAF6RInmyqjpXSdg/9x2dvfp7t7X3RsRmko2IHxBzs3O7qExMCePYyFUZL5w9zH57JOptbvXcfc/uPvt7p6Rbdv8PI/KO4YmwJE53pfehP5cOWW+t7m+Z5H8/l6Zfsv2fEMur2tke73Q3bMn8POia2Bmp5jZV1Hz05WExH3vbPsudfeN2V43Af6S414bR+drkMe1Cmpnn4HCaAKclyPOVKCBu68g/H2uAX6NfoQ4qKAndvd5HvoMNiNUXwFeyHbdv+a4bv0i3oOISImiZE9EpPh9SaicnJHPPr8Tmss1ybbuAEKzR4BFuWxLJyQIiwmDhABgZlXJqj7lNJ/QnLB2tqW6uz+ws5vw0D9uGFH/OHasHu7sHuYTmhvm5XLgADN7ZGex7CzUfLblFcN8YFyO96WGu1+Ry74zov3Pzuc6+f29iqJh1Fcw+/kWmdmehArkQ8C+0Q8IHxKadGbK+X7MB+7Nca/V3P11wmcpt2vlpbCfgcKYDzyXy2f1EdhW0exCSFB/AQbnEVO+ouryYLI+1/OBO3N5f94qyvlFREoSJXsiIsXM3VcSRrF82sy6m1mNaACPFEJfMdx9K/B/wL1mVtPMmgA3AJnz470OXG9mzcws++iF6cCbwOlm1tHMKkfXyms6h1ejfU+yMFhJlWgQj0Y5d7QwYMlfMrdZGMjkz8BX0S6/AY2iaxbkHp4DbjSzNhYcFO2TaQ2hf2NnM9tp8llEzwH3mNnBUQwtzaweYdTRQ8zsfDOrFC1to0FIthNVvW4A7rAwOMpe0d+zk5kNjXbL7+9VFPsA10Rx9QAOIyR1lQlNDJcC6WZ2Cts3c8zNs8DlZnZk9B5UN7NTzawm4YeJ9OhaFc3sT0C7fM5V2M9AYbxEqEJ3iT6rVaPn+5lZwyjmaoQfUtYCW7PF1NjMKuV2UjPb18zuNLMDo/vfh9D3MPNzPRS42sxSo+01zKxbdK3M8x+Yy6lFREo8JXsiIgng7g8SvvTeTOh/9RvwDHAL8EW029WEvls/AeOBf5HVtOwF4BXgU+BnwoAeV0fn/iF6/gahMrMmusYOUyS4+3xChfGvhARhPmHQktz+/V9DGMRjgpmtI3wZnkoYph7gE+AHQjO633d2D+4+Arg3WreGMCBJ3RzxrSQMGnOKmd2TS0y76mFCMjIKWA08TxjIZQ0hSepJqMr9StagJjuI+rKdSxiIZRHh7/l3wsAkkM/fq4gmAAcTKmf3At3dfVkU9zXRPa0gTEMxMr8TuXsaod/ek9ExswnJDh76fP4per0iuse3cjtPpFCfgcJw958I1dO7Cfc9D7iW8FmtQOgH+SuhWW1bst7f/xIGYFliZgtyOfVGwns5lvA5/C6614uj635OeE+fIQwCM5PwvmZW9O4lJLMrzax/Ye9LRCROtn0zfRERKW2iStJK4GB3/znueGTXmFlf4GJ310TeIiKyS1TZExEphczsdDOrZmbVCf23vidUN0REREQAJXsiIqXVGYTmhIsITdR6uppqiIiISDZqxikiIiIiIlIGqbInIiIiIiJSBinZExERERERKYMqxh3Arth77729adOmcYchIiIiIiISi6+//vp3d6+f27aEJntmdj1hHhsnjBTXz903RtueiF7XiF7vCbwMtCHMoXOuu8/N7/xNmzYlLS0tcTcgIiIiIiJSgpnZvLy2JawZp5k1JExSmuruSYQJUXtG21KB2jkOuQhY4e4HAY8QJrcVERERERGRIkh0n72KQFUzqwhUAxaZWQVgEHBzjn3PAF6Knr8JdDEzS3B8IiIiIiIiZVLCkj13X0iY6PcXYDGwyt1HAf2Bke6+OMchDYH50bHpwCqgXqLiExERERERKcsS1mfPzOoQqnXNgJXACDO7AOgBHJvbIbms22ESQDO7FLgU4IADDtjhgC1btrBgwQI2btxY5Nil/KhSpQqNGjWiUqVKcYciIiIiIlKsEjlAS1fgZ3dfCmBmbwF3A1WB2VELzWpmNjvqp7cAaAwsiJp91gKW5zypuw8FhgKkpqbukAwuWLCAmjVr0rRpU9QKVPLj7ixbtowFCxbQrFmzuMMRERERESlWieyz9wvQ3syqRX3vugAPu/t+7t7U3ZsC66NED2Ak0Cd63h34xN13SOZ2ZuPGjdSrV0+JnuyUmVGvXj1VgUVERESkTEpYZc/dJ5jZm8A3QDrwLVFFLg/PA6+Y2WxCRa9nUa+tRE8KSp8VERERESmrEjoap7vf5e7N3T3J3c939005ttfI9nyju/dw94PcvZ27/5TI2BKpQoUKpKSkkJSUxOmnn87KlSuLfK6mTZvy+++/F2jfYcOGsWjRoiJdZ9iwYfTv379Ix+amY8eOxXYuEREREREpvERPvVAuVa1alcmTJzN16lTq1q3LU089tVuuuyvJXnHZunUrAF988UWscYiIiIiIlHdK9hKsQ4cOLFy4cNvrQYMG0bZtW1q2bMldd921bf2ZZ55JmzZtOOKIIxg6NL/WriGh6tu3L0lJSbRo0YJHHnmEN998k7S0NHr37k1KSgobNmxg9OjRtGrVihYtWnDhhReyaVMorE6aNImOHTuSnJxMu3btWLNmzXbn/+CDD+jQocMOFcUBAwZw/vnnc/zxx3PwwQfz7LPPAjB27FiOO+44evXqRYsWLQCoUWNb0ZYHH3yQFi1akJyczK233grAnDlzOPnkk2nTpg1HH300P/74Y2HfWhEREZGSY8oU+PBDWLUq7khEtknkaJzl3tatWxk9ejQXXXQRAKNGjWLWrFlMnDgRd6dbt258+umndO7cmRdeeIG6deuyYcMG2rZty9lnn029erlPMzh58mQWLlzI1KlTAVi5ciW1a9fmySef5KGHHiI1NZWNGzfSt29fRo8ezSGHHMIFF1zA4MGDufLKKzn33HMZPnw4bdu2ZfXq1VStWnXbud9++20efvhhPvzwQ+rUqbPDtadMmcJXX33FunXraNWqFaeeeioAEydOZOrUqTuMavmf//yHd955hwkTJlCtWjWWLw8DrF566aUMGTKEgw8+mAkTJnDllVfyySef7PqbLiIiIrI7bdgAd94JDz8MGRmwxx7QujUcd1xYOnWCmjXjjlLKqbKd7F13HUyeXLznTEmBRx/Nd5cNGzaQkpLC3LlzadOmDSeccAIQkr1Ro0bRqlUrANauXcusWbPo3Lkzjz/+OG+//TYA8+fPZ9asWXkmewceeCA//fQTV199NaeeeionnnjiDvvMmDGDZs2accghhwDQp08fnnrqKbp06cL+++9P27ZtAdhrr722HTNmzBjS0tIYNWrUduuzO+OMM6hatSpVq1bluOOOY+LEidSuXZt27drlOn3Bxx9/TL9+/ahWrRoAdevWZe3atXzxxRf06NFj236ZVUcRERGRUuOrr6BvX5gxAy69FHr0gM8+gzFjwvfFQYOgQgVITc1K/o46CqpXjztyKSfUjDMBMvvszZs3j82bN2/rs+fu3HbbbUyePJnJkycze/ZsLrroIsaOHcvHH3/Ml19+yXfffUerVq3ynQ6gTp06fPfddxx77LE89dRTXHzxxTvsk9esFe6e5wiUBx54IGvWrGHmzJl5XjvnsZmvq+fxj1Zu18vIyKB27drb3ofJkyczffr0PK8pIiIiUqJs3Ag33xwSt/XrYdQoeOYZ6NoV7r4bPv0UVq6E//0Pbr01JHwPPQQnnQS1a4fjbr8dRo8Ox4skSNmu7O2kApdotWrV4vHHH+eMM87giiuu4KSTTuKOO+6gd+/e1KhRg4ULF1KpUiVWrVpFnTp1qFatGj/++CNfffVVvuf9/fffqVy5MmeffTZ/+MMf6Nu3LwA1a9bc1v+uefPmzJ07l9mzZ3PQQQfxyiuvcMwxx9C8eXMWLVrEpEmTaNu2LWvWrNnWjLNJkyY89NBDnHXWWYwYMYIjjjhih2u/++673Hbbbaxbt46xY8fywAMP5JscnnjiiQwcOJBevXpta8ZZt25dmjVrxogRI+jRowfuzpQpU0hOTi7iOy0iIiKym0yYEKp5P/4Il1wSkrjcWkRVqxaSv65dw+u1a+GLL0LVb8wYeOABuPdeqFwZjjwyq/LXvj1UqbJbb0nKLlX2EqxVq1YkJyfzxhtvcOKJJ9KrVy86dOhAixYt6N69O2vWrOHkk08mPT2dli1bcscdd9C+fft8z7lw4UKOPfZYUlJS6Nu3L/fffz8Affv25fLLLyclJQV358UXX6RHjx60aNGCPfbYg8svv5zKlSszfPhwrr76apKTkznhhBO2qyIeeuihvPbaa/To0YM5c+bscO127dpx6qmn0r59e+644w4aNGiQb6wnn3wy3bp1IzU1lZSUFB566CEAXnvtNZ5//nmSk5M54ogjePfddwv71oqIiIjsPhs3wi23QMeOsG4dfPQRDB2ae6KXmxo14MQT4f77Q/PP5cvDgC7XXhv6/f397yHZq107PA4cGJqEqquL7ALLq7lfaZCamuppaWnbrZs+fTqHHXZYTBGVbQMGDKBGjRrceOONcYdSrPSZERERkXxNnBiqedOnw8UXh2perVrFe41Vq7L6+40ZE8adcIeqVUOCedxxcOyx0LZtqAaKRMzsa3dPzW1b2W7GKSIiIiJSVBs3woABYaCVBg3gv/8N/e4SoVYtOO20sECo/GVP/m6/PayvVi2M8HnssSEBTE2FivpKL7nTJ0MKbMCAAXGHICIiIrJ7TJwI/frBtGlw0UXwz38WfzUvP3XrwhlnhAVg2TIYNy4r+fvrX8P6GjXg6KOzkr9WrZT8yTb6JIiIiIiIZNq0KVTzHnwwVPP+8x84+eS4o4J69eBPfwoLwJIlWcnf2LGhPyGEPoSdO2clf8nJYTRQKZeU7ImIiIiIAEyaFPrmTZsGF14YJkrfndW8wthnnzCvX+a8xb/+GpK+zOTv/ffD+tq1Q/J33HHQvTs0ahRXxBIDjcYpIiIiIuXbpk2hWWSHDmGglA8/hOefL7mJXm722w969gzz/c2YAQsWwKuvwtlnww8/wPXXhykeVq+OO1LZjZTsiYiIiEj5lZYGbdqEKREuuACmToVTTok7ql3XsCH07g3PPQezZ4eJ3hcvhrvuijsy2Y2U7CVAhQoVSElJISkpiR49erB+/foin2vs2LGcFo3KNHLkSB544IE89125ciVPP/10oa8xYMCAbfPf7czkyZP58MMPC32NTDVq1CjysTndeeedfPzxx8V2PhERESlHNm2Cv/0tTGK+YgV88AG88EJo9lgWHX00XHYZPP54mNZBygUlewlQtWpVJk+ezNSpU6lcuTJDhgzZbru7k5GRUejzduvWjVtvvTXP7UVN9gpjV5O94rJ161YGDhxI165d4w5FRERESpuvvw5TFtx3H5x/fmjm+Mc/xh1V4t13Xxjo5YoroAjfRaX0UbKXYEcffTSzZ89m7ty5HHbYYVx55ZW0bt2a+fPnM2rUKDp06EDr1q3p0aMHa9euBeC///0vzZs3p1OnTrz11lvbzjVs2DD69+8PwG+//cZZZ51FcnIyycnJfPHFF9x6663MmTOHlJQUbrrpJgAGDRpE27ZtadmyJXdlK9vfe++9HHrooXTt2pUZM2bkGvuIESNISkoiOTmZzp07s3nzZu68806GDx9OSkoKw4cPZ/ny5Zx55pm0bNmS9u3bM2XKFADWrl1Lv379aNGiBS1btuTf//73duf+/fff6dChAx988MF26+fOnUvz5s3p06cPLVu2pHv37tsqo02bNmXgwIF06tSJESNG0LdvX958800AJk2aRMeOHUlOTqZdu3asWbOGrVu3ctNNN227/2eeeabIf0cREREpAzZtCvPVHXlkmMfu/ffhxRfLbjUvpzp1woTwX30V+iRK2efupXZp06aN5zRt2rQd1u1u1atXd3f3LVu2eLdu3fzpp5/2n3/+2c3Mv/zyS3d3X7p0qR999NG+du1ad3d/4IEH/O677/YNGzZ4o0aNfObMmZ6RkeE9evTwU0891d3dX3zxRb/qqqvc3f2cc87xRx55xN3d09PTfeXKlf7zzz/7EUccsS2Ojz76yC+55BLPyMjwrVu3+qmnnurjxo3ztLQ0T0pK8nXr1vmqVav8D3/4gw8aNGiH+0hKSvIFCxa4u/uKFSt2iMHdvX///j5gwAB3dx89erQnJye7u/vNN9/s11577bb9li9fvu29+fXXX71du3Y+atSoHa75888/O+Djx493d/d+/fpti61Jkyb+j3/8Y9u+ffr08REjRvimTZu8WbNmPnHiRHd3X7VqlW/ZssWfeeYZv+eee9zdfePGjd6mTRv/6aefdrhmSfjMiIiISIJ9/bV7UpI7uPfp4x59Nyl3MjLcO3d2r1PHfcmSuKORYgCkeR75UpmeeuG664q/SXJKCjz6aP77bNiwgZSUFCBU9i666CIWLVpEkyZNaN++PQBfffUV06ZN46ijjgJg8+bNdOjQgR9//JFmzZpx8MEHA3DeeecxdOjQHa7xySef8PLLLwOhj2CtWrVYsWLFdvuMGjWKUaNG0apVKyBU22bNmsWaNWs466yzqFatGhCah+bmqKOOom/fvpxzzjn8KXNOlxzGjx+/rWp3/PHHs2zZMlatWsXHH3/MG2+8sW2/OnXqALBlyxa6dOnCU089xTHHHJPrORs3brztfTnvvPN4/PHHufHGGwE499xzd9h/xowZ7L///rRt2xaAvfbaa9v9T5kyZVv1b9WqVcyaNYtmzZrlel0REREpgzZvhnvuCQOw7LNPqOademrcUcXHDJ5+OnypveWW0E9RyqwynezFJbPPXk7Vq1ff9tzdOeGEE3j99de322fy5MmYWbHE4e7cdtttXHbZZdutf/TRRwt0jSFDhjBhwgQ++OADUlJScr2n8GPC9swMd8/1GhUrVqRNmzZ89NFHeSZ7OY/L/jr7e5g9htyu5e488cQTnHTSSbleR0RERMq4b74J8+Z9/30YafPRR0NTxvLuiCPgL3+Bf/wjzCfYqVPcEUmClOk+e48+GuaULM5lZ1W9gmrfvj2ff/45s2fPBmD9+vXMnDmT5s2b8/PPPzNnzhyAHZLBTF26dGHw4MFAGKxk9erV1KxZkzVr1mzb56STTuKFF17Y1hdw4cKFLFmyhM6dO/P222+zYcMG1qxZw3vvvZfrNebMmcORRx7JwIED2XvvvZk/f/4O1+jcuTOvvfYaEEYO3Xvvvdlrr7048cQTefLJJ7ftl1l1NDNeeOEFfvzxxzxHFv3ll1/48ssvt91/p538A9S8eXMWLVrEpEmTAFizZg3p6emcdNJJDB48mC1btgAwc+ZM1q1bl++5REREpAzYvBnuvBPatYPff4eRI+Gll5ToZXfHHXDAAWGwlui7kpQ9ZTrZK8nq16/PsGHD+POf/7xtcJMff/yRKlWqMHToUE499VQ6depEkyZNcj3+scceY8yYMbRo0YI2bdrwww8/UK9ePY466iiSkpK46aabOPHEE+nVqxcdOnSgRYsWdO/enTVr1tC6dWvOPfdcUlJSOPvsszn66KNzvcZNN91EixYtSEpKonPnziQnJ3Pccccxbdq0bQO0DBgwgLS0NFq2bMmtt97KSy+9BMDtt9/OihUrtg3wMmbMmG3nrVChAm+88QZjxozJdfTQww47jJdeeomWLVuyfPlyrrjiinzfy8qVKzN8+HCuvvpqkpOTOeGEE9i4cSMXX3wxhx9+OK1btyYpKYnLLruM9PT0gv6JREREpDT69lto2zY03ezVK8ybd/rpcUdV8lSvHqZhmDoVHnss7mgkQSy3ZnilRWpqqqelpW23bvr06Rx22GExRSS7au7cuZx22mlMnTp1t11TnxkREZEyYPNmuPfeML3A3nvD0KFK8nbGHbp1gzFjYPp0aNw47oikCMzsa3dPzW2bKnsiIiIiUrpNnhyabA4cCD17hnnzlOjtnBk88USYc++66+KORhIgocmemV1vZj+Y2VQze93MqpjZ82b2nZlNMbM3zaxGtO+eZjbczGab2QQza5rI2KRkatq06W6t6omIiEgptnkzDBgQmm3+9hu8+y688grUrRt3ZKVH06ah/95bb8GHH8YdjRSzhCV7ZtYQuAZIdfckoALQE7je3ZPdvSXwC9A/OuQiYIW7HwQ8AvwjUbGJiIiISCn33Xehmnf33XDuuaGal8d0UrITf/kLNG8OV18NGzbEHY0Uo0Q346wIVDWzikA1YJG7rwawMFZ+VSCz0+AZwEvR8zeBLlbEOQhKcz9E2b30WRERESlltmwJCV5qKvz6K7z9Nrz6qqp5u6Jy5TD33k8/hfkIpcxIWLLn7guBhwjVu8XAKncfBWBmLwK/As2BJ6JDGgLzo2PTgVVAvcJet0qVKixbtkxf4mWn3J1ly5ZRpUqVuEMRERGRgpgyBY48MjTdPOecUM0788y4oyobjjsOevcOc+/NnBl3NFJMEjapupnVIVTrmgErgRFmdp67v+ru/cysAiHROxd4EcitirdDxmZmlwKXAhxwwAE7HNCoUSMWLFjA0qVLi+1epOyqUqUKjRo1ijsMERERyc+GDSEJue++MFfe228ryUuEhx6C99+Hq66CUaPCAC5SqiUs2QO6Aj+7+1IAM3sL6Ai8CuDuW81sOHATIdlbADQGFkTNPmsBy3Oe1N2HAkMhTL2Qc3ulSpVo1qxZQm5IRERERHaz996Da6+Fn38O8+Y9/jjUK3TjLymI/fYL01f07w/Dh4eRTaVUS2SfvV+A9mZWLep71wWYbmYHwbY+e6cDP0b7jwT6RM+7A5+42mKKiIiIlE9z5sBpp4VBV6pUgY8/htdeU6KXaJdfDvmUrfcAACAASURBVG3awPXXw6pVcUcjuyiRffYmEAZa+Qb4PrrWUOAlM/s+Wrc/MDA65HmgnpnNBm4Abk1UbCIiIiJSQq1fD3feCUccAePGhaaF330HXbrEHVn5UKECDBkSprK48864o5FdZKW5eJaamuppaWlxhyEiIiIiu8od3nknVJTmzQtNNgcNggYN4o6sfLrqqpD0TZoErVvHHY3kw8y+dvfU3LYleuoFEREREZH8zZwJp5wCf/oT1KwJY8eGJptK9OJz772w995wxRWQkRF3NFJESvZEREREJB7r1sFf/wotWsCXX8Kjj8I338Axx8QdmdSuDf/8J0ycCM8+G3c0UkRK9kRERERk93KHN9+Eww4Lk3j37AkzZoRRNytVijs6ydS7Nxx7LNx2GyxZEnc0UgRK9kRERERk95k+HU48EXr0gLp14bPP4KWXwrD/UrKYwdNPw5o1cPPNcUcjRaBkT0REREQSLzNhaNkyDPrxxBOQlgadOsUdmeTnsMPgxhtDQv7pp3FHI4WkZE9EREREEscd3ngDmjcPo2uef34YkKV/f6hYMe7opCDuuAOaNIErr4QtW+KORgpByZ6IiIiIJMYPP4T58f7859BM84sv4IUXYJ994o5MCqNaNXj88fD3fPTRuKORQlCyJyIiIiLFa/VquOEGSE6GyZNh8OAwqmOHDnFHJkXVrVtYBgyAX36JOxopICV7IiIiIlI83OHVV+HQQ0MF6MILQ5PNyy+HChXijk521WOPhb/xddfFHYkUkJI9EREREdl1U6aE+fHOPx8aN4YJE2Do0DAxt5QNTZvCnXfC22/DBx/EHY0UgJI9ERERESm6lSvD/HitW8O0aSHB++oraNs27sgkEW64IYzQ2b8/rF8fdzSyE0r2RERERKTwMjJg2LDQZPOJJ+DSS0OTzUsugT30FbPMqlw5zL03dy7cd1/c0chO6L9EERERESmcb78N8+P16wcHHhjmy3v66TBJupR9xx4bmus++CDMmBF3NJIPJXsiIiIiUjArVsBVV0FqKsyeHaZR+Pzz0IRTypdBg6B69TD3nnvc0UgelOyJiIiISP4yMuD55+GQQ2DIkPAFf8aMUNlTk83yad99QzPOTz6BN96IOxrJg/7rFBEREZG8paWF+fEuvjj0z/v669BHr06duCOTuF16aajy3nADrFoVdzSSCyV7IiIiIrKjZcvC/Hjt2sG8efDSS/DZZ5CSEndkUlJUqBAqvb/9BrffHnc0kgsleyIiIiKSZetWeOaZ0GTzuefCtAozZsAFF4BZ3NFJSdOmTWjW+/TToeorJYqSPREREREJJkyAI48MFb2kpDDq5iOPQK1acUcmJdnf/w7168MVV4QfC6TEULInIiIiUt65w1/+Au3bw6JF8NprMHYstGgRd2RSGtSuDf/8J0yaBM8+G3c0ko2SPREREZHy7uGHw3LppfDjj9Crl5psSuH06gXHHQe33Rb68EmJoGRPREREpDz76CO4+WY4+2wYPBj22ivuiKQ0Mgv99tatC58nKRGU7ImIiIiUV7NmQc+eoX/esGGaM092TfPmcNNN8PLLMG5c3NEISvZEREREyqfVq6FbtzB8/jvvQI0acUckZcHf/gZNm4YROjdvjjuaci+hyZ6ZXW9mP5jZVDN73cyqmNlrZjYjWveCmVWK9jUze9zMZpvZFDNrncjYRERERMqtrVuhd+9Q2RsxApo1izsiKSuqVYMnnoBp08JIrhKrhCV7ZtYQuAZIdfckoALQE3gNaA60AKoCF0eHnAIcHC2XAoMTFZuIiIhIuXbnnfD++/DYY2FQDZHidNppcMYZMHAgzJsXdzTlWqKbcVYEqppZRaAasMjdP/QIMBFoFO17BvBytOkroLaZ7Z/g+ERERETKl+HD4b774OKLQ1M7kUR47LHweO218cZRziUs2XP3hcBDwC/AYmCVu4/K3B413zwf+G+0qiEwP9spFkTrRERERKQ4fPst9OsHRx0FTz2l6RUkcZo0CRXkd9+F996LO5pyK5HNOOsQqnXNgAZAdTM7L9suTwOfuvtnmYfkchrP5byXmlmamaUtXbq0uMMWERERKZuWLAlN6+rVg3//GypXjjsiKeuuvx4OPxyuuQbWr487mnIpkc04uwI/u/tSd98CvAV0BDCzu4D6wA3Z9l8ANM72uhGwKOdJ3X2ou6e6e2r9+vUTFryIiIhImbF5M3TvDkuXhpE399037oikPKhcOczdOHcu3Htv3NGUS4lM9n4B2ptZNTMzoAsw3cwuBk4C/uzuGdn2HwlcEI3K2Z7Q7HNxAuMTERERKR+uuQY++wxeeAHatIk7GilPOneGCy6AQYNg+vS4oyl3EtlnbwLwJvAN8H10raHAEGBf4Eszm2xmd0aHfAj8BMwGngXUY1hERERkVw0ZAs88A7fcAn/+c9zRSHk0aBBUrw5XXQW+Qy8tSSDzUvyGp6amelpaWtxhiIiIiJRM48ZB165w4okwcmSYQF0kDkOGwBVXwKuvhjkepdiY2dfunprbtkRPvSAiIiIicZg3L/TT+8Mf4F//UqIn8brkEmjXDm64AVaujDuackPJnoiIiEhZs25dGHlzy5Yw9H2tWnFHJOVdhQphsJbff4fbb487mnJDyZ6IiIhIWeIe5tKbMgVefx0OPTTuiESC1q1Dv72nnwZ1xdotlOyJiIiIlCX33QcjRsA//gGnnBJ3NCLbu+eeMPXHFVfA1q1xR1PmKdkTERERKStGjgxN5Hr3hhtvjDsakR3VqgUPPxwqe888E3c0ZZ6SPREREZGy4IcfQpLXpg08+yyYxR2RSO569oQuXeCvf4Xffos7mjJNyZ6IiIhIabd8eRiQpXp1eOcdqFo17ohE8mYGTz0F69erAp1gSvZERERESrP09FAp+eUXeOstaNQo7ohEdu7QQ+Hmm8O8e2PHxh1NmaVkT0RERKQ0u/lm+N//wrD2HTvGHY1Iwf3tb9CsGVx5JWzeHHc0ZZKSPREREZHS6qWX4JFH4Oqr4aKL4o5GpHCqVoUnnoDp08OgLVLslOyJiIiIlEYTJsBll8Fxx8E//xl3NCJFc+qpcNZZMHAgzJ0bdzRljpI9ERERkdJm0aLwBblBgzCnXqVKcUckUnSPPhoGbenfH9zjjqZMUbInIiIiUpps3BgSvdWr4d13oV69uCMS2TUHHAB//zt88EFomizFRsmeiIiISGnhDpdfDhMnwiuvQIsWcUckUjyuvRaOOQauuUbNOYuRkj0RERGR0uLRR0PlY8CAUN0TKSv22AOGDQs/aPTtCxkZcUdUJijZExERESkN/ve/MAH1WWfBHXfEHY1I8WvaFB57DMaNC4+yy5TsiYiIiJR0s2fDuefC4YfDyy+HKohIWdSvH3TrBrfdBj/8EHc0pZ7+pRAREREpyVavDl9+zcKALDVqxB2RSOKYwdChULMmnH++JlvfRUr2REREREqqjAw47zyYOTNMsXDggXFHJJJ4++4bEr5vvw2jdEqRKdkTERERKanuugveew8eeQSOPz7uaER2n7POgj594L77YMKEuKMptZTsiYiIiJREI0aEqsZFF4XJpkXKm8cegwYNQnPO9evjjqZUUrInIiIiUtJMnhyGn+/YEZ56KvRjEilvatUK0zHMmgW33BJ3NKWSkj0RERGRkmTpUjjjDKhbF/79b9hzz7gjEonP8cfDddfBk0+G6UekUBKa7JnZ9Wb2g5lNNbPXzayKmfU3s9lm5ma2d7Z9zcwej7ZNMbPWiYxNREREpMTZvBm6d4clS+Dtt2G//eKOSCR+990HzZuHaRlWrIg7mlIlYcmemTUErgFS3T0JqAD0BD4HugLzchxyCnBwtFwKDE5UbCIiIiIl0nXXwaefwvPPQ2pq3NGIlAxVq8Irr8Bvv8HVV8cdTamS6GacFYGqZlYRqAYscvdv3X1uLvueAbzswVdAbTPbP8HxiYiIiJQMzzwDgwfDzTdDr15xRyNSsqSmwh13wGuvhcGLpEASluy5+0LgIeAXYDGwyt1H5XNIQ2B+ttcLonUiIiIiZdtnn4URN085JTRZE5Ed3XYbtG0Ll18OixfHHU2pkMhmnHUI1bpmQAOgupmdl98huazzXM57qZmlmVna0qVLiydYERERkbjMmwdnnx0mTP/Xv6BChbgjEimZKlWCl18O0zBcfDH4DqmC5JDIZpxdgZ/dfam7bwHeAjrms/8CoHG2142ARTl3cveh7p7q7qn169cv1oBFREREdqv16+HMM2HTJhg5EmrXjjsikZKteXN48EH48EN47rm4oynxEpns/QK0N7NqZmZAF2B6PvuPBC6IRuVsT2j2qfqsiIiIlE3ucOGF8N138PrrcOihcUckUjpcdRV06QLXXw9z5sQdTYmWyD57E4A3gW+A76NrDTWza8xsAaFyN8XMMlPyD4GfgNnAs8CViYpNREREJHYPPADDh8P998Mf/xh3NCKlxx57wIsvQsWK0KcPbN0ad0QllnkpbuuamprqaWlpcYchIiIiUjjvvRcmTu/ZM4wuaLkNXSAi+Xr1VTj/fPjHP8IotuWUmX3t7rnO1ZLoqRdEREREJLvp06F3b2jVKvQ5UqInUjS9e4fBje64A6ZMiTuaEqli3AGISBmWkQFLloSR5n75JSy//w7JydCpEzRqFHeEIiK714oV0K0bVKsG77wTHkWkaMzC3JTjx4cK38SJsOeecUdVouw02YsGV+kNHOjuA83sAGA/d5+Y8OhEpGTbtAnmz89K5nI+zp8f9smuQoWstvUHHBCSvk6d4Kij4IgjNOR4SZSeHv6OuS0bN27/evNmqFwZqlQJS9WquT+vUkXVDCl/0tNDs81582DMGGjceOfHiEj+6tcPFfLTT4cBA0IfWNlmp332zGwwkAEc7+6HRfPnjXL3trsjwPyoz55IArmHX6BzS+IyH3/9dftjzGD//aFJk5DI5fZYvXpoajF+PHz+eZhIOHNi1Fq1oGPHkPh16gTt2oUEQYJ162DWLFizJu/kK7cEbFf3ychIzP3suWfeyWBhnhd230qVEnM/UvZkZBT9v5/c9ps+PfTVe/bZMEeYiBSfSy6BF16ATz8N3yPKkfz67BUk2fvG3Vub2bfu3ipa9527Jycg1kJRsieyC9LTYdGi/JO5tWu3P6ZKlbyTuAMOCM0yK1cuXBzuMHduVvI3fjz88EPYVqkStGmTlfwddVT4Ba+sS08PSd3338PUqeHx++/hp58KN4HsHnuEhCpzqVJl+9d5LQXZL699KleGLVvCl9wNG8JjQZ4Xdt9dGVysdm1o0AAaNsz7cd99wyhvUvJt3Rr+vZo5E2bPhpUriy9BS08vvjgzK979+8O99xbfeUUkWLMGWrYM/+/77juoUSPuiHabXU32JhAmQ58UJX31CZW9VsUfauEo2RPJx9q1Wf3kckvmFi7ccajivffOP5mrX3/3NL1bvhy+/DIkfuPHw6RJWc1BDzkkq+lnp05w0EGltzmgOyxYsGNSN316aA4J4X9ahxwCLVqE5fDDQwW0IMlXWU1W3LMSysImj+vXw2+/hR86Fi4My+LFO/63sMceIeHLmQTmTAzr1Cm9n7/SxD38rWbNCsvMmVnP58zJ+u8lu+L6YaM49qtcWZ8Tkd3hs8/gmGPg0kthyJC4o9ltdjXZ6w2cC7QGXgK6A7e7+4jiDrSwlOyJ5PDZZ3DjjeHX7eXLt99WsWKovOWVzDVuHJpYlkSbNsHXX2clf59/nnV/9etv3++vVavCVxd3hxUrdkzqpk6FVauy9mnUKCR0SUlZyV3z5uELpCRO5kBCmQlgXo/Llu14bJUqO68SNmig5sgF4Q5Ll26fzGU+zp4dEvVMe+4Zfug5+ODwY0jm40EHQb16Sq5EyrObb4ZBg+CDD8rN/JW7lOxFJ2gOdAEMGO3u04s3xKJRsieSzTvvhI7/DRvCSSftmMztv3/ZGfwkIwNmzNg++ZszJ2yrWhWOPDKr6WeHDqEStrts2BAqczmTuoULs/apXXvHpO6II0KVSEqujRtDFTBnEpjz+YYNOx5bp87Ok8J99im71djsVqzIvUI3cyasXp21X8WK0KzZ9sncwQeHpXHjUH0VEclp40Zo2zaM/j11avgBqIzb1cpee+AHd18Tva4JHO7uE4o90kJSsicSee45uOyy8I/b+++H5pjlzeLFWX3+Pv8cvv02NM0zC8lU9qafxTEC3tatIcHMmdTNmpU1oMmee4Zml9mTuqSk8MVeVYeyyT1Ua3dWJfz119ybju63H9StC3vtFZZatXJ/zGtd1aol47O1dm2oxuVM5mbNCl/AMpmFH6NyJnOHHBLWazAdESmKyZPDIG9nngnDh5eMfxcTaFeTvW+B1h7taGZ7AGnu3rrYIy0kJXtS7rnDfffB7bfDySfDm2+W3KaYu9vatTBhQlYC+OWXWQPONG68fdPPpKS8q57uIZHMmdRNm5ZVwTELzcdyJnUHHVQ+KjVSeFu35t10dMWKUOFatSo8Zj7PrWKYU8WKhUsO80omC9IUeuPGMGhQziaXs2aF+8iuQYMdk7mDD4YDD1QzZRFJjPvvh7/+FV57DXr1ijuahNrVZG+yu6fkWDfF3VsWY4xFomRPyrWMDLj2WnjySTjvvDDcsH4Fz1t6epjyITP5Gz8+6wvpXntlTfnQunWYHzB7/7rs/R/32y8roctM6g4/XBMjS+Jt2bJ98pfzec7HvLZt2bLza+25Z+7JYc2aYYCbmTPDYE/Zv0PUr79jMpfZj04/QonI7paeDp07h64V338f+sWXUbua7L0FjAUGR6uuBI5z9zOLM8iiULIn5damTXDBBfB//wc33BA6Iqv/SuG4h1FJMxO/7FM+QPhSm1mpy/5YHpvIStnhHv79KEqSmLmtfv3c+9HVrh333YmIbG/2bEhODj/mfvRRmW3OuavJ3j7A48DxgAOjgevcfUlxB1pYSvakXFqzBs46C0aPhgcfhJtuijuismP58lDNyxzYpoz+T0FERKTcGDIErrgitIS66qq4o0mIXR6Ns6RSsiflzpIlYRjhyZPh+eehT5+4IxIREREpudzhlFPg00/D96dDDok7omKXX7KX58gBZnazuz9oZk8QKnrbcfdrijFGEdmZn3+GE08Mgzi88w6cdlrcEYmIiIiUbGZhXIOkpNAFZvz4cjV4Wn6dfDLn0ksDvs5lEZHd5bvvwgAiy5bBxx8r0RMREREpqAYNYPDgMEr3Aw/EHc1ulWda6+7vmVkFIMnd1SlIJC7jxkG3bmEkvNGjw8iPIiIiIlJw554bWkbdfXfoEtM69lnkdot8h+9z961Am90Ui4jk9PbbcNJJ4RepL75QoiciIiJSVE89BfvsA+efH+YKLQcKMlb7t2Y20szON7M/ZS4Jj0ykvBs6FLp3h5SU0L68ceO4IxIREREpverWDf33pk2Dv/0t7mh2i4Ike3WBZYSpF06PFnUYEkkUd7jnHrjsslDVGz0a6tWLOyoRERGR0u+kk8JUDI88AmPHxh1NwhVknr293f333RRPoWjqBSlztm6Fa68NzQzOPz9Mr1CpUtxRiYiIiJQd69aFllNbtsCUKWFchFIsv6kX8qzsmdnpZrYUmGJmC8ysY8IiFBHYtAl69QqJ3o03wrBhSvREREREilv16vDyyzB/Plx3XdzRJFR+zTjvBY529wbA2cD9uyckkXJo9eowMtT//R8MGhSWPQrSylpERERECq1DB7j1VnjxRXj33bijSZj8vk2mu/uPAO4+Aai5e0ISKWd++w2OOy5MsfDSS6GqJyIiIiKJddddoTnnJZfAkiVxR5MQ+SV7+5jZDZlLLq93ysyuN7MfzGyqmb1uZlXMrJmZTTCzWWY23MwqR/vuGb2eHW1vuuu3J1LC/fQTdOoE06fDyJFwwQVxRyQiIiJSPlSuDK+8AqtWhYHxdjKWSWmUX7L3LKGal7nkfJ0vM2sIXAOkunsSUAHoCfwDeMTdDwZWABdFh1wErHD3g4BHov1Eyq7Jk+Goo2DZsjDi5h//GHdEIiIiIuVLUhLce2+YcP3ll+OOptjtdDTOIp84JHtfAcnAauAd4AngNWA/d083sw7AAHc/ycw+ip5/aWYVgV+B+p5PgBqNU0qtsWPhjDPC6E8ffaTJ0kVERETisnVr6FLz3XdhdM4mTeKOqFCKNBrnrnL3hcBDwC/AYmAV8DWw0t3To90WAA2j5w2B+dGx6dH+mlxMyp633gpzvDRsCF98oURPREREJE4VKoRxEzIyoF+/8FhGJCzZM7M6wBlAM6ABUB04JZddMyt3ls+27Oe91MzSzCxt6dKlxRWuyO7xzDPQowe0aQPjx0PjxnFHJCIiIiLNmsGjj8KYMfD443FHU2x2muyZ2Z65rKtbgHN3BX5296XuvgV4C+gI1I6aaQI0AhZFzxcAjaPzVwRqActzntTdh7p7qrun1q9fvwBhiJQA7jBwIFx+OZx8Mnz8MdQtyH9GIiIiIrJbXHghnH56mJJh2rS4oykWBansvWVm22Z2NrP9gf8V4LhfgPZmVs3MDOgCTAPGAN2jffoAmRNbjIxeE23/JL/+eiKlxtat0L9/GN73ggtCB+Bq1eKOSkRERESyM4Nnn4WaNcN3ti1b4o5olxUk2XsHGGFmFaLpED4CbtvZQdHcfG8C3wDfR9caCtwC3GBmswl98p6PDnkeqBetvwG4tVB3IlISbdoEPXvC00/DTTfBsGFQqdJODxMRERGRGOy7LwwZAl9/DX//e9zR7LICjcZpZlcBJwNNgcvc/YsEx1UgGo1TSrTVq+Gss+CTT+Chh+Avf4k7IhEREREpiAsugH/9Kwym165d3NHkK7/ROCvmtjI6KPvE6UboTzeZ0DSzvbs/XLxhipQhv/0Gp5wC338f5mw5//y4IxIRERGRgnr88TBV1gUXwDfflNouOPk148w+gXoN4G1gNgWcVF2k3JozJ0yWPmMGjBypRE9ERESktKldG158MXyfu7X09i7Ls7Ln7nfvzkBEyoRvvw0VvS1bYPRoaN8+7ohEREREpCi6dIFrrglVvm7doGvXuCMqtIJMvfA/M6ud7XUdM/sosWGJlEJjxsAxx0DlymEOPSV6IiIiIqXbAw9A8+ZhsvWVK+OOptAKMhpnfXffdmfuvgLYJ3EhiZRCb74Z5s9r3Dh05D3ssLgjEhEREZFdVbVqGH9h8WK4+uq4oym0giR7W83sgMwXZtYE0Px3IpmGDIFzzoHUVPjsM2jUKO6IRERERKS4tG0Lt98Os2bBunVxR1MoBUn2/gaMN7NXzOwV4FMKMM+eSJnnDnffDVdcAX/8I/zvf1C3btxRiYiIiEhxu/320E2nevW4IymUPAdoyeTu/zWz1kBmB6Tr3f33xIYlUsJt3RpK+YMHQ9++MHSoJksXERERKasq7jRtKpEKGnVHoHO21+8nIBaR0mHjRjjvPPj3v+GWW+D++8Es7qhERERERLaz02TPzB4A2gKvRauuNbOj3F1NOaX8WbkS/vSnMPLmww/D9dfHHZGIiIiISK4KUtn7I5Di7hkAZvYS8C3qtyflTVpaGIhl/nx45ZVQ3RMRERERKaEKMkALQO1sz2slIhCREss9TKbZsSOkp8OnnyrRExEREZESryCVvfuBb81sDGCEvnt/TWhUIiXFypVw4YXw9ttw+ukwbJhG3BQR2Y0yMsJI52vWhGXt2u0fc66rWBFq1AhL9epZz/Nap7G1RKQsK8honK+b2VhCvz0DbnH3XxMdmEjsJk6Ec8+FBQvgn/8M/fM0EIuISL62bClYUpbXupzbCjOlVZUqYbDkLVsKfkylSjtPCAuSNGZfV706VKhQ+PdORKS4FWSAltHu3gUYmcs6kbIns9nmTTfB/vuHidLbt9/5cSIiZdSKFWF6qfHj4bff8k/eNm8u2DnNoGbNkBzVrJn1vFGjrHU5t+X2mPm8Ro2sBGvz5pAkrl2bteR8vbN1CxfuuC4jo+DvWdWquSeEe+0FtWuHpU6drOe5ratWTb8xisiuyTPZM7MqQDVgbzOrQ6jqAewFNNgNsYnsfitWhGab77yjZpsiUm4tWRJ+5xo3LnRTnjIl/A5WuXL4DSx7srXffoVPzGrWDMlQohKZypXDUqdO8Z3TPcy8U9TkMTMhXrw4/K9m5UpYvz7/a1asWLCkMK91VaoU3/2LSOmUX2XvMuA6QmL3NVnJ3mrgqQTHJbL7ZW+2+fDDcN11+klVRMqFRYuyErtx42D69LC+WrUwNtXAgdC5M7RrV34TCLOQoFatCvXrF885N2+GVatC4peZAGZfcls3f35Yv2LFzquoe+5Z+ESxTp2s52qKKlL65ZnsuftjwGNmdrW7P7EbYxLZvdzhscfg5puhQYPQTunII+OOSkQkYebO3T65mzMnrN9rL+jUCfr0gWOOgdatQ4VMEqNy5ZA4FjV53Lgx/8Qw5/ply8LfOnNdenr+569VKzRuqVMnPGZ/ntdj3bpqfipSkuTXjLMtMD8z0TOzC4CzgXnAAHdfvntCFEmgFSugXz9491044wx48cXibfcjIhIzd5g1Kyux+/RT+OWXsK1OnVCxu+qq8JiSompOaVKlSmhGu99+hT/WPTQjzZkYZi7Ll4cl8/mKFVlVxeXL808UK1XaeUKY27Y6dTQ6qkhxy68Z5zNAVwAz6ww8AFwNpABDge4Jj04kkSZMCM02Fy2CRx6Ba6/VT5EiUuplZIRmmOPGZSV3v0ZjaO+zT6jY3XRTeDziCNijoDPuSpliFgaQqV4dGjYs3LHuoS9ibglhbo+LFsEPP4Tnq1fnf+4aNXaeGOa2VK+u/4WL5Ca/ZK9CturducBQd/838G8zm5z40EQSxD0kd7fcEoZ9Gz8+dEQRESmFtm4NA6hkJnaffhqa60H4En/88SGx69wZDj1UX4hl15lljS56wAGFOzY9PauKmD0hzCtZZQ4uVAAAIABJREFUnD496/WmTXmfN7OamDNB3NlSq5Z+8JCyLd9kz8wquns60AW4tIDHiZRcy5eHZpsjR8KZZ8ILL6jZpoiUKlu2wDffZDXLHD8+DPIB0KxZGEi4c+eQ4DVrpuROSpaKFWHvvcNSGO6wYcP2yWF+y4IF4UeQ5cvDSKh5MdsxMSxIoqgmp1Ja5Je0vQ6MM7PfgQ3AZwBmdhCwajfEJlK8vvoqNNtcvDgMyHL11foWJCIl3qZNMGlSVrPML77Immj80EPhnHOyKneNG/9/e3cebmVZ73/8/ZXReURFcE454oAKDqQYhWBaoWkWSA5Hy3m8jg1q9atTVmqOmZqadVIccDpaHhWno6WiouGAOOAJCjBkMBEBkb3v3x/32u3BvZFprWfttd+v61rXXvt5nrX5bh7WYn3WfT/fu9hapXKJyI1f1lhj+aedLl6cRxOXJSTOmZOvcZ07Nz8mpbZ/7tprfzwArr9+bnS07rqNX5veb/q1e3ffhqj8ltaN8/yIeAToCYxN6V//3FcjX7sntQ8tp20++STssUfRVUlSqxYsyJ9NNUzLHDcud10E2GknOOaYHO4GDVqxxhxSR9O1a75edeONl+9xdXV51LxlIGxrdHHatBwQ583Lo5CfpEuXTw6En7RvnXVsqqSlW+p0zJTSuFa2vbEsPzgi+gC3Ndm0DfAD4DHgGmAtYAowKqU0r/SYc4DjgDrg9JTSg8vyZ0ltmjs3vzP6wx/gy1/O0zbXW6/oqiSpmTlzYMwYuPVWePrpPFVztdVyd8yTTsqjdoMGwYYbFl2p1HF06tQ4are8Fi+G99/PYXHevOZfW9vW8HXq1Obf19V98p+15prLHhYbRhMbblBd33funH+ftdZqbCC0+upeV7kyynbtXUrpdXLnTiKiEzAduBu4Azg7pfR4RBwLfAv4fkT0BUYAO5IXcn84IrZPKS3DP3OpFU8/DSNGOG1TUlVauDBfPjx6NNx/f25c0bcvnHVWHrnbZ5/85kxS+9O1a/5wZmU+oGlYHqOtYLi08DhtWuP3S7tmsb1YY43mAbDpbWW2r7567b81rFSjlSHAWymlqaURvydK2x8CHgS+DxwM3JpS+hD4a0RMBvYEnq5QjaoV9fVwySVwzjn5AhanbUqqEnV18NhjcNNNcNdd+ZP/zTaDM8+Er38ddtml9t94SFo2TZfH6NlzxX9OXV3jKOOiRTlENlyc1XC/Wr5fvDhfk9zyNn9+69vmzPn49mUZDW3QcC1oW+Gw5baNNsqv1+1JpcLeCHLDF4BXgOHAPcDhQMPl5L2AptNGp5W2Sctuzpw8bfOPf4RDD4Xf/MZpm5IKlRL85S95BO+WW/Jkg3XWgcMPh1Gj8iie19xIKpdOnfJboY7wdiil3NRqWcLi0kLkBx/ArFkf396zp2HvYyKiKzncnVPadCxwRUT8ALgXWNxwaCsP/1gPpIg4ntIyEFss7+Iuqm1PPZWnbc6cCb/8JZxyih+RSyrMX/8KN9+cQ96kSbkZw0EH5RG8L3whTx+SJK06Efm6xO7dV/01zinlkcf2phIjewcCL6SUZgKklF4DhgFExPbAF0rHTaNxlA+gNzCj5Q9LKV0LXAswYMCApTTEVYdRXw8XX5ynbW65ZQ59/fsXXZWkDmjOHLj99jxN88kn87ZBg+Caa/JI3oo0epAkFS8CunUruorlV4mwN5LGKZxExMYppXciYjXge+TOnJBH+W6OiEvIDVq2A56tQH1qz+bMgaOPhvvug698Ba6/3o4Gkipq4cLc8Pemm+CBB3Inzb594ac/hSOOyJ9BSZJUhLKGvYhYAxgKnNBk88iIOKV0/y7gtwAppYkRMQZ4FVgCnGInTi3VU0/lRdLfeQeuvBJOPtlpm5IqoqHRyujRcOedjY1WTj89T9Ps18+XI0lS8aJxrfT2Z8CAAWn8+PFFl9F+pASXXZbfnWy3XV7AqV+//LU9rcxbXw+/+AWcey5stVVenGr33YuuSlKNSwkmTMgjeE0brRx2WG60MniwjVYkSZUXEc+nlAa0tq9S3ThVtPffh2OPhTvugN12y2vQ3Xpr4/5NNmkMfg0hcPvt8+qW1WT2bDjqqLwo1eGHw3XXOW1TUlm11Whl1Cj44hdttCJJql5V9k5eZTFpUl6G4I034MIL4eyz8/yid9+Fl17KH1W/+GL+etllja2GuneHnXZqHgB32SV/lF2EP/85d9ucNQuuugpOPNF5UpLKorVGK/vumxutfOUrq77LmyRJ5eA0zlo3Zkwe0VtzTbjttjzPaGk++gheey0Hv6YhcM6cxmO22aZ5ANx117x4ebmCV319Dqnf+57TNiWVTUOjldGj8+SBjz6CHXbI1+AdcUR++ZEkqdosbRqnYa9WffQRfOc7cOmlMHBg/oi61wquUZ8SzJjx8QA4eXLeB7D++o3Br+Fr377QtevK/R6zZ8ORR+YWd1/9ap62WdTIoqSaU1cH//u/eQSvodFKz5453I0alV/KnEAgSapmXrPX0bz9du5S+ac/wWmn5WYmKxO6InJQ7NUrrwTcYP58ePnl5gHw17/OH49Dvt6vb9+PXwu4rPOfGqZtzp4NV18NJ5zguy5JK62h0cro0bnRyowZsPbaeXqmjVYkSbXEsFdr/vSnPAI2b15+J3PEEeX7s9ZaK48aDhzYuK2uLo/4NQ2AjzwCN97YeEzv3s1HAPv1g223hdVWy/ubTtvceuvcTGa33cr3e0jqEObMyZMDbrwRXn01N1o58MA8TdNGK5KkWmTYqxUpweWX5+YrW28NY8fCzjtXvo5OnaBPn3z72tcat7/zTg5/DQFwwoR8UUxdaSnFtdbKzV/69cth8aGH8uOvvdZpm5JWypQpeUb79dfDggW50crVV+eGvjZakSTVMsNeLZg/H77xjdyA5ZBD4He/q77lCDbeGIYOzbcGixbBxInNA+Do0bkb6DXXwPHHO21T0gqbMAEuuii/NEbkiQ5nn13M52CSJBXBsNfevfZaXlbh9dfh5z+Hb3+7/QSk7t2hf/98a5BSbi6zso1dJHVIKcGjj+aZ4GPH5kkDZ54JZ5yRmwZLktSRGPbaszvvhGOOyReajB0LQ4YUXdHKizDoSVpuS5bAHXfkkbwXXoBNNoGf/Swvx7neekVXJ0lSMVYrugCtgCVL4Fvfyq3jdtwxv7OphaAnScvpgw/gyithu+1g5Mg8q/266/J1et/9rkFPktSxObLX3sycmRuXPP44nHwyXHIJdOtWdFWSVFGzZsGvfpWD3pw5uSnwpZfC8OGNjX0lSeroDHvtyVNP5fZx774Lv/99XmxckjqQ//u//BnXDTfkJT2HD8+XKu+zT9GVSZJUffz8sz1ICa64Aj7zmXx93rhxBj1JHcrzz+dJDdttl1dkGTkyr5V3zz0GPUmS2uLIXrX74AP45jfhllvgS1/KI3pehCKpA0gp95668MLcYXOddfLSCWecAZttVnR1kiRVP8NeNXvjjbyswqRJcP75uduAF6NIqnEffQRjxuSQ99JLOdhdeGFeerPalhCVJKmaGfaq1d13w9FH5+YrDz4I++9fdEWSVFbz58P11+dGK3/7G+ywA/z2t3kxdFdkkSRp+TlMVG2WLMkjeIceCv/2b/lCFYOepBo2cyZ873uwxRZw1lmw5Zbwhz/AK6/kpUQNepIkrRhH9qrJO+/AiBHw2GNwwglw+eUuqyCpZr35Jlx8Mfzud7B4MRxySF5CdODAoiuTJKk2GPaqxdNP52UV5szJ73yOPrroiiSpLJ55Bi66CO66C7p0yS93//Ef0KdP0ZVJklRbDHtFSwmuuirPXerdO4e+XXctuipJWqXq6+H++3OjlSeeyE2Fv/tdOP102HTToquTJKk2GfaK9MEHcOKJcNNN8IUvwI03wvrrF12VJK0yixfnlWMuuggmTsyfaV1yCXzjG7D22kVXJ0lSbTPsFeXNN+Gww3IHgh//GM4912UVJNWMefPguutyZ83p02GnnfIyoSNG5KmbkiSp/MoW9iKiD3Bbk03bAD8A/he4BugOLAFOTik9GxEBXA4cBCwAjkkpvVCu+gp1zz1w1FHQuXOe13TAAUVXJEmrxNtvwxVXwNVXw3vvweDBOfR9/vMQUXR1kiR1LGULeyml14FdASKiEzAduBu4DvhRSun+iDgIuBAYDBwIbFe67QVcXfpaO+rq4Pvfh5/9DPr3hzvugK22KroqSVppU6bABRfADTfkFWQOOyx31txjj6IrkySp46rUNM4hwFsppakRkYB1StvXBWaU7h8M/D6llIBxEbFeRPRMKb1doRrLa9YsGDkSHnkEvvnN/NF39+5FVyVJK+X11/PnVzfdlGeiH3MMfPvb8KlPFV2ZJEmqVNgbAdxSun8m8GBE/IK8qPunS9t7AX9v8phppW3tP+w9+2z+mHvWLPjNb+DYY4uuSJJWyksvwfnnw+2358+tTj0Vzj47N2CRJEnVoewdQSKiKzAcuL206STgrJTS5sBZwG8aDm3l4amVn3d8RIyPiPGzZs0qR8mrTkpwzTWw7775+rynnjLoSWrXnnkGhg+Hfv3yJcff+U6ewnnZZQY9SZKqTSXaPx4IvJBSmln6/mjgrtL924E9S/enAZs3eVxvGqd4/ktK6dqU0oCU0oAePXqUqeRVYMGCPJ/ppJNg//3h+edh992LrkqSlltK8PjjMHQo7L03/PnP8KMfwdSpeQrnxhsXXaEkSWpNJcLeSBqncEIOcJ8p3f8c8Gbp/r3AUZHtDbzXbq/Xe+stGDgwr5v3wx/CH/8IG2xQdFWStFxSggcegEGDclfNl1/Oi6JPnQo/+IHLgkqSVO3Kes1eRKwBDAVOaLL5m8DlEdEZWAQcX9r+P+RlFyaTl17493LWVjb33QejRuVOBffdBwceWHRFkrRc6uvzCjHnn58nJfTuDb/8JRx3HKy+etHVSZKkZVXWsJdSWgBs2GLbn4H+rRybgFPKWU9F/OMfsO22eVmFrbcuuhpJWmZLlsCYMfDTn8LEifml7Prr4cgjoWvXoquTJEnLqxLTODuW446DceMMepLajcWLc6PgHXbIExNSgtGj4bXX8kuaQU+SpPapUksvdCxduhRdgSR9ooULc8i78EL4+99zD6m77oKDD84z0SVJUvtm2JOkDub99/OqMBdfDDNnwj77wLXXwgEHQLS2CI4kSWqXDHuS1EG8+25utHL55TB3bl4V5rbbYL/9DHmSJNUiw54k1bhZs+DSS+HKK/Oo3pe+BOedB3vtVXRlkiSpnAx7klSjpk+HX/wCfv1rWLQIDj8czj0X+vUrujJJklQJhj1JqjF//StccAH89rdQVwdf/zqccw706VN0ZZIkqZIMe5JUI157DX72s7xsQqdOcOyx8O1vuxKMJEkdlWFPktq5CRPyQuh33AGrrw6nnw5nnw2bbVZ0ZZIkqUiGPUlqp8aNg/PPhz/+EdZZJ0/VPPNM6NGj6MokSVI1MOxJUjuSEjz+OPzkJ/DII7DhhvDjH8Opp8J66xVdnSRJqiaGPUlqB+rq4J578kLoTz0Fm26aO22ecAKstVbR1UmSpGpk2JOkKvbee3DDDXDFFTBlCmy1FfzqV7n5SvfuRVcnSZKqmWFPkqrQW2/lgHfDDTB/Puy3H1xyCQwfnjttSpIkfRLDniRViZTgiSfg0kvh3nuhc2cYMQLOOAP69y+6OkmS1N4Y9iSpYB9+CLfeCpddlpdR2GgjOO88OPlk6Nmz6OokSVJ7ZdiTpIK88w5ccw1cdRXMnAk77gjXXw9HHJHXy5MkSVoZhj1JqrCXXsqjeDffnEf1DjoIzjoLhgyBiKKrkyRJtcKwJ0kVUF8P992XQ96jj8Iaa8Bxx8Hpp0OfPkVXJ0mSapFhT5LKaP58+N3v4PLLYfJk6N0bLrgAvvlNWH/9oquTJEm1zLAnSWUwdSpceSVcd11eK2/vveH88+HLX4YuXYquTpIkdQSGPUlaRVKCp5/OSyfcdVe+/u7ww/PSCXvvXXR1kiSpozHsSdJK+ugjuP32fD3ec8/l6Znf+haccgpsvnnR1UmSpI7KsCdJK2jOHLj22jxdc8aM3GjlqqvgqKNgzTWLrk6SJHV0ZQt7EdEHuK3Jpm2AHwADgYbec+sB/0wp7Vp6zDnAcUAdcHpK6cFy1SdJK2rSpNxw5fe/h4ULYejQvD7eAQfAaqsVXZ0kSVJWtrCXUnodaAhxnYDpwN0ppcsajomIi4H3Svf7AiOAHYHNgIcjYvuUUl25apSkZZUSjB2br8d78EHo3h2OPDIvnbDTTkVXJ0mS9HGVmsY5BHgrpTS1YUNEBPBV4HOlTQcDt6aUPgT+GhGTgT2BpytU4yoxbx5065Zvktq/BQvgxhvzSN6kSdCzJ/zkJ3D88dCjR9HVSZIkta1SE45GALe02DYImJlSerP0fS/g7032Tytta1euvDI3Zxg2LK+l9fzzUOfYpNTuTJ8O556bG6yceCKsvnoOfVOmwHnnGfQkSVL1K/vIXkR0BYYD57TYNZLmATBaeXhq5ecdDxwPsMUWW6yiKledwYNh5kx45BH47nfztvXXh899DoYMybfttsst2SVVl5RyN83LL4cxY6C+Hg45BM48E/bd1+etJElqXyoxjfNA4IWU0syGDRHRGTgU6N/kuGlA0yblvYEZLX9YSula4FqAAQMGfCwMFu3Tn843gLffhkcfhYcfzuHvzjvz9s03z6Fv//1zCOzZs7h6JeXRuptvhtGj4dVXYe214bTT8m3rrYuuTpIkacVESuXNSxFxK/BgSum3TbZ9HjgnpfSZJtt2BG4mX6e3GfAIsN3SGrQMGDAgjR8/vmy1r0opweTJjcHv0Ufh3Xfzvr59c/AbMgQ+8xlYd91ia5U6gtmz89p4o0fDk0/mbfvuC6NGwRFHwDrrFFufJEnSsoiI51NKA1rdV86wFxFrkK/D2yal9F6T7b8DxqWUrmlx/HnAscAS4MyU0v1L+/ntKey1VFcHEybk4Pfww/CnP8GiRdCpE+yxR2P4GzjQZi/SqrJgAdx7bw54DzwAS5bAjjvmgDdyJGy1VdEVSpIkLZ/Cwl65teew19KiRfD00zn8PfIIPPtsvl5o9dVh0KDGaZ+77uo6XtLyWLIkP6dGj4a774b586F37xzuRo2CXXbxWjxJktR+Gfbaoffeg8cfb5z2+eqrefsGGzRv9vKpT/lGVWqpodHK6NFw2225adJ668FXvpID3n77+aGJJEmqDYa9GjBjRr7Or2Ha57RpefsWWzRv9rLppsXWKRXpzTdzwLv55ny/Wzf44hdzwDvoIKdES5Kk2mPYqzEp5TeyDcHvsccam73suGPzZi82mVCtmzkTbr01h7znnssj3Z/9bA54hx6aR/QkSZJqlWGvxtXVwV/+0ni9X9NmL3vu2Tjyt/fejmyoNrz/fr7+bvTo/IFHfT3stlsOeCNGQK9eRVcoSZJUGYa9Dqah2UvD9X7PPdfY7GW//XL4GzbMxhRqXxYvhgcfzAHv3nth4cK8Bt4RR+SQt8MORVcoSZJUeYa9Du6f/8zNXhqmfU6alLdvsgkMHZqD39ChXu+n6lNfD089lQPemDEwdy5suCF87Ws54A0c6AcWkiSpYzPsqZnp0+Ghh2Ds2Bz+Zs3K23fZpTH4DRqURwKlIkyc2NhoZerU/G/xkENywBs2DLp0KbpCSZKk6mDYU5vq6+HFF3PwGzsW/vznPF2uW7c85XPYsHzbeWdHUFRe06bBLbfkkPfii/ma06FDc8A75BBYa62iK5QkSao+hj0tsw8+gCeeaBz5mzgxb9900/zGu+HmlE+tCv/8J9xxRw54jz+eO83utVcOeF/9ap5qLEmSpLYZ9rTCmk75fOghmD07b2+Y8jlsGOy7r1M+tewWLYL77ssB77778kjy9tvngHfEEfCpTxVdoSRJUvth2NMqUV8PEyY0hr+GKZ/du+dr/JzyqZZSgr/9DcaPb7w980xeOmHTTfMyCaNGQf/+/puRJElaEYY9lUXDlM+G6/1efTVvb5jyOWxYXt/PKZ8dQ0owY0bzYDd+fONocJcueUR4jz3yYuef/Sx07lxszZIkSe2dYU8V4ZTPjmXmzI8Hu3/8I+/r1Al22gkGDGi87bxzbvwjSZKkVcewp4prmPLZMOr35JONUz6bdvncaSen77UHs2fD8883D3bTpuV9EdC3b/Ng16+foV6SJKkSDHsq3LJM+Rw61O6L1eDdd+GFF5oHuylTGvf36dM82O26q8siSJIkFcWwp6ozbVpe0L3llM9+/WDwYNhqK+jVq/HWsyd07VpkxbVp3jz4y1+aB7vJkxv3b7tt82C3226w7rrF1StJkqTmDHuqai2nfI4bBwsXNj8mAjbeuHkA7NULevdu/v066zgttC0ffJD/npsGu9dfz41VALbcsnmw23132GCDYmuWJEnS0hn21K6kBHPn5oYvLW/TpjXenzPn449dc83WQ2DTcLjJJrmBSC1buBBefDEHuoZr7V59NQdryH8XTYNd//7Qo0exNUuSJGn5LS3s2fhcVScCNtww33bZpe3jFi3Krf5bhsCG2xNP5K9LljR/XKdO+VrBpY0Q9uqVg2O51dXlYLZgwdK/Ls++uXNh0qTG33vjjfNyB4cd1hjsevYs/+8mSZKkYhn21G517w7bbJNvbamvh1mz2h4hfP11ePRReO+9jz923XVbD4E9euTOoisb0hYsgI8+WrHfvUsXWGON3PGy5dctt4ThwxtH7Xr1cmqrJElSR2TYU01bbbU8bXOTTfI1aG2ZPz+PErY2Qjh9OrzySl5DrmEaZGu6dWseupre32ijtve19XVp+2p9GqokSZJWnmFPIi8dsP32+daWJUvyQuKzZ+dg1zSAde9uAJMkSVJ1MexJy6hz58apnJIkSVK1W63oAiRJkiRJq17Zwl5E9ImICU1u8yLizNK+0yLi9YiYGBEXNnnMORExubTvgHLVJkmSJEm1rmzTOFNKrwO7AkREJ2A6cHdEfBY4GNglpfRhRGxcOqYvMALYEdgMeDgitk8p1ZWrRkmSJEmqVZWaxjkEeCulNBU4Cfh5SulDgJTSO6VjDgZuTSl9mFL6KzAZ2LNC9UmSJElSTalU2BsB3FK6vz0wKCKeiYjHI2KP0vZewN+bPGZaaZskSZIkaTmVPexFRFdgOHB7aVNnYH1gb+BbwJiICKC1ZZ9TKz/v+IgYHxHjZ82aVaaqJUmSJKl9q8TI3oHACymlmaXvpwF3pexZoB7YqLR98yaP6w3MaPnDUkrXppQGpJQG9OjRo8ylS5IkSVL7VImwN5LGKZwA/w18DiAitge6ArOBe4EREdEtIrYGtgOerUB9kiRJklRzyrqoekSsAQwFTmiy+Qbghoh4BVgMHJ1SSsDEiBgDvAosAU6xE6ckSZIkrZiyhr2U0gJgwxbbFgNfb+P484Hzy1mTJEmSJHUEkQfV2qeImAVMLbqOVmxEnpqq6uD5qC6ej+rjOakuno/q4vmoLp6P6uL5qA5bppRabWbSrsNetYqI8SmlAUXXoczzUV08H9XHc1JdPB/VxfNRXTwf1cXzUf0qtc6eJEmSJKmCDHuSJEmSVIMMe+VxbdEFqBnPR3XxfFQfz0l18XxUF89HdfF8VBfPR5Xzmj1JkiRJqkGO7EmSJElSDTLsrYSI+HxEvB4RkyPiu63s7xYRt5X2PxMRW1W+yo4hIjaPiMciYlJETIyIM1o5ZnBEvBcRE0q3HxRRa0cREVMi4uXS3/X4VvZHRFxRen68FBG7F1FnRxARfZr8u58QEfMi4swWx/j8KLOIuCEi3omIV5ps2yAiHoqIN0tf12/jsUeXjnkzIo6uXNW1q43zcVFEvFZ6Tbo7ItZr47FLfX3T8mvjfPwwIqY3eV06qI3HLvX9mJZfG+fjtibnYkpETGjjsT4/qojTOFdQRHQC3gCGAtOA54CRKaVXmxxzMrBLSunEiBgBfDml9LVCCq5xEdET6JlSeiEi1gaeBw5pcT4GA2enlL5YUJkdSkRMAQaklFpdf6f0n/ZpwEHAXsDlKaW9Kldhx1R67ZoO7JVSmtpk+2B8fpRVROwHzAd+n1LaqbTtQmBuSunnpTep66eUvtPicRsA44EBQCK/vvVPKb1b0V+gxrRxPoYBj6aUlkTEBQAtz0fpuCks5fVNy6+N8/FDYH5K6RdLedwnvh/T8mvtfLTYfzHwXkrpP1vZNwWfH1XDkb0VtycwOaX0fymlxcCtwMEtjjkY+K/S/TuAIRERFayxw0gpvZ1SeqF0/31gEtCr2Kr0CQ4m/yeSUkrjgPVKoV3lNQR4q2nQU2WklJ4A5rbY3PT/if8CDmnloQcAD6WU5pYC3kPA58tWaAfR2vlIKY1NKS0pfTsO6F3xwjqoNp4fy2JZ3o9pOS3tfJTey34VuKWiRWmFGPZWXC/g702+n8bHw8W/jin95/EesGFFquvAStNldwOeaWX3wIh4MSLuj4gdK1pYx5OAsRHxfEQc38r+ZXkOadUbQdv/Qfv8qLxNUkpvQ/7QCti4lWN8rhTjWOD+NvZ90uubVp1TS9Nqb2hjmrPPj8obBMxMKb3Zxn6fH1XEsLfiWhuhazkndlmO0SoUEWsBdwJnppTmtdj9ArBlSqkf8EvgvytdXwezT0ppd+BA4JTSlJCmfH5UWER0BYYDt7ey2+dH9fK5UmERcR6wBBjdxiGf9PqmVeNqYFtgV+Bt4OJWjvH5UXkjWfqons+PKmLYW3HTgM2bfN8bmNHWMRHRGViXFZuioGUQEV3IQW90SumulvtTSvNSSvNL9/8H6BIRG1W4zA4jpTSj9PUd4G7yVJumluU5pFXrQOCFlNLMljt8fhRmZsP05dLXd1o5xudKBZUa4HwRGJXaaGywDK9vWgVSSjNTSnUppXrgOlr/e/b5UUGl97OHAre1dYzPj+pi2FuAsHtVAAADDUlEQVRxzwHbRcTWpU/LRwD3tjjmXqCha9pXyBd9+2lTGZTmj/8GmJRSuqSNYzZtuGYyIvYk//ufU7kqO46IWLPUKIeIWBMYBrzS4rB7gaMi25t8offbFS61o2nz01ifH4Vp+v/E0cA9rRzzIDAsItYvTWMbVtqmVSwiPg98BxieUlrQxjHL8vqmVaDFddxfpvW/52V5P6ZVZ3/gtZTStNZ2+vyoPp2LLqC9KnXqOpX8H24n4IaU0sSI+E9gfErpXnL4uDEiJpNH9EYUV3HN2wc4Eni5SSvgc4EtAFJK15AD90kRsQRYCIwwfJfNJsDdpezQGbg5pfRARJwI/zof/0PuxDkZWAD8e0G1dggRsQa5W90JTbY1PR8+P8osIm4BBgMbRcQ04P8BPwfGRMRxwN+Aw0vHDgBOTCl9I6U0NyJ+TH5TC/CfKSVniaykNs7HOUA34KHS69e4UkftzYDrU0oH0cbrWwG/Qk1p43wMjohdydMyp1B6/Wp6Ptp6P1bAr1BTWjsfKaXf0Mp13z4/qptLL0iSJElSDXIapyRJkiTVIMOeJEmSJNUgw54kSZIk1SDDniRJkiTVIMOeJEmSJNUgl16QJKkkIjYEHil9uylQB8wqfb8gpfTpQgqTJGkFuPSCJEmtiIgfAvNTSr8ouhZJklaE0zglSVoGETG/9HVwRDweEWMi4o2I+HlEjIqIZyPi5YjYtnRcj4i4MyKeK932KfY3kCR1NIY9SZKWXz/gDGBn4Ehg+5TSnsD1wGmlYy4HLk0p7QEcVtonSVLFeM2eJEnL77mU0tsAEfEWMLa0/WXgs6X7+wN9I6LhMetExNoppfcrWqkkqcMy7EmStPw+bHK/vsn39TT+37oaMDCltLCShUmS1MBpnJIklcdY4NSGbyJi1wJrkSR1QIY9SZLK43RgQES8FBGvAicWXZAkqWNx6QVJkiRJqkGO7EmSJElSDTLsSZIkSVINMuxJkiRJUg0y7EmSJElSDTLsSZIkSVINMuxJkiRJUg0y7EmSJElSDTLsSZIkSVIN+v+r87TmeVkmCAAAAABJRU5ErkJggg==\n",
      "text/plain": [
       "<Figure size 1080x360 with 1 Axes>"
      ]
     },
     "metadata": {
      "needs_background": "light"
     },
     "output_type": "display_data"
    }
   ],
   "source": [
    "#Visualize Results\n",
    "plt.figure(figsize=(15,5))\n",
    "plt.plot(test_set, color='red', label = \"Real stock price\")\n",
    "plt.plot(y_pred, color='blue', label = \"Predicted stock price\")\n",
    "plt.title(\"Google Stock Price Compared to Test Set\")\n",
    "plt.xlabel(\"Time\")\n",
    "plt.ylabel(\"Stock Price\")\n",
    "plt.legend()\n",
    "plt.show()"
   ]
  },
  {
   "cell_type": "markdown",
   "metadata": {},
   "source": [
    "# Linear Regression"
   ]
  },
  {
   "cell_type": "code",
   "execution_count": 289,
   "metadata": {},
   "outputs": [],
   "source": [
    "from sklearn.linear_model import LinearRegression\n",
    "from sklearn import metrics"
   ]
  },
  {
   "cell_type": "code",
   "execution_count": 290,
   "metadata": {},
   "outputs": [
    {
     "data": {
      "text/html": [
       "<div>\n",
       "<style scoped>\n",
       "    .dataframe tbody tr th:only-of-type {\n",
       "        vertical-align: middle;\n",
       "    }\n",
       "\n",
       "    .dataframe tbody tr th {\n",
       "        vertical-align: top;\n",
       "    }\n",
       "\n",
       "    .dataframe thead th {\n",
       "        text-align: right;\n",
       "    }\n",
       "</style>\n",
       "<table border=\"1\" class=\"dataframe\">\n",
       "  <thead>\n",
       "    <tr style=\"text-align: right;\">\n",
       "      <th></th>\n",
       "      <th>Date</th>\n",
       "      <th>Open</th>\n",
       "      <th>High</th>\n",
       "      <th>Low</th>\n",
       "      <th>Close</th>\n",
       "      <th>Volume</th>\n",
       "    </tr>\n",
       "  </thead>\n",
       "  <tbody>\n",
       "    <tr>\n",
       "      <th>0</th>\n",
       "      <td>2012-01-03</td>\n",
       "      <td>325.25</td>\n",
       "      <td>332.83</td>\n",
       "      <td>324.97</td>\n",
       "      <td>663.59</td>\n",
       "      <td>7380500.0</td>\n",
       "    </tr>\n",
       "    <tr>\n",
       "      <th>1</th>\n",
       "      <td>2012-01-04</td>\n",
       "      <td>331.27</td>\n",
       "      <td>333.87</td>\n",
       "      <td>329.08</td>\n",
       "      <td>666.45</td>\n",
       "      <td>5749400.0</td>\n",
       "    </tr>\n",
       "    <tr>\n",
       "      <th>2</th>\n",
       "      <td>2012-01-05</td>\n",
       "      <td>329.83</td>\n",
       "      <td>330.75</td>\n",
       "      <td>326.89</td>\n",
       "      <td>657.21</td>\n",
       "      <td>6590300.0</td>\n",
       "    </tr>\n",
       "    <tr>\n",
       "      <th>3</th>\n",
       "      <td>2012-01-06</td>\n",
       "      <td>328.34</td>\n",
       "      <td>328.77</td>\n",
       "      <td>323.68</td>\n",
       "      <td>648.24</td>\n",
       "      <td>5405900.0</td>\n",
       "    </tr>\n",
       "    <tr>\n",
       "      <th>4</th>\n",
       "      <td>2012-01-09</td>\n",
       "      <td>322.04</td>\n",
       "      <td>322.29</td>\n",
       "      <td>309.46</td>\n",
       "      <td>620.76</td>\n",
       "      <td>11688800.0</td>\n",
       "    </tr>\n",
       "  </tbody>\n",
       "</table>\n",
       "</div>"
      ],
      "text/plain": [
       "         Date    Open    High     Low   Close      Volume\n",
       "0  2012-01-03  325.25  332.83  324.97  663.59   7380500.0\n",
       "1  2012-01-04  331.27  333.87  329.08  666.45   5749400.0\n",
       "2  2012-01-05  329.83  330.75  326.89  657.21   6590300.0\n",
       "3  2012-01-06  328.34  328.77  323.68  648.24   5405900.0\n",
       "4  2012-01-09  322.04  322.29  309.46  620.76  11688800.0"
      ]
     },
     "execution_count": 290,
     "metadata": {},
     "output_type": "execute_result"
    }
   ],
   "source": [
    "tr_data = train_data = pd.read_csv('Google_Stock_Price_Train.csv', date_parser = True)\n",
    "tr_data.head()"
   ]
  },
  {
   "cell_type": "code",
   "execution_count": 291,
   "metadata": {},
   "outputs": [
    {
     "data": {
      "text/html": [
       "<div>\n",
       "<style scoped>\n",
       "    .dataframe tbody tr th:only-of-type {\n",
       "        vertical-align: middle;\n",
       "    }\n",
       "\n",
       "    .dataframe tbody tr th {\n",
       "        vertical-align: top;\n",
       "    }\n",
       "\n",
       "    .dataframe thead th {\n",
       "        text-align: right;\n",
       "    }\n",
       "</style>\n",
       "<table border=\"1\" class=\"dataframe\">\n",
       "  <thead>\n",
       "    <tr style=\"text-align: right;\">\n",
       "      <th></th>\n",
       "      <th>Date</th>\n",
       "      <th>Open</th>\n",
       "      <th>High</th>\n",
       "      <th>Low</th>\n",
       "      <th>Close</th>\n",
       "      <th>Volume</th>\n",
       "    </tr>\n",
       "  </thead>\n",
       "  <tbody>\n",
       "    <tr>\n",
       "      <th>0</th>\n",
       "      <td>2017-01-03</td>\n",
       "      <td>778.81</td>\n",
       "      <td>789.63</td>\n",
       "      <td>775.80</td>\n",
       "      <td>786.14</td>\n",
       "      <td>1657300</td>\n",
       "    </tr>\n",
       "    <tr>\n",
       "      <th>1</th>\n",
       "      <td>2017-01-04</td>\n",
       "      <td>788.36</td>\n",
       "      <td>791.34</td>\n",
       "      <td>783.16</td>\n",
       "      <td>786.90</td>\n",
       "      <td>1073000</td>\n",
       "    </tr>\n",
       "    <tr>\n",
       "      <th>2</th>\n",
       "      <td>2017-01-05</td>\n",
       "      <td>786.08</td>\n",
       "      <td>794.48</td>\n",
       "      <td>785.02</td>\n",
       "      <td>794.02</td>\n",
       "      <td>1335200</td>\n",
       "    </tr>\n",
       "    <tr>\n",
       "      <th>3</th>\n",
       "      <td>2017-01-06</td>\n",
       "      <td>795.26</td>\n",
       "      <td>807.90</td>\n",
       "      <td>792.20</td>\n",
       "      <td>806.15</td>\n",
       "      <td>1640200</td>\n",
       "    </tr>\n",
       "    <tr>\n",
       "      <th>4</th>\n",
       "      <td>2017-01-09</td>\n",
       "      <td>806.40</td>\n",
       "      <td>809.97</td>\n",
       "      <td>802.83</td>\n",
       "      <td>806.65</td>\n",
       "      <td>1272400</td>\n",
       "    </tr>\n",
       "  </tbody>\n",
       "</table>\n",
       "</div>"
      ],
      "text/plain": [
       "         Date    Open    High     Low   Close   Volume\n",
       "0  2017-01-03  778.81  789.63  775.80  786.14  1657300\n",
       "1  2017-01-04  788.36  791.34  783.16  786.90  1073000\n",
       "2  2017-01-05  786.08  794.48  785.02  794.02  1335200\n",
       "3  2017-01-06  795.26  807.90  792.20  806.15  1640200\n",
       "4  2017-01-09  806.40  809.97  802.83  806.65  1272400"
      ]
     },
     "execution_count": 291,
     "metadata": {},
     "output_type": "execute_result"
    }
   ],
   "source": [
    "tst_data = pd.read_csv('Google_Stock_Price_Test.csv', date_parser = True)\n",
    "tst_data.head()"
   ]
  },
  {
   "cell_type": "code",
   "execution_count": 292,
   "metadata": {},
   "outputs": [],
   "source": [
    "x_tr = tr_data[['Open','High', 'Low', 'Volume']].values\n",
    "y_tr = tr_data['Close'].values"
   ]
  },
  {
   "cell_type": "code",
   "execution_count": 293,
   "metadata": {},
   "outputs": [],
   "source": [
    "x_tst = tst_data[['Open','High', 'Low', 'Volume']].values\n",
    "y_tst = tst_data['Close'].values"
   ]
  },
  {
   "cell_type": "code",
   "execution_count": 294,
   "metadata": {},
   "outputs": [],
   "source": [
    "x_train, y_train = x_tr, y_tr\n",
    "x_test, y_test = x_tst, y_tst"
   ]
  },
  {
   "cell_type": "code",
   "execution_count": 295,
   "metadata": {},
   "outputs": [
    {
     "data": {
      "text/plain": [
       "LinearRegression(copy_X=True, fit_intercept=True, n_jobs=None, normalize=False)"
      ]
     },
     "execution_count": 295,
     "metadata": {},
     "output_type": "execute_result"
    }
   ],
   "source": [
    "regressor = LinearRegression()\n",
    "regressor.fit(x_train, y_train)"
   ]
  },
  {
   "cell_type": "code",
   "execution_count": 296,
   "metadata": {},
   "outputs": [
    {
     "name": "stdout",
     "output_type": "stream",
     "text": [
      "[754.40588319 798.71235287 795.07824942 743.57927405 829.4820455\n",
      " 842.971888   824.66560288 819.38288804 853.16453882 836.00568628\n",
      " 850.32137505 809.50764    865.09686812 747.53742228 836.37799812\n",
      " 813.03267399 868.59517571 750.37950626 807.90366731 817.04218114]\n"
     ]
    }
   ],
   "source": [
    "predicted = regressor.predict(x_test)\n",
    "print(predicted)"
   ]
  },
  {
   "cell_type": "code",
   "execution_count": 297,
   "metadata": {},
   "outputs": [
    {
     "data": {
      "text/html": [
       "<div>\n",
       "<style scoped>\n",
       "    .dataframe tbody tr th:only-of-type {\n",
       "        vertical-align: middle;\n",
       "    }\n",
       "\n",
       "    .dataframe tbody tr th {\n",
       "        vertical-align: top;\n",
       "    }\n",
       "\n",
       "    .dataframe thead th {\n",
       "        text-align: right;\n",
       "    }\n",
       "</style>\n",
       "<table border=\"1\" class=\"dataframe\">\n",
       "  <thead>\n",
       "    <tr style=\"text-align: right;\">\n",
       "      <th></th>\n",
       "      <th>Actual</th>\n",
       "      <th>Predicted</th>\n",
       "    </tr>\n",
       "  </thead>\n",
       "  <tbody>\n",
       "    <tr>\n",
       "      <th>0</th>\n",
       "      <td>786.14</td>\n",
       "      <td>754.405883</td>\n",
       "    </tr>\n",
       "    <tr>\n",
       "      <th>1</th>\n",
       "      <td>786.90</td>\n",
       "      <td>798.712353</td>\n",
       "    </tr>\n",
       "    <tr>\n",
       "      <th>2</th>\n",
       "      <td>794.02</td>\n",
       "      <td>795.078249</td>\n",
       "    </tr>\n",
       "    <tr>\n",
       "      <th>3</th>\n",
       "      <td>806.15</td>\n",
       "      <td>743.579274</td>\n",
       "    </tr>\n",
       "    <tr>\n",
       "      <th>4</th>\n",
       "      <td>806.65</td>\n",
       "      <td>829.482045</td>\n",
       "    </tr>\n",
       "    <tr>\n",
       "      <th>5</th>\n",
       "      <td>804.79</td>\n",
       "      <td>842.971888</td>\n",
       "    </tr>\n",
       "    <tr>\n",
       "      <th>6</th>\n",
       "      <td>807.91</td>\n",
       "      <td>824.665603</td>\n",
       "    </tr>\n",
       "    <tr>\n",
       "      <th>7</th>\n",
       "      <td>806.36</td>\n",
       "      <td>819.382888</td>\n",
       "    </tr>\n",
       "    <tr>\n",
       "      <th>8</th>\n",
       "      <td>807.88</td>\n",
       "      <td>853.164539</td>\n",
       "    </tr>\n",
       "    <tr>\n",
       "      <th>9</th>\n",
       "      <td>804.61</td>\n",
       "      <td>836.005686</td>\n",
       "    </tr>\n",
       "    <tr>\n",
       "      <th>10</th>\n",
       "      <td>806.07</td>\n",
       "      <td>850.321375</td>\n",
       "    </tr>\n",
       "    <tr>\n",
       "      <th>11</th>\n",
       "      <td>802.17</td>\n",
       "      <td>809.507640</td>\n",
       "    </tr>\n",
       "    <tr>\n",
       "      <th>12</th>\n",
       "      <td>805.02</td>\n",
       "      <td>865.096868</td>\n",
       "    </tr>\n",
       "    <tr>\n",
       "      <th>13</th>\n",
       "      <td>819.31</td>\n",
       "      <td>747.537422</td>\n",
       "    </tr>\n",
       "    <tr>\n",
       "      <th>14</th>\n",
       "      <td>823.87</td>\n",
       "      <td>836.377998</td>\n",
       "    </tr>\n",
       "    <tr>\n",
       "      <th>15</th>\n",
       "      <td>835.67</td>\n",
       "      <td>813.032674</td>\n",
       "    </tr>\n",
       "    <tr>\n",
       "      <th>16</th>\n",
       "      <td>832.15</td>\n",
       "      <td>868.595176</td>\n",
       "    </tr>\n",
       "    <tr>\n",
       "      <th>17</th>\n",
       "      <td>823.31</td>\n",
       "      <td>750.379506</td>\n",
       "    </tr>\n",
       "    <tr>\n",
       "      <th>18</th>\n",
       "      <td>802.32</td>\n",
       "      <td>807.903667</td>\n",
       "    </tr>\n",
       "    <tr>\n",
       "      <th>19</th>\n",
       "      <td>796.79</td>\n",
       "      <td>817.042181</td>\n",
       "    </tr>\n",
       "  </tbody>\n",
       "</table>\n",
       "</div>"
      ],
      "text/plain": [
       "    Actual   Predicted\n",
       "0   786.14  754.405883\n",
       "1   786.90  798.712353\n",
       "2   794.02  795.078249\n",
       "3   806.15  743.579274\n",
       "4   806.65  829.482045\n",
       "5   804.79  842.971888\n",
       "6   807.91  824.665603\n",
       "7   806.36  819.382888\n",
       "8   807.88  853.164539\n",
       "9   804.61  836.005686\n",
       "10  806.07  850.321375\n",
       "11  802.17  809.507640\n",
       "12  805.02  865.096868\n",
       "13  819.31  747.537422\n",
       "14  823.87  836.377998\n",
       "15  835.67  813.032674\n",
       "16  832.15  868.595176\n",
       "17  823.31  750.379506\n",
       "18  802.32  807.903667\n",
       "19  796.79  817.042181"
      ]
     },
     "execution_count": 297,
     "metadata": {},
     "output_type": "execute_result"
    }
   ],
   "source": [
    "dframe = pd.DataFrame({'Actual':y_test.flatten(), 'Predicted':predicted.flatten()})\n",
    "dframe.head(20)"
   ]
  },
  {
   "cell_type": "code",
   "execution_count": 298,
   "metadata": {},
   "outputs": [],
   "source": [
    "import math"
   ]
  },
  {
   "cell_type": "code",
   "execution_count": 299,
   "metadata": {},
   "outputs": [
    {
     "data": {
      "image/png": "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\n",
      "text/plain": [
       "<Figure size 1440x360 with 1 Axes>"
      ]
     },
     "metadata": {
      "needs_background": "light"
     },
     "output_type": "display_data"
    }
   ],
   "source": [
    "plt.figure(figsize=(20,5))\n",
    "plt.plot(y_test, color='red', label = \"Real stock price\")\n",
    "plt.plot(predicted, color='blue', label = \"Predicted stock price\")\n",
    "plt.title(\"Prediction of Google Stock Price\")\n",
    "plt.xlabel(\"Time\")\n",
    "plt.ylabel(\"Stock Price\")\n",
    "plt.legend()\n",
    "plt.show()"
   ]
  },
  {
   "cell_type": "markdown",
   "metadata": {},
   "source": [
    "## NEW MODEL TESTING Test/Train Split LSTM"
   ]
  },
  {
   "cell_type": "code",
   "execution_count": 8,
   "metadata": {},
   "outputs": [
    {
     "data": {
      "text/html": [
       "<div>\n",
       "<style scoped>\n",
       "    .dataframe tbody tr th:only-of-type {\n",
       "        vertical-align: middle;\n",
       "    }\n",
       "\n",
       "    .dataframe tbody tr th {\n",
       "        vertical-align: top;\n",
       "    }\n",
       "\n",
       "    .dataframe thead th {\n",
       "        text-align: right;\n",
       "    }\n",
       "</style>\n",
       "<table border=\"1\" class=\"dataframe\">\n",
       "  <thead>\n",
       "    <tr style=\"text-align: right;\">\n",
       "      <th></th>\n",
       "      <th>Date</th>\n",
       "      <th>Open</th>\n",
       "      <th>High</th>\n",
       "      <th>Low</th>\n",
       "      <th>Close</th>\n",
       "      <th>Volume</th>\n",
       "    </tr>\n",
       "  </thead>\n",
       "  <tbody>\n",
       "    <tr>\n",
       "      <th>0</th>\n",
       "      <td>2012-01-03</td>\n",
       "      <td>325.25</td>\n",
       "      <td>332.83</td>\n",
       "      <td>324.97</td>\n",
       "      <td>663.59</td>\n",
       "      <td>7380500.0</td>\n",
       "    </tr>\n",
       "    <tr>\n",
       "      <th>1</th>\n",
       "      <td>2012-01-04</td>\n",
       "      <td>331.27</td>\n",
       "      <td>333.87</td>\n",
       "      <td>329.08</td>\n",
       "      <td>666.45</td>\n",
       "      <td>5749400.0</td>\n",
       "    </tr>\n",
       "    <tr>\n",
       "      <th>2</th>\n",
       "      <td>2012-01-05</td>\n",
       "      <td>329.83</td>\n",
       "      <td>330.75</td>\n",
       "      <td>326.89</td>\n",
       "      <td>657.21</td>\n",
       "      <td>6590300.0</td>\n",
       "    </tr>\n",
       "    <tr>\n",
       "      <th>3</th>\n",
       "      <td>2012-01-06</td>\n",
       "      <td>328.34</td>\n",
       "      <td>328.77</td>\n",
       "      <td>323.68</td>\n",
       "      <td>648.24</td>\n",
       "      <td>5405900.0</td>\n",
       "    </tr>\n",
       "    <tr>\n",
       "      <th>4</th>\n",
       "      <td>2012-01-09</td>\n",
       "      <td>322.04</td>\n",
       "      <td>322.29</td>\n",
       "      <td>309.46</td>\n",
       "      <td>620.76</td>\n",
       "      <td>11688800.0</td>\n",
       "    </tr>\n",
       "    <tr>\n",
       "      <th>...</th>\n",
       "      <td>...</td>\n",
       "      <td>...</td>\n",
       "      <td>...</td>\n",
       "      <td>...</td>\n",
       "      <td>...</td>\n",
       "      <td>...</td>\n",
       "    </tr>\n",
       "    <tr>\n",
       "      <th>1253</th>\n",
       "      <td>2016-12-23</td>\n",
       "      <td>790.90</td>\n",
       "      <td>792.74</td>\n",
       "      <td>787.28</td>\n",
       "      <td>789.91</td>\n",
       "      <td>623400.0</td>\n",
       "    </tr>\n",
       "    <tr>\n",
       "      <th>1254</th>\n",
       "      <td>2016-12-27</td>\n",
       "      <td>790.68</td>\n",
       "      <td>797.86</td>\n",
       "      <td>787.66</td>\n",
       "      <td>791.55</td>\n",
       "      <td>789100.0</td>\n",
       "    </tr>\n",
       "    <tr>\n",
       "      <th>1255</th>\n",
       "      <td>2016-12-28</td>\n",
       "      <td>793.70</td>\n",
       "      <td>794.23</td>\n",
       "      <td>783.20</td>\n",
       "      <td>785.05</td>\n",
       "      <td>1153800.0</td>\n",
       "    </tr>\n",
       "    <tr>\n",
       "      <th>1256</th>\n",
       "      <td>2016-12-29</td>\n",
       "      <td>783.33</td>\n",
       "      <td>785.93</td>\n",
       "      <td>778.92</td>\n",
       "      <td>782.79</td>\n",
       "      <td>744300.0</td>\n",
       "    </tr>\n",
       "    <tr>\n",
       "      <th>1257</th>\n",
       "      <td>2016-12-30</td>\n",
       "      <td>782.75</td>\n",
       "      <td>782.78</td>\n",
       "      <td>770.41</td>\n",
       "      <td>771.82</td>\n",
       "      <td>1770000.0</td>\n",
       "    </tr>\n",
       "  </tbody>\n",
       "</table>\n",
       "<p>1258 rows × 6 columns</p>\n",
       "</div>"
      ],
      "text/plain": [
       "            Date    Open    High     Low   Close      Volume\n",
       "0     2012-01-03  325.25  332.83  324.97  663.59   7380500.0\n",
       "1     2012-01-04  331.27  333.87  329.08  666.45   5749400.0\n",
       "2     2012-01-05  329.83  330.75  326.89  657.21   6590300.0\n",
       "3     2012-01-06  328.34  328.77  323.68  648.24   5405900.0\n",
       "4     2012-01-09  322.04  322.29  309.46  620.76  11688800.0\n",
       "...          ...     ...     ...     ...     ...         ...\n",
       "1253  2016-12-23  790.90  792.74  787.28  789.91    623400.0\n",
       "1254  2016-12-27  790.68  797.86  787.66  791.55    789100.0\n",
       "1255  2016-12-28  793.70  794.23  783.20  785.05   1153800.0\n",
       "1256  2016-12-29  783.33  785.93  778.92  782.79    744300.0\n",
       "1257  2016-12-30  782.75  782.78  770.41  771.82   1770000.0\n",
       "\n",
       "[1258 rows x 6 columns]"
      ]
     },
     "execution_count": 8,
     "metadata": {},
     "output_type": "execute_result"
    }
   ],
   "source": [
    "data = pd.read_csv('Google_Stock_Price_Train.csv', date_parser = True)\n",
    "\n",
    "\n",
    "\n",
    "test_data = data[data['Date'] > '2016-06-01'].copy()\n",
    "\n",
    "\n",
    "\n",
    "train_data = data[data['Date'] < '2016-06-01'].copy()\n",
    "\n",
    "data"
   ]
  },
  {
   "cell_type": "code",
   "execution_count": 246,
   "metadata": {},
   "outputs": [
    {
     "data": {
      "text/plain": [
       "array([[0.08581368, 0.09640129, 0.09044931, 0.23757287, 0.29525831],\n",
       "       [0.09701243, 0.09834351, 0.09823458, 0.24151427, 0.22993592],\n",
       "       [0.09433366, 0.09251685, 0.09408623, 0.22878051, 0.26361233],\n",
       "       ...,\n",
       "       [0.95725128, 0.95807422, 0.95844067, 0.40495845, 0.04589107],\n",
       "       [0.93796041, 0.94257381, 0.95033338, 0.40184391, 0.02949139],\n",
       "       [0.93688146, 0.93669113, 0.93421352, 0.38672602, 0.07056868]])"
      ]
     },
     "execution_count": 246,
     "metadata": {},
     "output_type": "execute_result"
    }
   ],
   "source": [
    "scaler = MinMaxScaler(feature_range=(0,1))\n",
    "\n",
    "training_data = data.drop(['Date'], axis = 1)\n",
    "training_data = scaler.fit_transform(training_data)\n",
    "\n",
    "training_data"
   ]
  },
  {
   "cell_type": "code",
   "execution_count": 247,
   "metadata": {},
   "outputs": [
    {
     "data": {
      "text/plain": [
       "1258"
      ]
     },
     "execution_count": 247,
     "metadata": {},
     "output_type": "execute_result"
    }
   ],
   "source": [
    "X_train = [] \n",
    "y_train = []\n",
    "\n",
    "training_data.shape[0]"
   ]
  },
  {
   "cell_type": "code",
   "execution_count": 248,
   "metadata": {},
   "outputs": [],
   "source": [
    "for i in range(60, training_data.shape[0]):\n",
    "    X_train.append(training_data[i-60:i])\n",
    "    y_train.append(training_data[i, 0])\n",
    "    "
   ]
  },
  {
   "cell_type": "code",
   "execution_count": 249,
   "metadata": {},
   "outputs": [
    {
     "data": {
      "text/plain": [
       "((1198, 60, 5), (1198,))"
      ]
     },
     "execution_count": 249,
     "metadata": {},
     "output_type": "execute_result"
    }
   ],
   "source": [
    "X_train, y_train = np.array(X_train), np.array(y_train)\n",
    "\n",
    "X_train.shape, y_train.shape"
   ]
  },
  {
   "cell_type": "code",
   "execution_count": 250,
   "metadata": {},
   "outputs": [
    {
     "name": "stdout",
     "output_type": "stream",
     "text": [
      "Model: \"sequential_15\"\n",
      "_________________________________________________________________\n",
      "Layer (type)                 Output Shape              Param #   \n",
      "=================================================================\n",
      "lstm_56 (LSTM)               (None, 60, 50)            11200     \n",
      "_________________________________________________________________\n",
      "dropout_56 (Dropout)         (None, 60, 50)            0         \n",
      "_________________________________________________________________\n",
      "lstm_57 (LSTM)               (None, 60, 60)            26640     \n",
      "_________________________________________________________________\n",
      "dropout_57 (Dropout)         (None, 60, 60)            0         \n",
      "_________________________________________________________________\n",
      "lstm_58 (LSTM)               (None, 60, 80)            45120     \n",
      "_________________________________________________________________\n",
      "dropout_58 (Dropout)         (None, 60, 80)            0         \n",
      "_________________________________________________________________\n",
      "lstm_59 (LSTM)               (None, 120)               96480     \n",
      "_________________________________________________________________\n",
      "dropout_59 (Dropout)         (None, 120)               0         \n",
      "_________________________________________________________________\n",
      "dense_14 (Dense)             (None, 1)                 121       \n",
      "=================================================================\n",
      "Total params: 179,561\n",
      "Trainable params: 179,561\n",
      "Non-trainable params: 0\n",
      "_________________________________________________________________\n"
     ]
    }
   ],
   "source": [
    "reg = Sequential()\n",
    "\n",
    "reg.add(LSTM(units = 50,return_sequences = True,  input_shape=(X_train.shape[1], 5)))\n",
    "reg.add(Dropout(0.2))\n",
    "\n",
    "\n",
    "#Second LSTM Layer\n",
    "reg.add(LSTM(units = 60, return_sequences = True))\n",
    "reg.add(Dropout(0.3))\n",
    "\n",
    "# Third LSTM Layer\n",
    "reg.add(LSTM(units = 80, return_sequences = True))\n",
    "reg.add(Dropout(0.4))\n",
    "\n",
    "# Fourth LSTM Layer\n",
    "reg.add(LSTM(units = 120))\n",
    "reg.add(Dropout(0.5))\n",
    "\n",
    "\n",
    "# The output layer\n",
    "reg.add(Dense(units = 1))\n",
    "\n",
    "reg.summary()\n"
   ]
  },
  {
   "cell_type": "code",
   "execution_count": 251,
   "metadata": {},
   "outputs": [
    {
     "name": "stdout",
     "output_type": "stream",
     "text": [
      "Epoch 1/10\n",
      "38/38 [==============================] - 4s 104ms/step - loss: 0.0302\n",
      "Epoch 2/10\n",
      "38/38 [==============================] - 4s 101ms/step - loss: 0.0077\n",
      "Epoch 3/10\n",
      "38/38 [==============================] - 4s 98ms/step - loss: 0.0072\n",
      "Epoch 4/10\n",
      "38/38 [==============================] - 4s 104ms/step - loss: 0.0072\n",
      "Epoch 5/10\n",
      "38/38 [==============================] - 4s 95ms/step - loss: 0.0060\n",
      "Epoch 6/10\n",
      "38/38 [==============================] - 4s 96ms/step - loss: 0.0063\n",
      "Epoch 7/10\n",
      "38/38 [==============================] - 4s 98ms/step - loss: 0.0055\n",
      "Epoch 8/10\n",
      "38/38 [==============================] - 4s 113ms/step - loss: 0.0067\n",
      "Epoch 9/10\n",
      "38/38 [==============================] - 6s 153ms/step - loss: 0.0055\n",
      "Epoch 10/10\n",
      "38/38 [==============================] - 6s 159ms/step - loss: 0.0061\n"
     ]
    },
    {
     "data": {
      "text/plain": [
       "<tensorflow.python.keras.callbacks.History at 0x7fc5a58496d0>"
      ]
     },
     "execution_count": 251,
     "metadata": {},
     "output_type": "execute_result"
    }
   ],
   "source": [
    "reg.compile(optimizer='adam', loss = 'mean_squared_error')\n",
    "\n",
    "reg.fit(X_train, y_train, epochs=10,batch_size=32)\n"
   ]
  },
  {
   "cell_type": "code",
   "execution_count": 252,
   "metadata": {},
   "outputs": [],
   "source": [
    "test_data\n",
    "\n",
    "past_60_days= train_data.tail(60)\n",
    "\n",
    "df = past_60_days.append(test_data, ignore_index=True)\n",
    "\n",
    "df = df.drop(['Date'], axis = 1)"
   ]
  },
  {
   "cell_type": "code",
   "execution_count": 253,
   "metadata": {},
   "outputs": [
    {
     "data": {
      "text/plain": [
       "array([[0.79578094, 0.79720619, 0.77602667, 0.28107989, 0.11923108],\n",
       "       [0.76171962, 0.78917586, 0.77307168, 0.27943993, 0.0828354 ],\n",
       "       [0.78009897, 0.79270547, 0.78947568, 0.29497127, 0.05661193],\n",
       "       ...,\n",
       "       [0.95725128, 0.95807422, 0.95844067, 0.40495845, 0.04589107],\n",
       "       [0.93796041, 0.94257381, 0.95033338, 0.40184391, 0.02949139],\n",
       "       [0.93688146, 0.93669113, 0.93421352, 0.38672602, 0.07056868]])"
      ]
     },
     "execution_count": 253,
     "metadata": {},
     "output_type": "execute_result"
    }
   ],
   "source": [
    "inputs = scaler.transform(df)\n",
    "inputs"
   ]
  },
  {
   "cell_type": "code",
   "execution_count": 254,
   "metadata": {},
   "outputs": [
    {
     "data": {
      "text/plain": [
       "((148, 60, 5), (148,))"
      ]
     },
     "execution_count": 254,
     "metadata": {},
     "output_type": "execute_result"
    }
   ],
   "source": [
    "X_test = []\n",
    "y_test = []\n",
    "\n",
    "for i in range(60, inputs.shape[0]):\n",
    "    X_test.append(inputs[i-60:i])\n",
    "    y_test.append(inputs[i,0])\n",
    "    \n",
    "X_test, y_test = np.array(X_test), np.array(y_test)\n",
    "\n",
    "X_test.shape, y_test.shape"
   ]
  },
  {
   "cell_type": "code",
   "execution_count": 261,
   "metadata": {},
   "outputs": [
    {
     "data": {
      "text/plain": [
       "array([1.86025746e-03, 1.86751825e-03, 1.89422640e-03, 1.37811281e-03,\n",
       "       4.00480577e-08])"
      ]
     },
     "execution_count": 261,
     "metadata": {},
     "output_type": "execute_result"
    }
   ],
   "source": [
    "y_pred = reg.predict(X_test)\n",
    "\n",
    "scaler.scale_"
   ]
  },
  {
   "cell_type": "code",
   "execution_count": 262,
   "metadata": {},
   "outputs": [
    {
     "data": {
      "text/plain": [
       "537.5599998937781"
      ]
     },
     "execution_count": 262,
     "metadata": {},
     "output_type": "execute_result"
    }
   ],
   "source": [
    "scale = 1/1.86025746e-03\n",
    "scale"
   ]
  },
  {
   "cell_type": "markdown",
   "metadata": {},
   "source": [
    "# Visualize"
   ]
  },
  {
   "cell_type": "code",
   "execution_count": 263,
   "metadata": {},
   "outputs": [],
   "source": [
    "y_pred = y_pred*scale\n",
    "y_test= y_test*scale"
   ]
  },
  {
   "cell_type": "code",
   "execution_count": 265,
   "metadata": {},
   "outputs": [
    {
     "data": {
      "image/png": "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\n",
      "text/plain": [
       "<Figure size 1440x360 with 1 Axes>"
      ]
     },
     "metadata": {
      "needs_background": "light"
     },
     "output_type": "display_data"
    }
   ],
   "source": [
    "#Visualize Results\n",
    "plt.figure(figsize=(20,5))\n",
    "plt.plot(y_test, color='red', label = \"Real stock price\")\n",
    "plt.plot(y_pred, color='blue', label = \"Predicted stock price\")\n",
    "plt.title(\"Prediction of Google Stock Price From Training Set\")\n",
    "plt.xlabel(\"Time\")\n",
    "plt.ylabel(\"Stock Price\")\n",
    "plt.legend()\n",
    "plt.show()"
   ]
  }
 ],
 "metadata": {
  "kernelspec": {
   "display_name": "Python 3",
   "language": "python",
   "name": "python3"
  },
  "language_info": {
   "codemirror_mode": {
    "name": "ipython",
    "version": 3
   },
   "file_extension": ".py",
   "mimetype": "text/x-python",
   "name": "python",
   "nbconvert_exporter": "python",
   "pygments_lexer": "ipython3",
   "version": "3.7.6"
  }
 },
 "nbformat": 4,
 "nbformat_minor": 4
}
